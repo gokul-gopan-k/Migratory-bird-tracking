{
 "cells": [
  {
   "cell_type": "code",
   "execution_count": 1,
   "metadata": {},
   "outputs": [
    {
     "name": "stderr",
     "output_type": "stream",
     "text": [
      "/Users/gokulgopank/Documents/Bird_1/.venv/lib/python3.9/site-packages/urllib3/__init__.py:35: NotOpenSSLWarning: urllib3 v2 only supports OpenSSL 1.1.1+, currently the 'ssl' module is compiled with 'LibreSSL 2.8.3'. See: https://github.com/urllib3/urllib3/issues/3020\n",
      "  warnings.warn(\n",
      "/Users/gokulgopank/Documents/Bird_1/.venv/lib/python3.9/site-packages/tqdm/auto.py:21: TqdmWarning: IProgress not found. Please update jupyter and ipywidgets. See https://ipywidgets.readthedocs.io/en/stable/user_install.html\n",
      "  from .autonotebook import tqdm as notebook_tqdm\n"
     ]
    }
   ],
   "source": [
    "import os\n",
    "import numpy as np\n",
    "from pydub import AudioSegment\n",
    "import librosa\n",
    "import tensorflow as tf\n",
    "import tensorflow_hub as hub\n",
    "from tensorflow.keras import layers, models\n",
    "from sklearn.model_selection import train_test_split\n",
    "from sklearn.metrics import classification_report\n",
    "from sklearn.metrics import confusion_matrix\n",
    "from sklearn.preprocessing import LabelEncoder\n",
    "import pandas as pd\n",
    "import pickle\n",
    "from tqdm import tqdm\n",
    "\n",
    "import seaborn as sns\n",
    "import matplotlib.pyplot as plt\n",
    "\n",
    "import geopandas as gpd\n",
    "import gradio as gr\n",
    "import plotly.express as px\n"
   ]
  },
  {
   "cell_type": "markdown",
   "metadata": {},
   "source": [
    "### Set directory paths"
   ]
  },
  {
   "cell_type": "code",
   "execution_count": 2,
   "metadata": {},
   "outputs": [],
   "source": [
    "# Directory paths for input MP3s and output WAVs\n",
    "input_mp3_dir = 'Voice of Birds/Voice of Birds'\n",
    "output_wav_dir = 'wav_files'\n",
    "os.makedirs(output_wav_dir, exist_ok=True)"
   ]
  },
  {
   "cell_type": "markdown",
   "metadata": {},
   "source": [
    "### Processing audio files\n",
    "Convert audio files to wav format at 16KHz which is required for YamNet model"
   ]
  },
  {
   "cell_type": "code",
   "execution_count": 3,
   "metadata": {},
   "outputs": [],
   "source": [
    "# Convert MP3 to WAV with 16kHz\n",
    "def convert_mp3_to_wav(mp3_path, wav_path):\n",
    "    sound = AudioSegment.from_mp3(mp3_path)\n",
    "    sound = sound.set_frame_rate(16000)  # Resample to 16kHz\n",
    "    sound = sound.set_channels(1)        # Convert to mono\n",
    "    sound.export(wav_path, format=\"wav\")\n",
    "    return wav_path\n",
    "\n",
    "# Convert all MP3 files in a directory (including subdirectories) to WAV format\n",
    "def process_audio_files(input_dir, output_dir):\n",
    "    wav_paths = []\n",
    "    \n",
    "    # Walk through the directory\n",
    "    for root, dirs, files in tqdm(os.walk(input_dir)):\n",
    "        # Determine the relative path to preserve folder structure\n",
    "        rel_dir = os.path.relpath(root, input_dir)\n",
    "        output_subdir = os.path.join(output_dir, rel_dir)\n",
    "        \n",
    "        # Create subdirectory in the output folder if it doesn't exist\n",
    "        if not os.path.exists(output_subdir):\n",
    "            os.makedirs(output_subdir)\n",
    "\n",
    "        for filename in files:\n",
    "            if filename.endswith('.mp3'):\n",
    "                mp3_path = os.path.join(root, filename)\n",
    "                wav_path = os.path.join(output_subdir, f\"{os.path.splitext(filename)[0]}.wav\")\n",
    "                \n",
    "                # Convert MP3 to WAV and save it in the corresponding folder\n",
    "                convert_mp3_to_wav(mp3_path, wav_path)\n",
    "                wav_paths.append(wav_path)\n",
    "                print(f\"Converted {filename} to {wav_path}\")\n",
    "    \n",
    "    return wav_paths\n"
   ]
  },
  {
   "cell_type": "code",
   "execution_count": 4,
   "metadata": {},
   "outputs": [
    {
     "name": "stderr",
     "output_type": "stream",
     "text": [
      "0it [00:00, ?it/s]"
     ]
    },
    {
     "name": "stdout",
     "output_type": "stream",
     "text": [
      "Converted Moluccan Megapode2.mp3 to wav_files/Moluccan Megapode_sound/Moluccan Megapode2.wav\n",
      "Converted Moluccan Megapode3.mp3 to wav_files/Moluccan Megapode_sound/Moluccan Megapode3.wav\n",
      "Converted Moluccan Megapode4.mp3 to wav_files/Moluccan Megapode_sound/Moluccan Megapode4.wav\n",
      "Converted Moluccan Megapode5.mp3 to wav_files/Moluccan Megapode_sound/Moluccan Megapode5.wav\n"
     ]
    },
    {
     "name": "stderr",
     "output_type": "stream",
     "text": [
      "2it [00:00,  2.55it/s]"
     ]
    },
    {
     "name": "stdout",
     "output_type": "stream",
     "text": [
      "Converted Moluccan Megapode7.mp3 to wav_files/Moluccan Megapode_sound/Moluccan Megapode7.wav\n",
      "Converted Moluccan Megapode6.mp3 to wav_files/Moluccan Megapode_sound/Moluccan Megapode6.wav\n",
      "Converted Micronesian Megapode3.mp3 to wav_files/Micronesian Megapode_sound/Micronesian Megapode3.wav\n",
      "Converted Micronesian Megapode2.mp3 to wav_files/Micronesian Megapode_sound/Micronesian Megapode2.wav\n",
      "Converted Micronesian Megapode6.mp3 to wav_files/Micronesian Megapode_sound/Micronesian Megapode6.wav\n",
      "Converted Micronesian Megapode7.mp3 to wav_files/Micronesian Megapode_sound/Micronesian Megapode7.wav\n",
      "Converted Micronesian Megapode5.mp3 to wav_files/Micronesian Megapode_sound/Micronesian Megapode5.wav\n",
      "Converted Micronesian Megapode4.mp3 to wav_files/Micronesian Megapode_sound/Micronesian Megapode4.wav\n"
     ]
    },
    {
     "name": "stderr",
     "output_type": "stream",
     "text": [
      "3it [00:01,  1.38it/s]"
     ]
    },
    {
     "name": "stdout",
     "output_type": "stream",
     "text": [
      "Converted Micronesian Megapode8.mp3 to wav_files/Micronesian Megapode_sound/Micronesian Megapode8.wav\n",
      "Converted Andean Tinamou17.mp3 to wav_files/Andean Tinamou_sound/Andean Tinamou17.wav\n",
      "Converted Andean Tinamou16.mp3 to wav_files/Andean Tinamou_sound/Andean Tinamou16.wav\n",
      "Converted Andean Tinamou8.mp3 to wav_files/Andean Tinamou_sound/Andean Tinamou8.wav\n",
      "Converted Andean Tinamou14.mp3 to wav_files/Andean Tinamou_sound/Andean Tinamou14.wav\n",
      "Converted Andean Tinamou28.mp3 to wav_files/Andean Tinamou_sound/Andean Tinamou28.wav\n",
      "Converted Andean Tinamou29.mp3 to wav_files/Andean Tinamou_sound/Andean Tinamou29.wav\n",
      "Converted Andean Tinamou15.mp3 to wav_files/Andean Tinamou_sound/Andean Tinamou15.wav\n",
      "Converted Andean Tinamou9.mp3 to wav_files/Andean Tinamou_sound/Andean Tinamou9.wav\n",
      "Converted Andean Tinamou11.mp3 to wav_files/Andean Tinamou_sound/Andean Tinamou11.wav\n",
      "Converted Andean Tinamou10.mp3 to wav_files/Andean Tinamou_sound/Andean Tinamou10.wav\n",
      "Converted Andean Tinamou12.mp3 to wav_files/Andean Tinamou_sound/Andean Tinamou12.wav\n",
      "Converted Andean Tinamou13.mp3 to wav_files/Andean Tinamou_sound/Andean Tinamou13.wav\n",
      "Converted Andean Tinamou2.mp3 to wav_files/Andean Tinamou_sound/Andean Tinamou2.wav\n",
      "Converted Andean Tinamou22.mp3 to wav_files/Andean Tinamou_sound/Andean Tinamou22.wav\n",
      "Converted Andean Tinamou23.mp3 to wav_files/Andean Tinamou_sound/Andean Tinamou23.wav\n",
      "Converted Andean Tinamou3.mp3 to wav_files/Andean Tinamou_sound/Andean Tinamou3.wav\n",
      "Converted Andean Tinamou21.mp3 to wav_files/Andean Tinamou_sound/Andean Tinamou21.wav\n",
      "Converted Andean Tinamou20.mp3 to wav_files/Andean Tinamou_sound/Andean Tinamou20.wav\n",
      "Converted Andean Tinamou4.mp3 to wav_files/Andean Tinamou_sound/Andean Tinamou4.wav\n",
      "Converted Andean Tinamou18.mp3 to wav_files/Andean Tinamou_sound/Andean Tinamou18.wav\n",
      "Converted Andean Tinamou30.mp3 to wav_files/Andean Tinamou_sound/Andean Tinamou30.wav\n",
      "Converted Andean Tinamou24.mp3 to wav_files/Andean Tinamou_sound/Andean Tinamou24.wav\n",
      "Converted Andean Tinamou25.mp3 to wav_files/Andean Tinamou_sound/Andean Tinamou25.wav\n",
      "Converted Andean Tinamou31.mp3 to wav_files/Andean Tinamou_sound/Andean Tinamou31.wav\n",
      "Converted Andean Tinamou19.mp3 to wav_files/Andean Tinamou_sound/Andean Tinamou19.wav\n",
      "Converted Andean Tinamou5.mp3 to wav_files/Andean Tinamou_sound/Andean Tinamou5.wav\n",
      "Converted Andean Tinamou7.mp3 to wav_files/Andean Tinamou_sound/Andean Tinamou7.wav\n",
      "Converted Andean Tinamou27.mp3 to wav_files/Andean Tinamou_sound/Andean Tinamou27.wav\n"
     ]
    },
    {
     "name": "stderr",
     "output_type": "stream",
     "text": [
      "4it [00:06,  2.04s/it]"
     ]
    },
    {
     "name": "stdout",
     "output_type": "stream",
     "text": [
      "Converted Andean Tinamou26.mp3 to wav_files/Andean Tinamou_sound/Andean Tinamou26.wav\n",
      "Converted Andean Tinamou6.mp3 to wav_files/Andean Tinamou_sound/Andean Tinamou6.wav\n",
      "Converted Wattled Brushturkey2.mp3 to wav_files/Wattled Brushturkey_sound/Wattled Brushturkey2.wav\n",
      "Converted Wattled Brushturkey3.mp3 to wav_files/Wattled Brushturkey_sound/Wattled Brushturkey3.wav\n"
     ]
    },
    {
     "name": "stderr",
     "output_type": "stream",
     "text": [
      "5it [00:06,  1.45s/it]"
     ]
    },
    {
     "name": "stdout",
     "output_type": "stream",
     "text": [
      "Converted Wattled Brushturkey4.mp3 to wav_files/Wattled Brushturkey_sound/Wattled Brushturkey4.wav\n",
      "Converted Red-billed Brushturkey6.mp3 to wav_files/Red-billed Brushturkey_sound/Red-billed Brushturkey6.wav\n",
      "Converted Red-billed Brushturkey7.mp3 to wav_files/Red-billed Brushturkey_sound/Red-billed Brushturkey7.wav\n",
      "Converted Red-billed Brushturkey5.mp3 to wav_files/Red-billed Brushturkey_sound/Red-billed Brushturkey5.wav\n",
      "Converted Red-billed Brushturkey4.mp3 to wav_files/Red-billed Brushturkey_sound/Red-billed Brushturkey4.wav\n",
      "Converted Red-billed Brushturkey3.mp3 to wav_files/Red-billed Brushturkey_sound/Red-billed Brushturkey3.wav\n"
     ]
    },
    {
     "name": "stderr",
     "output_type": "stream",
     "text": [
      "6it [00:07,  1.19s/it]"
     ]
    },
    {
     "name": "stdout",
     "output_type": "stream",
     "text": [
      "Converted Red-billed Brushturkey2.mp3 to wav_files/Red-billed Brushturkey_sound/Red-billed Brushturkey2.wav\n",
      "Converted Little Tinamou16.mp3 to wav_files/Little Tinamou_sound/Little Tinamou16.wav\n",
      "Converted Little Tinamou17.mp3 to wav_files/Little Tinamou_sound/Little Tinamou17.wav\n",
      "Converted Little Tinamou29.mp3 to wav_files/Little Tinamou_sound/Little Tinamou29.wav\n",
      "Converted Little Tinamou15.mp3 to wav_files/Little Tinamou_sound/Little Tinamou15.wav\n",
      "Converted Little Tinamou14.mp3 to wav_files/Little Tinamou_sound/Little Tinamou14.wav\n",
      "Converted Little Tinamou28.mp3 to wav_files/Little Tinamou_sound/Little Tinamou28.wav\n",
      "Converted Little Tinamou10.mp3 to wav_files/Little Tinamou_sound/Little Tinamou10.wav\n",
      "Converted Little Tinamou11.mp3 to wav_files/Little Tinamou_sound/Little Tinamou11.wav\n",
      "Converted Little Tinamou13.mp3 to wav_files/Little Tinamou_sound/Little Tinamou13.wav\n",
      "Converted Little Tinamou12.mp3 to wav_files/Little Tinamou_sound/Little Tinamou12.wav\n",
      "Converted Little Tinamou8.mp3 to wav_files/Little Tinamou_sound/Little Tinamou8.wav\n",
      "Converted Little Tinamou9.mp3 to wav_files/Little Tinamou_sound/Little Tinamou9.wav\n",
      "Converted Little Tinamou2.mp3 to wav_files/Little Tinamou_sound/Little Tinamou2.wav\n",
      "Converted Little Tinamou3.mp3 to wav_files/Little Tinamou_sound/Little Tinamou3.wav\n",
      "Converted Little Tinamou7.mp3 to wav_files/Little Tinamou_sound/Little Tinamou7.wav\n",
      "Converted Little Tinamou6.mp3 to wav_files/Little Tinamou_sound/Little Tinamou6.wav\n",
      "Converted Little Tinamou4.mp3 to wav_files/Little Tinamou_sound/Little Tinamou4.wav\n",
      "Converted Little Tinamou5.mp3 to wav_files/Little Tinamou_sound/Little Tinamou5.wav\n",
      "Converted Little Tinamou23.mp3 to wav_files/Little Tinamou_sound/Little Tinamou23.wav\n",
      "Converted Little Tinamou22.mp3 to wav_files/Little Tinamou_sound/Little Tinamou22.wav\n",
      "Converted Little Tinamou20.mp3 to wav_files/Little Tinamou_sound/Little Tinamou20.wav\n",
      "Converted Little Tinamou21.mp3 to wav_files/Little Tinamou_sound/Little Tinamou21.wav\n",
      "Converted Little Tinamou31.mp3 to wav_files/Little Tinamou_sound/Little Tinamou31.wav\n",
      "Converted Little Tinamou25.mp3 to wav_files/Little Tinamou_sound/Little Tinamou25.wav\n",
      "Converted Little Tinamou19.mp3 to wav_files/Little Tinamou_sound/Little Tinamou19.wav\n",
      "Converted Little Tinamou18.mp3 to wav_files/Little Tinamou_sound/Little Tinamou18.wav\n",
      "Converted Little Tinamou24.mp3 to wav_files/Little Tinamou_sound/Little Tinamou24.wav\n",
      "Converted Little Tinamou30.mp3 to wav_files/Little Tinamou_sound/Little Tinamou30.wav\n"
     ]
    },
    {
     "name": "stderr",
     "output_type": "stream",
     "text": [
      "7it [00:11,  2.25s/it]"
     ]
    },
    {
     "name": "stdout",
     "output_type": "stream",
     "text": [
      "Converted Little Tinamou26.mp3 to wav_files/Little Tinamou_sound/Little Tinamou26.wav\n",
      "Converted Little Tinamou27.mp3 to wav_files/Little Tinamou_sound/Little Tinamou27.wav\n",
      "Converted Speckled Chachalaca16.mp3 to wav_files/Speckled Chachalaca_sound/Speckled Chachalaca16.wav\n",
      "Converted Speckled Chachalaca17.mp3 to wav_files/Speckled Chachalaca_sound/Speckled Chachalaca17.wav\n",
      "Converted Speckled Chachalaca15.mp3 to wav_files/Speckled Chachalaca_sound/Speckled Chachalaca15.wav\n",
      "Converted Speckled Chachalaca29.mp3 to wav_files/Speckled Chachalaca_sound/Speckled Chachalaca29.wav\n",
      "Converted Speckled Chachalaca28.mp3 to wav_files/Speckled Chachalaca_sound/Speckled Chachalaca28.wav\n",
      "Converted Speckled Chachalaca14.mp3 to wav_files/Speckled Chachalaca_sound/Speckled Chachalaca14.wav\n",
      "Converted Speckled Chachalaca10.mp3 to wav_files/Speckled Chachalaca_sound/Speckled Chachalaca10.wav\n",
      "Converted Speckled Chachalaca11.mp3 to wav_files/Speckled Chachalaca_sound/Speckled Chachalaca11.wav\n",
      "Converted Speckled Chachalaca13.mp3 to wav_files/Speckled Chachalaca_sound/Speckled Chachalaca13.wav\n",
      "Converted Speckled Chachalaca12.mp3 to wav_files/Speckled Chachalaca_sound/Speckled Chachalaca12.wav\n",
      "Converted Speckled Chachalaca2.mp3 to wav_files/Speckled Chachalaca_sound/Speckled Chachalaca2.wav\n",
      "Converted Speckled Chachalaca3.mp3 to wav_files/Speckled Chachalaca_sound/Speckled Chachalaca3.wav\n",
      "Converted Speckled Chachalaca7.mp3 to wav_files/Speckled Chachalaca_sound/Speckled Chachalaca7.wav\n",
      "Converted Speckled Chachalaca6.mp3 to wav_files/Speckled Chachalaca_sound/Speckled Chachalaca6.wav\n",
      "Converted Speckled Chachalaca4.mp3 to wav_files/Speckled Chachalaca_sound/Speckled Chachalaca4.wav\n",
      "Converted Speckled Chachalaca5.mp3 to wav_files/Speckled Chachalaca_sound/Speckled Chachalaca5.wav\n",
      "Converted Speckled Chachalaca8.mp3 to wav_files/Speckled Chachalaca_sound/Speckled Chachalaca8.wav\n",
      "Converted Speckled Chachalaca9.mp3 to wav_files/Speckled Chachalaca_sound/Speckled Chachalaca9.wav\n",
      "Converted Speckled Chachalaca23.mp3 to wav_files/Speckled Chachalaca_sound/Speckled Chachalaca23.wav\n",
      "Converted Speckled Chachalaca22.mp3 to wav_files/Speckled Chachalaca_sound/Speckled Chachalaca22.wav\n",
      "Converted Speckled Chachalaca20.mp3 to wav_files/Speckled Chachalaca_sound/Speckled Chachalaca20.wav\n",
      "Converted Speckled Chachalaca21.mp3 to wav_files/Speckled Chachalaca_sound/Speckled Chachalaca21.wav\n",
      "Converted Speckled Chachalaca19.mp3 to wav_files/Speckled Chachalaca_sound/Speckled Chachalaca19.wav\n",
      "Converted Speckled Chachalaca25.mp3 to wav_files/Speckled Chachalaca_sound/Speckled Chachalaca25.wav\n",
      "Converted Speckled Chachalaca31.mp3 to wav_files/Speckled Chachalaca_sound/Speckled Chachalaca31.wav\n",
      "Converted Speckled Chachalaca30.mp3 to wav_files/Speckled Chachalaca_sound/Speckled Chachalaca30.wav\n",
      "Converted Speckled Chachalaca24.mp3 to wav_files/Speckled Chachalaca_sound/Speckled Chachalaca24.wav\n",
      "Converted Speckled Chachalaca18.mp3 to wav_files/Speckled Chachalaca_sound/Speckled Chachalaca18.wav\n",
      "Converted Speckled Chachalaca26.mp3 to wav_files/Speckled Chachalaca_sound/Speckled Chachalaca26.wav\n"
     ]
    },
    {
     "name": "stderr",
     "output_type": "stream",
     "text": [
      "9it [00:18,  2.48s/it]"
     ]
    },
    {
     "name": "stdout",
     "output_type": "stream",
     "text": [
      "Converted Speckled Chachalaca27.mp3 to wav_files/Speckled Chachalaca_sound/Speckled Chachalaca27.wav\n",
      "Converted Somali Ostrich2.mp3 to wav_files/Somali Ostrich_sound/Somali Ostrich2.wav\n",
      "Converted Chestnut-bellied Guan10.mp3 to wav_files/Chestnut-bellied Guan_sound/Chestnut-bellied Guan10.wav\n",
      "Converted Chestnut-bellied Guan11.mp3 to wav_files/Chestnut-bellied Guan_sound/Chestnut-bellied Guan11.wav\n",
      "Converted Chestnut-bellied Guan9.mp3 to wav_files/Chestnut-bellied Guan_sound/Chestnut-bellied Guan9.wav\n",
      "Converted Chestnut-bellied Guan13.mp3 to wav_files/Chestnut-bellied Guan_sound/Chestnut-bellied Guan13.wav\n",
      "Converted Chestnut-bellied Guan12.mp3 to wav_files/Chestnut-bellied Guan_sound/Chestnut-bellied Guan12.wav\n",
      "Converted Chestnut-bellied Guan8.mp3 to wav_files/Chestnut-bellied Guan_sound/Chestnut-bellied Guan8.wav\n",
      "Converted Chestnut-bellied Guan5.mp3 to wav_files/Chestnut-bellied Guan_sound/Chestnut-bellied Guan5.wav\n",
      "Converted Chestnut-bellied Guan4.mp3 to wav_files/Chestnut-bellied Guan_sound/Chestnut-bellied Guan4.wav\n",
      "Converted Chestnut-bellied Guan6.mp3 to wav_files/Chestnut-bellied Guan_sound/Chestnut-bellied Guan6.wav\n",
      "Converted Chestnut-bellied Guan7.mp3 to wav_files/Chestnut-bellied Guan_sound/Chestnut-bellied Guan7.wav\n",
      "Converted Chestnut-bellied Guan3.mp3 to wav_files/Chestnut-bellied Guan_sound/Chestnut-bellied Guan3.wav\n"
     ]
    },
    {
     "name": "stderr",
     "output_type": "stream",
     "text": [
      "10it [00:20,  2.37s/it]"
     ]
    },
    {
     "name": "stdout",
     "output_type": "stream",
     "text": [
      "Converted Chestnut-bellied Guan2.mp3 to wav_files/Chestnut-bellied Guan_sound/Chestnut-bellied Guan2.wav\n",
      "Converted Spixs Guan16.mp3 to wav_files/Spixs Guan_sound/Spixs Guan16.wav\n",
      "Converted Spixs Guan17.mp3 to wav_files/Spixs Guan_sound/Spixs Guan17.wav\n",
      "Converted Spixs Guan29.mp3 to wav_files/Spixs Guan_sound/Spixs Guan29.wav\n",
      "Converted Spixs Guan15.mp3 to wav_files/Spixs Guan_sound/Spixs Guan15.wav\n",
      "Converted Spixs Guan8.mp3 to wav_files/Spixs Guan_sound/Spixs Guan8.wav\n",
      "Converted Spixs Guan9.mp3 to wav_files/Spixs Guan_sound/Spixs Guan9.wav\n",
      "Converted Spixs Guan14.mp3 to wav_files/Spixs Guan_sound/Spixs Guan14.wav\n",
      "Converted Spixs Guan28.mp3 to wav_files/Spixs Guan_sound/Spixs Guan28.wav\n",
      "Converted Spixs Guan10.mp3 to wav_files/Spixs Guan_sound/Spixs Guan10.wav\n",
      "Converted Spixs Guan11.mp3 to wav_files/Spixs Guan_sound/Spixs Guan11.wav\n",
      "Converted Spixs Guan13.mp3 to wav_files/Spixs Guan_sound/Spixs Guan13.wav\n",
      "Converted Spixs Guan12.mp3 to wav_files/Spixs Guan_sound/Spixs Guan12.wav\n",
      "Converted Spixs Guan23.mp3 to wav_files/Spixs Guan_sound/Spixs Guan23.wav\n",
      "Converted Spixs Guan2.mp3 to wav_files/Spixs Guan_sound/Spixs Guan2.wav\n",
      "Converted Spixs Guan3.mp3 to wav_files/Spixs Guan_sound/Spixs Guan3.wav\n",
      "Converted Spixs Guan22.mp3 to wav_files/Spixs Guan_sound/Spixs Guan22.wav\n",
      "Converted Spixs Guan20.mp3 to wav_files/Spixs Guan_sound/Spixs Guan20.wav\n",
      "Converted Spixs Guan21.mp3 to wav_files/Spixs Guan_sound/Spixs Guan21.wav\n",
      "Converted Spixs Guan25.mp3 to wav_files/Spixs Guan_sound/Spixs Guan25.wav\n",
      "Converted Spixs Guan31.mp3 to wav_files/Spixs Guan_sound/Spixs Guan31.wav\n",
      "Converted Spixs Guan19.mp3 to wav_files/Spixs Guan_sound/Spixs Guan19.wav\n",
      "Converted Spixs Guan4.mp3 to wav_files/Spixs Guan_sound/Spixs Guan4.wav\n",
      "Converted Spixs Guan5.mp3 to wav_files/Spixs Guan_sound/Spixs Guan5.wav\n",
      "Converted Spixs Guan18.mp3 to wav_files/Spixs Guan_sound/Spixs Guan18.wav\n",
      "Converted Spixs Guan30.mp3 to wav_files/Spixs Guan_sound/Spixs Guan30.wav\n",
      "Converted Spixs Guan24.mp3 to wav_files/Spixs Guan_sound/Spixs Guan24.wav\n",
      "Converted Spixs Guan26.mp3 to wav_files/Spixs Guan_sound/Spixs Guan26.wav\n",
      "Converted Spixs Guan7.mp3 to wav_files/Spixs Guan_sound/Spixs Guan7.wav\n"
     ]
    },
    {
     "name": "stderr",
     "output_type": "stream",
     "text": [
      "11it [00:24,  3.05s/it]"
     ]
    },
    {
     "name": "stdout",
     "output_type": "stream",
     "text": [
      "Converted Spixs Guan6.mp3 to wav_files/Spixs Guan_sound/Spixs Guan6.wav\n",
      "Converted Spixs Guan27.mp3 to wav_files/Spixs Guan_sound/Spixs Guan27.wav\n",
      "Converted Rusty-margined Guan16.mp3 to wav_files/Rusty-margined Guan_sound/Rusty-margined Guan16.wav\n",
      "Converted Rusty-margined Guan17.mp3 to wav_files/Rusty-margined Guan_sound/Rusty-margined Guan17.wav\n",
      "Converted Rusty-margined Guan15.mp3 to wav_files/Rusty-margined Guan_sound/Rusty-margined Guan15.wav\n",
      "Converted Rusty-margined Guan29.mp3 to wav_files/Rusty-margined Guan_sound/Rusty-margined Guan29.wav\n",
      "Converted Rusty-margined Guan28.mp3 to wav_files/Rusty-margined Guan_sound/Rusty-margined Guan28.wav\n",
      "Converted Rusty-margined Guan14.mp3 to wav_files/Rusty-margined Guan_sound/Rusty-margined Guan14.wav\n",
      "Converted Rusty-margined Guan10.mp3 to wav_files/Rusty-margined Guan_sound/Rusty-margined Guan10.wav\n",
      "Converted Rusty-margined Guan9.mp3 to wav_files/Rusty-margined Guan_sound/Rusty-margined Guan9.wav\n",
      "Converted Rusty-margined Guan11.mp3 to wav_files/Rusty-margined Guan_sound/Rusty-margined Guan11.wav\n",
      "Converted Rusty-margined Guan8.mp3 to wav_files/Rusty-margined Guan_sound/Rusty-margined Guan8.wav\n",
      "Converted Rusty-margined Guan13.mp3 to wav_files/Rusty-margined Guan_sound/Rusty-margined Guan13.wav\n",
      "Converted Rusty-margined Guan12.mp3 to wav_files/Rusty-margined Guan_sound/Rusty-margined Guan12.wav\n",
      "Converted Rusty-margined Guan23.mp3 to wav_files/Rusty-margined Guan_sound/Rusty-margined Guan23.wav\n",
      "Converted Rusty-margined Guan6.mp3 to wav_files/Rusty-margined Guan_sound/Rusty-margined Guan6.wav\n",
      "Converted Rusty-margined Guan7.mp3 to wav_files/Rusty-margined Guan_sound/Rusty-margined Guan7.wav\n",
      "Converted Rusty-margined Guan22.mp3 to wav_files/Rusty-margined Guan_sound/Rusty-margined Guan22.wav\n",
      "Converted Rusty-margined Guan20.mp3 to wav_files/Rusty-margined Guan_sound/Rusty-margined Guan20.wav\n",
      "Converted Rusty-margined Guan5.mp3 to wav_files/Rusty-margined Guan_sound/Rusty-margined Guan5.wav\n",
      "Converted Rusty-margined Guan4.mp3 to wav_files/Rusty-margined Guan_sound/Rusty-margined Guan4.wav\n",
      "Converted Rusty-margined Guan21.mp3 to wav_files/Rusty-margined Guan_sound/Rusty-margined Guan21.wav\n",
      "Converted Rusty-margined Guan19.mp3 to wav_files/Rusty-margined Guan_sound/Rusty-margined Guan19.wav\n",
      "Converted Rusty-margined Guan31.mp3 to wav_files/Rusty-margined Guan_sound/Rusty-margined Guan31.wav\n",
      "Converted Rusty-margined Guan25.mp3 to wav_files/Rusty-margined Guan_sound/Rusty-margined Guan25.wav\n",
      "Converted Rusty-margined Guan24.mp3 to wav_files/Rusty-margined Guan_sound/Rusty-margined Guan24.wav\n",
      "Converted Rusty-margined Guan30.mp3 to wav_files/Rusty-margined Guan_sound/Rusty-margined Guan30.wav\n",
      "Converted Rusty-margined Guan18.mp3 to wav_files/Rusty-margined Guan_sound/Rusty-margined Guan18.wav\n",
      "Converted Rusty-margined Guan3.mp3 to wav_files/Rusty-margined Guan_sound/Rusty-margined Guan3.wav\n",
      "Converted Rusty-margined Guan26.mp3 to wav_files/Rusty-margined Guan_sound/Rusty-margined Guan26.wav\n",
      "Converted Rusty-margined Guan27.mp3 to wav_files/Rusty-margined Guan_sound/Rusty-margined Guan27.wav\n"
     ]
    },
    {
     "name": "stderr",
     "output_type": "stream",
     "text": [
      "12it [00:29,  3.53s/it]"
     ]
    },
    {
     "name": "stdout",
     "output_type": "stream",
     "text": [
      "Converted Rusty-margined Guan2.mp3 to wav_files/Rusty-margined Guan_sound/Rusty-margined Guan2.wav\n",
      "Converted Great Spotted Kiwi8.mp3 to wav_files/Great Spotted Kiwi_sound/Great Spotted Kiwi8.wav\n",
      "Converted Great Spotted Kiwi4.mp3 to wav_files/Great Spotted Kiwi_sound/Great Spotted Kiwi4.wav\n",
      "Converted Great Spotted Kiwi5.mp3 to wav_files/Great Spotted Kiwi_sound/Great Spotted Kiwi5.wav\n",
      "Converted Great Spotted Kiwi7.mp3 to wav_files/Great Spotted Kiwi_sound/Great Spotted Kiwi7.wav\n",
      "Converted Great Spotted Kiwi6.mp3 to wav_files/Great Spotted Kiwi_sound/Great Spotted Kiwi6.wav\n",
      "Converted Great Spotted Kiwi2.mp3 to wav_files/Great Spotted Kiwi_sound/Great Spotted Kiwi2.wav\n"
     ]
    },
    {
     "name": "stderr",
     "output_type": "stream",
     "text": [
      "13it [00:30,  2.83s/it]"
     ]
    },
    {
     "name": "stdout",
     "output_type": "stream",
     "text": [
      "Converted Great Spotted Kiwi3.mp3 to wav_files/Great Spotted Kiwi_sound/Great Spotted Kiwi3.wav\n",
      "Converted Brushland Tinamou15.mp3 to wav_files/Brushland Tinamou_sound/Brushland Tinamou15.wav\n",
      "Converted Brushland Tinamou14.mp3 to wav_files/Brushland Tinamou_sound/Brushland Tinamou14.wav\n",
      "Converted Brushland Tinamou16.mp3 to wav_files/Brushland Tinamou_sound/Brushland Tinamou16.wav\n",
      "Converted Brushland Tinamou17.mp3 to wav_files/Brushland Tinamou_sound/Brushland Tinamou17.wav\n",
      "Converted Brushland Tinamou13.mp3 to wav_files/Brushland Tinamou_sound/Brushland Tinamou13.wav\n",
      "Converted Brushland Tinamou12.mp3 to wav_files/Brushland Tinamou_sound/Brushland Tinamou12.wav\n",
      "Converted Brushland Tinamou10.mp3 to wav_files/Brushland Tinamou_sound/Brushland Tinamou10.wav\n",
      "Converted Brushland Tinamou11.mp3 to wav_files/Brushland Tinamou_sound/Brushland Tinamou11.wav\n",
      "Converted Brushland Tinamou4.mp3 to wav_files/Brushland Tinamou_sound/Brushland Tinamou4.wav\n",
      "Converted Brushland Tinamou5.mp3 to wav_files/Brushland Tinamou_sound/Brushland Tinamou5.wav\n",
      "Converted Brushland Tinamou7.mp3 to wav_files/Brushland Tinamou_sound/Brushland Tinamou7.wav\n",
      "Converted Brushland Tinamou6.mp3 to wav_files/Brushland Tinamou_sound/Brushland Tinamou6.wav\n",
      "Converted Brushland Tinamou2.mp3 to wav_files/Brushland Tinamou_sound/Brushland Tinamou2.wav\n",
      "Converted Brushland Tinamou3.mp3 to wav_files/Brushland Tinamou_sound/Brushland Tinamou3.wav\n",
      "Converted Brushland Tinamou8.mp3 to wav_files/Brushland Tinamou_sound/Brushland Tinamou8.wav\n",
      "Converted Brushland Tinamou9.mp3 to wav_files/Brushland Tinamou_sound/Brushland Tinamou9.wav\n",
      "Converted Brushland Tinamou20.mp3 to wav_files/Brushland Tinamou_sound/Brushland Tinamou20.wav\n",
      "Converted Brushland Tinamou21.mp3 to wav_files/Brushland Tinamou_sound/Brushland Tinamou21.wav\n",
      "Converted Brushland Tinamou23.mp3 to wav_files/Brushland Tinamou_sound/Brushland Tinamou23.wav\n",
      "Converted Brushland Tinamou22.mp3 to wav_files/Brushland Tinamou_sound/Brushland Tinamou22.wav\n",
      "Converted Brushland Tinamou26.mp3 to wav_files/Brushland Tinamou_sound/Brushland Tinamou26.wav\n",
      "Converted Brushland Tinamou27.mp3 to wav_files/Brushland Tinamou_sound/Brushland Tinamou27.wav\n",
      "Converted Brushland Tinamou25.mp3 to wav_files/Brushland Tinamou_sound/Brushland Tinamou25.wav\n",
      "Converted Brushland Tinamou19.mp3 to wav_files/Brushland Tinamou_sound/Brushland Tinamou19.wav\n",
      "Converted Brushland Tinamou18.mp3 to wav_files/Brushland Tinamou_sound/Brushland Tinamou18.wav\n"
     ]
    },
    {
     "name": "stderr",
     "output_type": "stream",
     "text": [
      "14it [00:34,  3.17s/it]"
     ]
    },
    {
     "name": "stdout",
     "output_type": "stream",
     "text": [
      "Converted Brushland Tinamou24.mp3 to wav_files/Brushland Tinamou_sound/Brushland Tinamou24.wav\n",
      "Converted Huayco Tinamou10.mp3 to wav_files/Huayco Tinamou_sound/Huayco Tinamou10.wav\n",
      "Converted Huayco Tinamou8.mp3 to wav_files/Huayco Tinamou_sound/Huayco Tinamou8.wav\n",
      "Converted Huayco Tinamou9.mp3 to wav_files/Huayco Tinamou_sound/Huayco Tinamou9.wav\n",
      "Converted Huayco Tinamou11.mp3 to wav_files/Huayco Tinamou_sound/Huayco Tinamou11.wav\n",
      "Converted Huayco Tinamou4.mp3 to wav_files/Huayco Tinamou_sound/Huayco Tinamou4.wav\n",
      "Converted Huayco Tinamou5.mp3 to wav_files/Huayco Tinamou_sound/Huayco Tinamou5.wav\n",
      "Converted Huayco Tinamou7.mp3 to wav_files/Huayco Tinamou_sound/Huayco Tinamou7.wav\n",
      "Converted Huayco Tinamou6.mp3 to wav_files/Huayco Tinamou_sound/Huayco Tinamou6.wav\n"
     ]
    },
    {
     "name": "stderr",
     "output_type": "stream",
     "text": [
      "15it [00:36,  2.87s/it]"
     ]
    },
    {
     "name": "stdout",
     "output_type": "stream",
     "text": [
      "Converted Huayco Tinamou2.mp3 to wav_files/Huayco Tinamou_sound/Huayco Tinamou2.wav\n",
      "Converted Huayco Tinamou3.mp3 to wav_files/Huayco Tinamou_sound/Huayco Tinamou3.wav\n",
      "Converted Vanuatu Megapode4.mp3 to wav_files/Vanuatu Megapode_sound/Vanuatu Megapode4.wav\n",
      "Converted Vanuatu Megapode3.mp3 to wav_files/Vanuatu Megapode_sound/Vanuatu Megapode3.wav\n"
     ]
    },
    {
     "name": "stderr",
     "output_type": "stream",
     "text": [
      "16it [00:37,  2.11s/it]"
     ]
    },
    {
     "name": "stdout",
     "output_type": "stream",
     "text": [
      "Converted Vanuatu Megapode2.mp3 to wav_files/Vanuatu Megapode_sound/Vanuatu Megapode2.wav\n",
      "Converted Darwins Nothura11.mp3 to wav_files/Darwins Nothura_sound/Darwins Nothura11.wav\n",
      "Converted Darwins Nothura10.mp3 to wav_files/Darwins Nothura_sound/Darwins Nothura10.wav\n",
      "Converted Darwins Nothura12.mp3 to wav_files/Darwins Nothura_sound/Darwins Nothura12.wav\n",
      "Converted Darwins Nothura3.mp3 to wav_files/Darwins Nothura_sound/Darwins Nothura3.wav\n",
      "Converted Darwins Nothura2.mp3 to wav_files/Darwins Nothura_sound/Darwins Nothura2.wav\n",
      "Converted Darwins Nothura13.mp3 to wav_files/Darwins Nothura_sound/Darwins Nothura13.wav\n",
      "Converted Darwins Nothura17.mp3 to wav_files/Darwins Nothura_sound/Darwins Nothura17.wav\n",
      "Converted Darwins Nothura6.mp3 to wav_files/Darwins Nothura_sound/Darwins Nothura6.wav\n",
      "Converted Darwins Nothura7.mp3 to wav_files/Darwins Nothura_sound/Darwins Nothura7.wav\n",
      "Converted Darwins Nothura16.mp3 to wav_files/Darwins Nothura_sound/Darwins Nothura16.wav\n",
      "Converted Darwins Nothura14.mp3 to wav_files/Darwins Nothura_sound/Darwins Nothura14.wav\n",
      "Converted Darwins Nothura5.mp3 to wav_files/Darwins Nothura_sound/Darwins Nothura5.wav\n",
      "Converted Darwins Nothura4.mp3 to wav_files/Darwins Nothura_sound/Darwins Nothura4.wav\n",
      "Converted Darwins Nothura15.mp3 to wav_files/Darwins Nothura_sound/Darwins Nothura15.wav\n",
      "Converted Darwins Nothura18.mp3 to wav_files/Darwins Nothura_sound/Darwins Nothura18.wav\n",
      "Converted Darwins Nothura9.mp3 to wav_files/Darwins Nothura_sound/Darwins Nothura9.wav\n",
      "Converted Darwins Nothura8.mp3 to wav_files/Darwins Nothura_sound/Darwins Nothura8.wav\n",
      "Converted Darwins Nothura19.mp3 to wav_files/Darwins Nothura_sound/Darwins Nothura19.wav\n"
     ]
    },
    {
     "name": "stderr",
     "output_type": "stream",
     "text": [
      "17it [00:40,  2.50s/it]"
     ]
    },
    {
     "name": "stdout",
     "output_type": "stream",
     "text": [
      "Converted Darwins Nothura21.mp3 to wav_files/Darwins Nothura_sound/Darwins Nothura21.wav\n",
      "Converted Darwins Nothura20.mp3 to wav_files/Darwins Nothura_sound/Darwins Nothura20.wav\n",
      "Converted Choco Tinamou8.mp3 to wav_files/Choco Tinamou_sound/Choco Tinamou8.wav\n",
      "Converted Choco Tinamou4.mp3 to wav_files/Choco Tinamou_sound/Choco Tinamou4.wav\n",
      "Converted Choco Tinamou5.mp3 to wav_files/Choco Tinamou_sound/Choco Tinamou5.wav\n",
      "Converted Choco Tinamou7.mp3 to wav_files/Choco Tinamou_sound/Choco Tinamou7.wav\n",
      "Converted Choco Tinamou6.mp3 to wav_files/Choco Tinamou_sound/Choco Tinamou6.wav\n"
     ]
    },
    {
     "name": "stderr",
     "output_type": "stream",
     "text": [
      "18it [00:41,  2.10s/it]"
     ]
    },
    {
     "name": "stdout",
     "output_type": "stream",
     "text": [
      "Converted Choco Tinamou2.mp3 to wav_files/Choco Tinamou_sound/Choco Tinamou2.wav\n",
      "Converted Choco Tinamou3.mp3 to wav_files/Choco Tinamou_sound/Choco Tinamou3.wav\n"
     ]
    },
    {
     "name": "stderr",
     "output_type": "stream",
     "text": [
      "19it [00:41,  1.51s/it]"
     ]
    },
    {
     "name": "stdout",
     "output_type": "stream",
     "text": [
      "Converted Tanimbar Megapode2.mp3 to wav_files/Tanimbar Megapode_sound/Tanimbar Megapode2.wav\n",
      "Converted Lesser Rhea2.mp3 to wav_files/Lesser Rhea_sound/Lesser Rhea2.wav\n",
      "Converted Lesser Rhea3.mp3 to wav_files/Lesser Rhea_sound/Lesser Rhea3.wav\n",
      "Converted Lesser Rhea4.mp3 to wav_files/Lesser Rhea_sound/Lesser Rhea4.wav\n"
     ]
    },
    {
     "name": "stderr",
     "output_type": "stream",
     "text": [
      "20it [00:42,  1.21s/it]"
     ]
    },
    {
     "name": "stdout",
     "output_type": "stream",
     "text": [
      "Converted Lesser Rhea5.mp3 to wav_files/Lesser Rhea_sound/Lesser Rhea5.wav\n",
      "Converted Red-legged Tinamou10.mp3 to wav_files/Red-legged Tinamou_sound/Red-legged Tinamou10.wav\n",
      "Converted Red-legged Tinamou11.mp3 to wav_files/Red-legged Tinamou_sound/Red-legged Tinamou11.wav\n",
      "Converted Red-legged Tinamou13.mp3 to wav_files/Red-legged Tinamou_sound/Red-legged Tinamou13.wav\n",
      "Converted Red-legged Tinamou12.mp3 to wav_files/Red-legged Tinamou_sound/Red-legged Tinamou12.wav\n",
      "Converted Red-legged Tinamou16.mp3 to wav_files/Red-legged Tinamou_sound/Red-legged Tinamou16.wav\n",
      "Converted Red-legged Tinamou17.mp3 to wav_files/Red-legged Tinamou_sound/Red-legged Tinamou17.wav\n",
      "Converted Red-legged Tinamou29.mp3 to wav_files/Red-legged Tinamou_sound/Red-legged Tinamou29.wav\n",
      "Converted Red-legged Tinamou15.mp3 to wav_files/Red-legged Tinamou_sound/Red-legged Tinamou15.wav\n",
      "Converted Red-legged Tinamou14.mp3 to wav_files/Red-legged Tinamou_sound/Red-legged Tinamou14.wav\n",
      "Converted Red-legged Tinamou28.mp3 to wav_files/Red-legged Tinamou_sound/Red-legged Tinamou28.wav\n",
      "Converted Red-legged Tinamou4.mp3 to wav_files/Red-legged Tinamou_sound/Red-legged Tinamou4.wav\n",
      "Converted Red-legged Tinamou5.mp3 to wav_files/Red-legged Tinamou_sound/Red-legged Tinamou5.wav\n",
      "Converted Red-legged Tinamou7.mp3 to wav_files/Red-legged Tinamou_sound/Red-legged Tinamou7.wav\n",
      "Converted Red-legged Tinamou6.mp3 to wav_files/Red-legged Tinamou_sound/Red-legged Tinamou6.wav\n",
      "Converted Red-legged Tinamou2.mp3 to wav_files/Red-legged Tinamou_sound/Red-legged Tinamou2.wav\n",
      "Converted Red-legged Tinamou3.mp3 to wav_files/Red-legged Tinamou_sound/Red-legged Tinamou3.wav\n",
      "Converted Red-legged Tinamou8.mp3 to wav_files/Red-legged Tinamou_sound/Red-legged Tinamou8.wav\n",
      "Converted Red-legged Tinamou9.mp3 to wav_files/Red-legged Tinamou_sound/Red-legged Tinamou9.wav\n",
      "Converted Red-legged Tinamou31.mp3 to wav_files/Red-legged Tinamou_sound/Red-legged Tinamou31.wav\n",
      "Converted Red-legged Tinamou25.mp3 to wav_files/Red-legged Tinamou_sound/Red-legged Tinamou25.wav\n",
      "Converted Red-legged Tinamou19.mp3 to wav_files/Red-legged Tinamou_sound/Red-legged Tinamou19.wav\n",
      "Converted Red-legged Tinamou18.mp3 to wav_files/Red-legged Tinamou_sound/Red-legged Tinamou18.wav\n",
      "Converted Red-legged Tinamou24.mp3 to wav_files/Red-legged Tinamou_sound/Red-legged Tinamou24.wav\n",
      "Converted Red-legged Tinamou30.mp3 to wav_files/Red-legged Tinamou_sound/Red-legged Tinamou30.wav\n",
      "Converted Red-legged Tinamou26.mp3 to wav_files/Red-legged Tinamou_sound/Red-legged Tinamou26.wav\n",
      "Converted Red-legged Tinamou27.mp3 to wav_files/Red-legged Tinamou_sound/Red-legged Tinamou27.wav\n",
      "Converted Red-legged Tinamou23.mp3 to wav_files/Red-legged Tinamou_sound/Red-legged Tinamou23.wav\n",
      "Converted Red-legged Tinamou22.mp3 to wav_files/Red-legged Tinamou_sound/Red-legged Tinamou22.wav\n",
      "Converted Red-legged Tinamou20.mp3 to wav_files/Red-legged Tinamou_sound/Red-legged Tinamou20.wav\n"
     ]
    },
    {
     "name": "stderr",
     "output_type": "stream",
     "text": [
      "21it [00:46,  2.16s/it]"
     ]
    },
    {
     "name": "stdout",
     "output_type": "stream",
     "text": [
      "Converted Red-legged Tinamou21.mp3 to wav_files/Red-legged Tinamou_sound/Red-legged Tinamou21.wav\n",
      "Converted Variegated Tinamou10.mp3 to wav_files/Variegated Tinamou_sound/Variegated Tinamou10.wav\n",
      "Converted Variegated Tinamou5.mp3 to wav_files/Variegated Tinamou_sound/Variegated Tinamou5.wav\n",
      "Converted Variegated Tinamou4.mp3 to wav_files/Variegated Tinamou_sound/Variegated Tinamou4.wav\n",
      "Converted Variegated Tinamou11.mp3 to wav_files/Variegated Tinamou_sound/Variegated Tinamou11.wav\n",
      "Converted Variegated Tinamou13.mp3 to wav_files/Variegated Tinamou_sound/Variegated Tinamou13.wav\n",
      "Converted Variegated Tinamou6.mp3 to wav_files/Variegated Tinamou_sound/Variegated Tinamou6.wav\n",
      "Converted Variegated Tinamou7.mp3 to wav_files/Variegated Tinamou_sound/Variegated Tinamou7.wav\n",
      "Converted Variegated Tinamou12.mp3 to wav_files/Variegated Tinamou_sound/Variegated Tinamou12.wav\n",
      "Converted Variegated Tinamou16.mp3 to wav_files/Variegated Tinamou_sound/Variegated Tinamou16.wav\n",
      "Converted Variegated Tinamou3.mp3 to wav_files/Variegated Tinamou_sound/Variegated Tinamou3.wav\n",
      "Converted Variegated Tinamou2.mp3 to wav_files/Variegated Tinamou_sound/Variegated Tinamou2.wav\n",
      "Converted Variegated Tinamou17.mp3 to wav_files/Variegated Tinamou_sound/Variegated Tinamou17.wav\n",
      "Converted Variegated Tinamou29.mp3 to wav_files/Variegated Tinamou_sound/Variegated Tinamou29.wav\n",
      "Converted Variegated Tinamou15.mp3 to wav_files/Variegated Tinamou_sound/Variegated Tinamou15.wav\n",
      "Converted Variegated Tinamou14.mp3 to wav_files/Variegated Tinamou_sound/Variegated Tinamou14.wav\n",
      "Converted Variegated Tinamou28.mp3 to wav_files/Variegated Tinamou_sound/Variegated Tinamou28.wav\n",
      "Converted Variegated Tinamou25.mp3 to wav_files/Variegated Tinamou_sound/Variegated Tinamou25.wav\n",
      "Converted Variegated Tinamou31.mp3 to wav_files/Variegated Tinamou_sound/Variegated Tinamou31.wav\n",
      "Converted Variegated Tinamou19.mp3 to wav_files/Variegated Tinamou_sound/Variegated Tinamou19.wav\n",
      "Converted Variegated Tinamou18.mp3 to wav_files/Variegated Tinamou_sound/Variegated Tinamou18.wav\n",
      "Converted Variegated Tinamou30.mp3 to wav_files/Variegated Tinamou_sound/Variegated Tinamou30.wav\n",
      "Converted Variegated Tinamou24.mp3 to wav_files/Variegated Tinamou_sound/Variegated Tinamou24.wav\n",
      "Converted Variegated Tinamou26.mp3 to wav_files/Variegated Tinamou_sound/Variegated Tinamou26.wav\n",
      "Converted Variegated Tinamou27.mp3 to wav_files/Variegated Tinamou_sound/Variegated Tinamou27.wav\n",
      "Converted Variegated Tinamou23.mp3 to wav_files/Variegated Tinamou_sound/Variegated Tinamou23.wav\n",
      "Converted Variegated Tinamou22.mp3 to wav_files/Variegated Tinamou_sound/Variegated Tinamou22.wav\n",
      "Converted Variegated Tinamou20.mp3 to wav_files/Variegated Tinamou_sound/Variegated Tinamou20.wav\n",
      "Converted Variegated Tinamou9.mp3 to wav_files/Variegated Tinamou_sound/Variegated Tinamou9.wav\n"
     ]
    },
    {
     "name": "stderr",
     "output_type": "stream",
     "text": [
      "22it [00:50,  2.72s/it]"
     ]
    },
    {
     "name": "stdout",
     "output_type": "stream",
     "text": [
      "Converted Variegated Tinamou8.mp3 to wav_files/Variegated Tinamou_sound/Variegated Tinamou8.wav\n",
      "Converted Variegated Tinamou21.mp3 to wav_files/Variegated Tinamou_sound/Variegated Tinamou21.wav\n",
      "Converted Collared Brushturkey12.mp3 to wav_files/Collared Brushturkey_sound/Collared Brushturkey12.wav\n",
      "Converted Collared Brushturkey13.mp3 to wav_files/Collared Brushturkey_sound/Collared Brushturkey13.wav\n",
      "Converted Collared Brushturkey11.mp3 to wav_files/Collared Brushturkey_sound/Collared Brushturkey11.wav\n",
      "Converted Collared Brushturkey10.mp3 to wav_files/Collared Brushturkey_sound/Collared Brushturkey10.wav\n",
      "Converted Collared Brushturkey14.mp3 to wav_files/Collared Brushturkey_sound/Collared Brushturkey14.wav\n",
      "Converted Collared Brushturkey15.mp3 to wav_files/Collared Brushturkey_sound/Collared Brushturkey15.wav\n",
      "Converted Collared Brushturkey17.mp3 to wav_files/Collared Brushturkey_sound/Collared Brushturkey17.wav\n",
      "Converted Collared Brushturkey16.mp3 to wav_files/Collared Brushturkey_sound/Collared Brushturkey16.wav\n",
      "Converted Collared Brushturkey6.mp3 to wav_files/Collared Brushturkey_sound/Collared Brushturkey6.wav\n",
      "Converted Collared Brushturkey7.mp3 to wav_files/Collared Brushturkey_sound/Collared Brushturkey7.wav\n",
      "Converted Collared Brushturkey5.mp3 to wav_files/Collared Brushturkey_sound/Collared Brushturkey5.wav\n",
      "Converted Collared Brushturkey4.mp3 to wav_files/Collared Brushturkey_sound/Collared Brushturkey4.wav\n",
      "Converted Collared Brushturkey3.mp3 to wav_files/Collared Brushturkey_sound/Collared Brushturkey3.wav\n",
      "Converted Collared Brushturkey2.mp3 to wav_files/Collared Brushturkey_sound/Collared Brushturkey2.wav\n",
      "Converted Collared Brushturkey9.mp3 to wav_files/Collared Brushturkey_sound/Collared Brushturkey9.wav\n",
      "Converted Collared Brushturkey8.mp3 to wav_files/Collared Brushturkey_sound/Collared Brushturkey8.wav\n",
      "Converted Collared Brushturkey18.mp3 to wav_files/Collared Brushturkey_sound/Collared Brushturkey18.wav\n",
      "Converted Collared Brushturkey19.mp3 to wav_files/Collared Brushturkey_sound/Collared Brushturkey19.wav\n",
      "Converted Collared Brushturkey21.mp3 to wav_files/Collared Brushturkey_sound/Collared Brushturkey21.wav\n"
     ]
    },
    {
     "name": "stderr",
     "output_type": "stream",
     "text": [
      "23it [00:54,  3.11s/it]"
     ]
    },
    {
     "name": "stdout",
     "output_type": "stream",
     "text": [
      "Converted Collared Brushturkey20.mp3 to wav_files/Collared Brushturkey_sound/Collared Brushturkey20.wav\n",
      "Converted Taczanowskis Tinamou6.mp3 to wav_files/Taczanowskis Tinamou_sound/Taczanowskis Tinamou6.wav\n",
      "Converted Taczanowskis Tinamou7.mp3 to wav_files/Taczanowskis Tinamou_sound/Taczanowskis Tinamou7.wav\n",
      "Converted Taczanowskis Tinamou5.mp3 to wav_files/Taczanowskis Tinamou_sound/Taczanowskis Tinamou5.wav\n",
      "Converted Taczanowskis Tinamou4.mp3 to wav_files/Taczanowskis Tinamou_sound/Taczanowskis Tinamou4.wav\n",
      "Converted Taczanowskis Tinamou3.mp3 to wav_files/Taczanowskis Tinamou_sound/Taczanowskis Tinamou3.wav\n"
     ]
    },
    {
     "name": "stderr",
     "output_type": "stream",
     "text": [
      "24it [00:55,  2.45s/it]"
     ]
    },
    {
     "name": "stdout",
     "output_type": "stream",
     "text": [
      "Converted Taczanowskis Tinamou2.mp3 to wav_files/Taczanowskis Tinamou_sound/Taczanowskis Tinamou2.wav\n",
      "Converted Taczanowskis Tinamou8.mp3 to wav_files/Taczanowskis Tinamou_sound/Taczanowskis Tinamou8.wav\n",
      "Converted New Guinea Scrubfowl3.mp3 to wav_files/New Guinea Scrubfowl_sound/New Guinea Scrubfowl3.wav\n",
      "Converted New Guinea Scrubfowl2.mp3 to wav_files/New Guinea Scrubfowl_sound/New Guinea Scrubfowl2.wav\n",
      "Converted New Guinea Scrubfowl6.mp3 to wav_files/New Guinea Scrubfowl_sound/New Guinea Scrubfowl6.wav\n",
      "Converted New Guinea Scrubfowl7.mp3 to wav_files/New Guinea Scrubfowl_sound/New Guinea Scrubfowl7.wav\n"
     ]
    },
    {
     "name": "stderr",
     "output_type": "stream",
     "text": [
      "25it [00:56,  1.92s/it]"
     ]
    },
    {
     "name": "stdout",
     "output_type": "stream",
     "text": [
      "Converted New Guinea Scrubfowl5.mp3 to wav_files/New Guinea Scrubfowl_sound/New Guinea Scrubfowl5.wav\n",
      "Converted New Guinea Scrubfowl4.mp3 to wav_files/New Guinea Scrubfowl_sound/New Guinea Scrubfowl4.wav\n",
      "Converted Dusky-legged Guan13.mp3 to wav_files/Dusky-legged Guan_sound/Dusky-legged Guan13.wav\n",
      "Converted Dusky-legged Guan12.mp3 to wav_files/Dusky-legged Guan_sound/Dusky-legged Guan12.wav\n",
      "Converted Dusky-legged Guan10.mp3 to wav_files/Dusky-legged Guan_sound/Dusky-legged Guan10.wav\n",
      "Converted Dusky-legged Guan11.mp3 to wav_files/Dusky-legged Guan_sound/Dusky-legged Guan11.wav\n",
      "Converted Dusky-legged Guan15.mp3 to wav_files/Dusky-legged Guan_sound/Dusky-legged Guan15.wav\n",
      "Converted Dusky-legged Guan29.mp3 to wav_files/Dusky-legged Guan_sound/Dusky-legged Guan29.wav\n",
      "Converted Dusky-legged Guan28.mp3 to wav_files/Dusky-legged Guan_sound/Dusky-legged Guan28.wav\n",
      "Converted Dusky-legged Guan14.mp3 to wav_files/Dusky-legged Guan_sound/Dusky-legged Guan14.wav\n",
      "Converted Dusky-legged Guan16.mp3 to wav_files/Dusky-legged Guan_sound/Dusky-legged Guan16.wav\n",
      "Converted Dusky-legged Guan17.mp3 to wav_files/Dusky-legged Guan_sound/Dusky-legged Guan17.wav\n",
      "Converted Dusky-legged Guan9.mp3 to wav_files/Dusky-legged Guan_sound/Dusky-legged Guan9.wav\n",
      "Converted Dusky-legged Guan8.mp3 to wav_files/Dusky-legged Guan_sound/Dusky-legged Guan8.wav\n",
      "Converted Dusky-legged Guan3.mp3 to wav_files/Dusky-legged Guan_sound/Dusky-legged Guan3.wav\n",
      "Converted Dusky-legged Guan2.mp3 to wav_files/Dusky-legged Guan_sound/Dusky-legged Guan2.wav\n",
      "Converted Dusky-legged Guan5.mp3 to wav_files/Dusky-legged Guan_sound/Dusky-legged Guan5.wav\n",
      "Converted Dusky-legged Guan4.mp3 to wav_files/Dusky-legged Guan_sound/Dusky-legged Guan4.wav\n",
      "Converted Dusky-legged Guan6.mp3 to wav_files/Dusky-legged Guan_sound/Dusky-legged Guan6.wav\n",
      "Converted Dusky-legged Guan7.mp3 to wav_files/Dusky-legged Guan_sound/Dusky-legged Guan7.wav\n",
      "Converted Dusky-legged Guan26.mp3 to wav_files/Dusky-legged Guan_sound/Dusky-legged Guan26.wav\n",
      "Converted Dusky-legged Guan27.mp3 to wav_files/Dusky-legged Guan_sound/Dusky-legged Guan27.wav\n",
      "Converted Dusky-legged Guan19.mp3 to wav_files/Dusky-legged Guan_sound/Dusky-legged Guan19.wav\n",
      "Converted Dusky-legged Guan31.mp3 to wav_files/Dusky-legged Guan_sound/Dusky-legged Guan31.wav\n",
      "Converted Dusky-legged Guan25.mp3 to wav_files/Dusky-legged Guan_sound/Dusky-legged Guan25.wav\n",
      "Converted Dusky-legged Guan24.mp3 to wav_files/Dusky-legged Guan_sound/Dusky-legged Guan24.wav\n",
      "Converted Dusky-legged Guan30.mp3 to wav_files/Dusky-legged Guan_sound/Dusky-legged Guan30.wav\n",
      "Converted Dusky-legged Guan18.mp3 to wav_files/Dusky-legged Guan_sound/Dusky-legged Guan18.wav\n",
      "Converted Dusky-legged Guan20.mp3 to wav_files/Dusky-legged Guan_sound/Dusky-legged Guan20.wav\n",
      "Converted Dusky-legged Guan21.mp3 to wav_files/Dusky-legged Guan_sound/Dusky-legged Guan21.wav\n",
      "Converted Dusky-legged Guan23.mp3 to wav_files/Dusky-legged Guan_sound/Dusky-legged Guan23.wav\n"
     ]
    },
    {
     "name": "stderr",
     "output_type": "stream",
     "text": [
      "26it [01:01,  2.75s/it]"
     ]
    },
    {
     "name": "stdout",
     "output_type": "stream",
     "text": [
      "Converted Dusky-legged Guan22.mp3 to wav_files/Dusky-legged Guan_sound/Dusky-legged Guan22.wav\n",
      "Converted Highland Tinamou3.mp3 to wav_files/Highland Tinamou_sound/Highland Tinamou3.wav\n",
      "Converted Highland Tinamou2.mp3 to wav_files/Highland Tinamou_sound/Highland Tinamou2.wav\n",
      "Converted Highland Tinamou5.mp3 to wav_files/Highland Tinamou_sound/Highland Tinamou5.wav\n",
      "Converted Highland Tinamou4.mp3 to wav_files/Highland Tinamou_sound/Highland Tinamou4.wav\n",
      "Converted Highland Tinamou6.mp3 to wav_files/Highland Tinamou_sound/Highland Tinamou6.wav\n",
      "Converted Highland Tinamou7.mp3 to wav_files/Highland Tinamou_sound/Highland Tinamou7.wav\n",
      "Converted Highland Tinamou17.mp3 to wav_files/Highland Tinamou_sound/Highland Tinamou17.wav\n",
      "Converted Highland Tinamou16.mp3 to wav_files/Highland Tinamou_sound/Highland Tinamou16.wav\n",
      "Converted Highland Tinamou14.mp3 to wav_files/Highland Tinamou_sound/Highland Tinamou14.wav\n",
      "Converted Highland Tinamou28.mp3 to wav_files/Highland Tinamou_sound/Highland Tinamou28.wav\n",
      "Converted Highland Tinamou29.mp3 to wav_files/Highland Tinamou_sound/Highland Tinamou29.wav\n",
      "Converted Highland Tinamou15.mp3 to wav_files/Highland Tinamou_sound/Highland Tinamou15.wav\n",
      "Converted Highland Tinamou11.mp3 to wav_files/Highland Tinamou_sound/Highland Tinamou11.wav\n",
      "Converted Highland Tinamou10.mp3 to wav_files/Highland Tinamou_sound/Highland Tinamou10.wav\n",
      "Converted Highland Tinamou12.mp3 to wav_files/Highland Tinamou_sound/Highland Tinamou12.wav\n",
      "Converted Highland Tinamou13.mp3 to wav_files/Highland Tinamou_sound/Highland Tinamou13.wav\n",
      "Converted Highland Tinamou22.mp3 to wav_files/Highland Tinamou_sound/Highland Tinamou22.wav\n",
      "Converted Highland Tinamou23.mp3 to wav_files/Highland Tinamou_sound/Highland Tinamou23.wav\n",
      "Converted Highland Tinamou21.mp3 to wav_files/Highland Tinamou_sound/Highland Tinamou21.wav\n",
      "Converted Highland Tinamou20.mp3 to wav_files/Highland Tinamou_sound/Highland Tinamou20.wav\n",
      "Converted Highland Tinamou18.mp3 to wav_files/Highland Tinamou_sound/Highland Tinamou18.wav\n",
      "Converted Highland Tinamou24.mp3 to wav_files/Highland Tinamou_sound/Highland Tinamou24.wav\n",
      "Converted Highland Tinamou30.mp3 to wav_files/Highland Tinamou_sound/Highland Tinamou30.wav\n",
      "Converted Highland Tinamou31.mp3 to wav_files/Highland Tinamou_sound/Highland Tinamou31.wav\n",
      "Converted Highland Tinamou25.mp3 to wav_files/Highland Tinamou_sound/Highland Tinamou25.wav\n",
      "Converted Highland Tinamou19.mp3 to wav_files/Highland Tinamou_sound/Highland Tinamou19.wav\n",
      "Converted Highland Tinamou27.mp3 to wav_files/Highland Tinamou_sound/Highland Tinamou27.wav\n",
      "Converted Highland Tinamou26.mp3 to wav_files/Highland Tinamou_sound/Highland Tinamou26.wav\n"
     ]
    },
    {
     "name": "stderr",
     "output_type": "stream",
     "text": [
      "27it [01:06,  3.59s/it]"
     ]
    },
    {
     "name": "stdout",
     "output_type": "stream",
     "text": [
      "Converted Highland Tinamou9.mp3 to wav_files/Highland Tinamou_sound/Highland Tinamou9.wav\n",
      "Converted Highland Tinamou8.mp3 to wav_files/Highland Tinamou_sound/Highland Tinamou8.wav\n",
      "Converted Nicobar Megapode2.mp3 to wav_files/Nicobar Megapode_sound/Nicobar Megapode2.wav\n"
     ]
    },
    {
     "name": "stderr",
     "output_type": "stream",
     "text": [
      "28it [01:07,  2.64s/it]"
     ]
    },
    {
     "name": "stdout",
     "output_type": "stream",
     "text": [
      "Converted Nicobar Megapode3.mp3 to wav_files/Nicobar Megapode_sound/Nicobar Megapode3.wav\n",
      "Converted Undulated Tinamou16.mp3 to wav_files/Undulated Tinamou_sound/Undulated Tinamou16.wav\n",
      "Converted Undulated Tinamou7.mp3 to wav_files/Undulated Tinamou_sound/Undulated Tinamou7.wav\n",
      "Converted Undulated Tinamou6.mp3 to wav_files/Undulated Tinamou_sound/Undulated Tinamou6.wav\n",
      "Converted Undulated Tinamou17.mp3 to wav_files/Undulated Tinamou_sound/Undulated Tinamou17.wav\n",
      "Converted Undulated Tinamou29.mp3 to wav_files/Undulated Tinamou_sound/Undulated Tinamou29.wav\n",
      "Converted Undulated Tinamou15.mp3 to wav_files/Undulated Tinamou_sound/Undulated Tinamou15.wav\n",
      "Converted Undulated Tinamou4.mp3 to wav_files/Undulated Tinamou_sound/Undulated Tinamou4.wav\n",
      "Converted Undulated Tinamou5.mp3 to wav_files/Undulated Tinamou_sound/Undulated Tinamou5.wav\n",
      "Converted Undulated Tinamou14.mp3 to wav_files/Undulated Tinamou_sound/Undulated Tinamou14.wav\n",
      "Converted Undulated Tinamou28.mp3 to wav_files/Undulated Tinamou_sound/Undulated Tinamou28.wav\n",
      "Converted Undulated Tinamou10.mp3 to wav_files/Undulated Tinamou_sound/Undulated Tinamou10.wav\n",
      "Converted Undulated Tinamou11.mp3 to wav_files/Undulated Tinamou_sound/Undulated Tinamou11.wav\n",
      "Converted Undulated Tinamou13.mp3 to wav_files/Undulated Tinamou_sound/Undulated Tinamou13.wav\n",
      "Converted Undulated Tinamou2.mp3 to wav_files/Undulated Tinamou_sound/Undulated Tinamou2.wav\n",
      "Converted Undulated Tinamou3.mp3 to wav_files/Undulated Tinamou_sound/Undulated Tinamou3.wav\n",
      "Converted Undulated Tinamou12.mp3 to wav_files/Undulated Tinamou_sound/Undulated Tinamou12.wav\n",
      "Converted Undulated Tinamou23.mp3 to wav_files/Undulated Tinamou_sound/Undulated Tinamou23.wav\n",
      "Converted Undulated Tinamou22.mp3 to wav_files/Undulated Tinamou_sound/Undulated Tinamou22.wav\n",
      "Converted Undulated Tinamou20.mp3 to wav_files/Undulated Tinamou_sound/Undulated Tinamou20.wav\n",
      "Converted Undulated Tinamou21.mp3 to wav_files/Undulated Tinamou_sound/Undulated Tinamou21.wav\n",
      "Converted Undulated Tinamou31.mp3 to wav_files/Undulated Tinamou_sound/Undulated Tinamou31.wav\n",
      "Converted Undulated Tinamou25.mp3 to wav_files/Undulated Tinamou_sound/Undulated Tinamou25.wav\n",
      "Converted Undulated Tinamou19.mp3 to wav_files/Undulated Tinamou_sound/Undulated Tinamou19.wav\n",
      "Converted Undulated Tinamou8.mp3 to wav_files/Undulated Tinamou_sound/Undulated Tinamou8.wav\n",
      "Converted Undulated Tinamou9.mp3 to wav_files/Undulated Tinamou_sound/Undulated Tinamou9.wav\n",
      "Converted Undulated Tinamou18.mp3 to wav_files/Undulated Tinamou_sound/Undulated Tinamou18.wav\n",
      "Converted Undulated Tinamou24.mp3 to wav_files/Undulated Tinamou_sound/Undulated Tinamou24.wav\n",
      "Converted Undulated Tinamou30.mp3 to wav_files/Undulated Tinamou_sound/Undulated Tinamou30.wav\n",
      "Converted Undulated Tinamou26.mp3 to wav_files/Undulated Tinamou_sound/Undulated Tinamou26.wav\n"
     ]
    },
    {
     "name": "stderr",
     "output_type": "stream",
     "text": [
      "29it [01:13,  3.85s/it]"
     ]
    },
    {
     "name": "stdout",
     "output_type": "stream",
     "text": [
      "Converted Undulated Tinamou27.mp3 to wav_files/Undulated Tinamou_sound/Undulated Tinamou27.wav\n",
      "Converted Rufous-headed Chachalaca16.mp3 to wav_files/Rufous-headed Chachalaca_sound/Rufous-headed Chachalaca16.wav\n",
      "Converted Rufous-headed Chachalaca8.mp3 to wav_files/Rufous-headed Chachalaca_sound/Rufous-headed Chachalaca8.wav\n",
      "Converted Rufous-headed Chachalaca9.mp3 to wav_files/Rufous-headed Chachalaca_sound/Rufous-headed Chachalaca9.wav\n",
      "Converted Rufous-headed Chachalaca17.mp3 to wav_files/Rufous-headed Chachalaca_sound/Rufous-headed Chachalaca17.wav\n",
      "Converted Rufous-headed Chachalaca29.mp3 to wav_files/Rufous-headed Chachalaca_sound/Rufous-headed Chachalaca29.wav\n",
      "Converted Rufous-headed Chachalaca15.mp3 to wav_files/Rufous-headed Chachalaca_sound/Rufous-headed Chachalaca15.wav\n",
      "Converted Rufous-headed Chachalaca14.mp3 to wav_files/Rufous-headed Chachalaca_sound/Rufous-headed Chachalaca14.wav\n",
      "Converted Rufous-headed Chachalaca28.mp3 to wav_files/Rufous-headed Chachalaca_sound/Rufous-headed Chachalaca28.wav\n",
      "Converted Rufous-headed Chachalaca10.mp3 to wav_files/Rufous-headed Chachalaca_sound/Rufous-headed Chachalaca10.wav\n",
      "Converted Rufous-headed Chachalaca11.mp3 to wav_files/Rufous-headed Chachalaca_sound/Rufous-headed Chachalaca11.wav\n",
      "Converted Rufous-headed Chachalaca13.mp3 to wav_files/Rufous-headed Chachalaca_sound/Rufous-headed Chachalaca13.wav\n",
      "Converted Rufous-headed Chachalaca12.mp3 to wav_files/Rufous-headed Chachalaca_sound/Rufous-headed Chachalaca12.wav\n",
      "Converted Rufous-headed Chachalaca23.mp3 to wav_files/Rufous-headed Chachalaca_sound/Rufous-headed Chachalaca23.wav\n",
      "Converted Rufous-headed Chachalaca22.mp3 to wav_files/Rufous-headed Chachalaca_sound/Rufous-headed Chachalaca22.wav\n",
      "Converted Rufous-headed Chachalaca20.mp3 to wav_files/Rufous-headed Chachalaca_sound/Rufous-headed Chachalaca20.wav\n",
      "Converted Rufous-headed Chachalaca2.mp3 to wav_files/Rufous-headed Chachalaca_sound/Rufous-headed Chachalaca2.wav\n",
      "Converted Rufous-headed Chachalaca3.mp3 to wav_files/Rufous-headed Chachalaca_sound/Rufous-headed Chachalaca3.wav\n",
      "Converted Rufous-headed Chachalaca21.mp3 to wav_files/Rufous-headed Chachalaca_sound/Rufous-headed Chachalaca21.wav\n",
      "Converted Rufous-headed Chachalaca31.mp3 to wav_files/Rufous-headed Chachalaca_sound/Rufous-headed Chachalaca31.wav\n",
      "Converted Rufous-headed Chachalaca25.mp3 to wav_files/Rufous-headed Chachalaca_sound/Rufous-headed Chachalaca25.wav\n",
      "Converted Rufous-headed Chachalaca19.mp3 to wav_files/Rufous-headed Chachalaca_sound/Rufous-headed Chachalaca19.wav\n",
      "Converted Rufous-headed Chachalaca7.mp3 to wav_files/Rufous-headed Chachalaca_sound/Rufous-headed Chachalaca7.wav\n",
      "Converted Rufous-headed Chachalaca6.mp3 to wav_files/Rufous-headed Chachalaca_sound/Rufous-headed Chachalaca6.wav\n",
      "Converted Rufous-headed Chachalaca18.mp3 to wav_files/Rufous-headed Chachalaca_sound/Rufous-headed Chachalaca18.wav\n",
      "Converted Rufous-headed Chachalaca24.mp3 to wav_files/Rufous-headed Chachalaca_sound/Rufous-headed Chachalaca24.wav\n",
      "Converted Rufous-headed Chachalaca30.mp3 to wav_files/Rufous-headed Chachalaca_sound/Rufous-headed Chachalaca30.wav\n",
      "Converted Rufous-headed Chachalaca26.mp3 to wav_files/Rufous-headed Chachalaca_sound/Rufous-headed Chachalaca26.wav\n",
      "Converted Rufous-headed Chachalaca4.mp3 to wav_files/Rufous-headed Chachalaca_sound/Rufous-headed Chachalaca4.wav\n"
     ]
    },
    {
     "name": "stderr",
     "output_type": "stream",
     "text": [
      "30it [01:18,  4.05s/it]"
     ]
    },
    {
     "name": "stdout",
     "output_type": "stream",
     "text": [
      "Converted Rufous-headed Chachalaca5.mp3 to wav_files/Rufous-headed Chachalaca_sound/Rufous-headed Chachalaca5.wav\n",
      "Converted Rufous-headed Chachalaca27.mp3 to wav_files/Rufous-headed Chachalaca_sound/Rufous-headed Chachalaca27.wav\n",
      "Converted Black Tinamou8.mp3 to wav_files/Black Tinamou_sound/Black Tinamou8.wav\n",
      "Converted Black Tinamou16.mp3 to wav_files/Black Tinamou_sound/Black Tinamou16.wav\n",
      "Converted Black Tinamou17.mp3 to wav_files/Black Tinamou_sound/Black Tinamou17.wav\n",
      "Converted Black Tinamou9.mp3 to wav_files/Black Tinamou_sound/Black Tinamou9.wav\n",
      "Converted Black Tinamou15.mp3 to wav_files/Black Tinamou_sound/Black Tinamou15.wav\n",
      "Converted Black Tinamou14.mp3 to wav_files/Black Tinamou_sound/Black Tinamou14.wav\n",
      "Converted Black Tinamou10.mp3 to wav_files/Black Tinamou_sound/Black Tinamou10.wav\n",
      "Converted Black Tinamou11.mp3 to wav_files/Black Tinamou_sound/Black Tinamou11.wav\n",
      "Converted Black Tinamou13.mp3 to wav_files/Black Tinamou_sound/Black Tinamou13.wav\n",
      "Converted Black Tinamou12.mp3 to wav_files/Black Tinamou_sound/Black Tinamou12.wav\n",
      "Converted Black Tinamou20.mp3 to wav_files/Black Tinamou_sound/Black Tinamou20.wav\n",
      "Converted Black Tinamou2.mp3 to wav_files/Black Tinamou_sound/Black Tinamou2.wav\n",
      "Converted Black Tinamou3.mp3 to wav_files/Black Tinamou_sound/Black Tinamou3.wav\n",
      "Converted Black Tinamou21.mp3 to wav_files/Black Tinamou_sound/Black Tinamou21.wav\n",
      "Converted Black Tinamou7.mp3 to wav_files/Black Tinamou_sound/Black Tinamou7.wav\n",
      "Converted Black Tinamou19.mp3 to wav_files/Black Tinamou_sound/Black Tinamou19.wav\n",
      "Converted Black Tinamou18.mp3 to wav_files/Black Tinamou_sound/Black Tinamou18.wav\n",
      "Converted Black Tinamou6.mp3 to wav_files/Black Tinamou_sound/Black Tinamou6.wav\n",
      "Converted Black Tinamou4.mp3 to wav_files/Black Tinamou_sound/Black Tinamou4.wav\n"
     ]
    },
    {
     "name": "stderr",
     "output_type": "stream",
     "text": [
      "31it [01:21,  3.93s/it]"
     ]
    },
    {
     "name": "stdout",
     "output_type": "stream",
     "text": [
      "Converted Black Tinamou5.mp3 to wav_files/Black Tinamou_sound/Black Tinamou5.wav\n",
      "Converted Rufous-vented Chachalaca8.mp3 to wav_files/Rufous-vented Chachalaca_sound/Rufous-vented Chachalaca8.wav\n",
      "Converted Rufous-vented Chachalaca9.mp3 to wav_files/Rufous-vented Chachalaca_sound/Rufous-vented Chachalaca9.wav\n",
      "Converted Rufous-vented Chachalaca16.mp3 to wav_files/Rufous-vented Chachalaca_sound/Rufous-vented Chachalaca16.wav\n",
      "Converted Rufous-vented Chachalaca17.mp3 to wav_files/Rufous-vented Chachalaca_sound/Rufous-vented Chachalaca17.wav\n",
      "Converted Rufous-vented Chachalaca29.mp3 to wav_files/Rufous-vented Chachalaca_sound/Rufous-vented Chachalaca29.wav\n",
      "Converted Rufous-vented Chachalaca15.mp3 to wav_files/Rufous-vented Chachalaca_sound/Rufous-vented Chachalaca15.wav\n",
      "Converted Rufous-vented Chachalaca14.mp3 to wav_files/Rufous-vented Chachalaca_sound/Rufous-vented Chachalaca14.wav\n",
      "Converted Rufous-vented Chachalaca28.mp3 to wav_files/Rufous-vented Chachalaca_sound/Rufous-vented Chachalaca28.wav\n",
      "Converted Rufous-vented Chachalaca10.mp3 to wav_files/Rufous-vented Chachalaca_sound/Rufous-vented Chachalaca10.wav\n",
      "Converted Rufous-vented Chachalaca11.mp3 to wav_files/Rufous-vented Chachalaca_sound/Rufous-vented Chachalaca11.wav\n",
      "Converted Rufous-vented Chachalaca13.mp3 to wav_files/Rufous-vented Chachalaca_sound/Rufous-vented Chachalaca13.wav\n",
      "Converted Rufous-vented Chachalaca12.mp3 to wav_files/Rufous-vented Chachalaca_sound/Rufous-vented Chachalaca12.wav\n",
      "Converted Rufous-vented Chachalaca23.mp3 to wav_files/Rufous-vented Chachalaca_sound/Rufous-vented Chachalaca23.wav\n",
      "Converted Rufous-vented Chachalaca22.mp3 to wav_files/Rufous-vented Chachalaca_sound/Rufous-vented Chachalaca22.wav\n",
      "Converted Rufous-vented Chachalaca20.mp3 to wav_files/Rufous-vented Chachalaca_sound/Rufous-vented Chachalaca20.wav\n",
      "Converted Rufous-vented Chachalaca21.mp3 to wav_files/Rufous-vented Chachalaca_sound/Rufous-vented Chachalaca21.wav\n",
      "Converted Rufous-vented Chachalaca31.mp3 to wav_files/Rufous-vented Chachalaca_sound/Rufous-vented Chachalaca31.wav\n",
      "Converted Rufous-vented Chachalaca25.mp3 to wav_files/Rufous-vented Chachalaca_sound/Rufous-vented Chachalaca25.wav\n",
      "Converted Rufous-vented Chachalaca19.mp3 to wav_files/Rufous-vented Chachalaca_sound/Rufous-vented Chachalaca19.wav\n",
      "Converted Rufous-vented Chachalaca18.mp3 to wav_files/Rufous-vented Chachalaca_sound/Rufous-vented Chachalaca18.wav\n",
      "Converted Rufous-vented Chachalaca24.mp3 to wav_files/Rufous-vented Chachalaca_sound/Rufous-vented Chachalaca24.wav\n",
      "Converted Rufous-vented Chachalaca30.mp3 to wav_files/Rufous-vented Chachalaca_sound/Rufous-vented Chachalaca30.wav\n",
      "Converted Rufous-vented Chachalaca26.mp3 to wav_files/Rufous-vented Chachalaca_sound/Rufous-vented Chachalaca26.wav\n",
      "Converted Rufous-vented Chachalaca27.mp3 to wav_files/Rufous-vented Chachalaca_sound/Rufous-vented Chachalaca27.wav\n",
      "Converted Rufous-vented Chachalaca2.mp3 to wav_files/Rufous-vented Chachalaca_sound/Rufous-vented Chachalaca2.wav\n",
      "Converted Rufous-vented Chachalaca3.mp3 to wav_files/Rufous-vented Chachalaca_sound/Rufous-vented Chachalaca3.wav\n",
      "Converted Rufous-vented Chachalaca7.mp3 to wav_files/Rufous-vented Chachalaca_sound/Rufous-vented Chachalaca7.wav\n",
      "Converted Rufous-vented Chachalaca6.mp3 to wav_files/Rufous-vented Chachalaca_sound/Rufous-vented Chachalaca6.wav\n",
      "Converted Rufous-vented Chachalaca4.mp3 to wav_files/Rufous-vented Chachalaca_sound/Rufous-vented Chachalaca4.wav\n"
     ]
    },
    {
     "name": "stderr",
     "output_type": "stream",
     "text": [
      "32it [01:27,  4.39s/it]"
     ]
    },
    {
     "name": "stdout",
     "output_type": "stream",
     "text": [
      "Converted Rufous-vented Chachalaca5.mp3 to wav_files/Rufous-vented Chachalaca_sound/Rufous-vented Chachalaca5.wav\n",
      "Converted Malleefowl8.mp3 to wav_files/Malleefowl_sound/Malleefowl8.wav\n",
      "Converted Malleefowl9.mp3 to wav_files/Malleefowl_sound/Malleefowl9.wav\n",
      "Converted Malleefowl4.mp3 to wav_files/Malleefowl_sound/Malleefowl4.wav\n",
      "Converted Malleefowl5.mp3 to wav_files/Malleefowl_sound/Malleefowl5.wav\n",
      "Converted Malleefowl7.mp3 to wav_files/Malleefowl_sound/Malleefowl7.wav\n",
      "Converted Malleefowl6.mp3 to wav_files/Malleefowl_sound/Malleefowl6.wav\n",
      "Converted Malleefowl2.mp3 to wav_files/Malleefowl_sound/Malleefowl2.wav\n"
     ]
    },
    {
     "name": "stderr",
     "output_type": "stream",
     "text": [
      "33it [01:28,  3.43s/it]"
     ]
    },
    {
     "name": "stdout",
     "output_type": "stream",
     "text": [
      "Converted Malleefowl3.mp3 to wav_files/Malleefowl_sound/Malleefowl3.wav\n",
      "Converted Tongan Megapode3.mp3 to wav_files/Tongan Megapode_sound/Tongan Megapode3.wav\n",
      "Converted Tongan Megapode2.mp3 to wav_files/Tongan Megapode_sound/Tongan Megapode2.wav\n",
      "Converted Tongan Megapode5.mp3 to wav_files/Tongan Megapode_sound/Tongan Megapode5.wav\n",
      "Converted Tongan Megapode4.mp3 to wav_files/Tongan Megapode_sound/Tongan Megapode4.wav\n",
      "Converted Tongan Megapode6.mp3 to wav_files/Tongan Megapode_sound/Tongan Megapode6.wav\n",
      "Converted Tongan Megapode7.mp3 to wav_files/Tongan Megapode_sound/Tongan Megapode7.wav\n",
      "Converted Tongan Megapode14.mp3 to wav_files/Tongan Megapode_sound/Tongan Megapode14.wav\n",
      "Converted Tongan Megapode15.mp3 to wav_files/Tongan Megapode_sound/Tongan Megapode15.wav\n",
      "Converted Tongan Megapode12.mp3 to wav_files/Tongan Megapode_sound/Tongan Megapode12.wav\n",
      "Converted Tongan Megapode13.mp3 to wav_files/Tongan Megapode_sound/Tongan Megapode13.wav\n",
      "Converted Tongan Megapode11.mp3 to wav_files/Tongan Megapode_sound/Tongan Megapode11.wav\n",
      "Converted Tongan Megapode10.mp3 to wav_files/Tongan Megapode_sound/Tongan Megapode10.wav\n",
      "Converted Tongan Megapode9.mp3 to wav_files/Tongan Megapode_sound/Tongan Megapode9.wav\n"
     ]
    },
    {
     "name": "stderr",
     "output_type": "stream",
     "text": [
      "34it [01:30,  2.87s/it]"
     ]
    },
    {
     "name": "stdout",
     "output_type": "stream",
     "text": [
      "Converted Tongan Megapode8.mp3 to wav_files/Tongan Megapode_sound/Tongan Megapode8.wav\n",
      "Converted Cauca Guan14.mp3 to wav_files/Cauca Guan_sound/Cauca Guan14.wav\n",
      "Converted Cauca Guan28.mp3 to wav_files/Cauca Guan_sound/Cauca Guan28.wav\n",
      "Converted Cauca Guan29.mp3 to wav_files/Cauca Guan_sound/Cauca Guan29.wav\n",
      "Converted Cauca Guan15.mp3 to wav_files/Cauca Guan_sound/Cauca Guan15.wav\n",
      "Converted Cauca Guan17.mp3 to wav_files/Cauca Guan_sound/Cauca Guan17.wav\n",
      "Converted Cauca Guan16.mp3 to wav_files/Cauca Guan_sound/Cauca Guan16.wav\n",
      "Converted Cauca Guan12.mp3 to wav_files/Cauca Guan_sound/Cauca Guan12.wav\n",
      "Converted Cauca Guan8.mp3 to wav_files/Cauca Guan_sound/Cauca Guan8.wav\n",
      "Converted Cauca Guan9.mp3 to wav_files/Cauca Guan_sound/Cauca Guan9.wav\n",
      "Converted Cauca Guan13.mp3 to wav_files/Cauca Guan_sound/Cauca Guan13.wav\n",
      "Converted Cauca Guan11.mp3 to wav_files/Cauca Guan_sound/Cauca Guan11.wav\n",
      "Converted Cauca Guan10.mp3 to wav_files/Cauca Guan_sound/Cauca Guan10.wav\n",
      "Converted Cauca Guan21.mp3 to wav_files/Cauca Guan_sound/Cauca Guan21.wav\n",
      "Converted Cauca Guan7.mp3 to wav_files/Cauca Guan_sound/Cauca Guan7.wav\n",
      "Converted Cauca Guan6.mp3 to wav_files/Cauca Guan_sound/Cauca Guan6.wav\n",
      "Converted Cauca Guan20.mp3 to wav_files/Cauca Guan_sound/Cauca Guan20.wav\n",
      "Converted Cauca Guan22.mp3 to wav_files/Cauca Guan_sound/Cauca Guan22.wav\n",
      "Converted Cauca Guan4.mp3 to wav_files/Cauca Guan_sound/Cauca Guan4.wav\n",
      "Converted Cauca Guan5.mp3 to wav_files/Cauca Guan_sound/Cauca Guan5.wav\n",
      "Converted Cauca Guan23.mp3 to wav_files/Cauca Guan_sound/Cauca Guan23.wav\n",
      "Converted Cauca Guan27.mp3 to wav_files/Cauca Guan_sound/Cauca Guan27.wav\n",
      "Converted Cauca Guan26.mp3 to wav_files/Cauca Guan_sound/Cauca Guan26.wav\n",
      "Converted Cauca Guan18.mp3 to wav_files/Cauca Guan_sound/Cauca Guan18.wav\n",
      "Converted Cauca Guan30.mp3 to wav_files/Cauca Guan_sound/Cauca Guan30.wav\n",
      "Converted Cauca Guan24.mp3 to wav_files/Cauca Guan_sound/Cauca Guan24.wav\n",
      "Converted Cauca Guan2.mp3 to wav_files/Cauca Guan_sound/Cauca Guan2.wav\n",
      "Converted Cauca Guan3.mp3 to wav_files/Cauca Guan_sound/Cauca Guan3.wav\n",
      "Converted Cauca Guan25.mp3 to wav_files/Cauca Guan_sound/Cauca Guan25.wav\n",
      "Converted Cauca Guan31.mp3 to wav_files/Cauca Guan_sound/Cauca Guan31.wav\n"
     ]
    },
    {
     "name": "stderr",
     "output_type": "stream",
     "text": [
      "35it [01:40,  5.14s/it]"
     ]
    },
    {
     "name": "stdout",
     "output_type": "stream",
     "text": [
      "Converted Cauca Guan19.mp3 to wav_files/Cauca Guan_sound/Cauca Guan19.wav\n",
      "Converted Slaty-breasted Tinamou14.mp3 to wav_files/Slaty-breasted Tinamou_sound/Slaty-breasted Tinamou14.wav\n",
      "Converted Slaty-breasted Tinamou28.mp3 to wav_files/Slaty-breasted Tinamou_sound/Slaty-breasted Tinamou28.wav\n",
      "Converted Slaty-breasted Tinamou3.mp3 to wav_files/Slaty-breasted Tinamou_sound/Slaty-breasted Tinamou3.wav\n",
      "Converted Slaty-breasted Tinamou2.mp3 to wav_files/Slaty-breasted Tinamou_sound/Slaty-breasted Tinamou2.wav\n",
      "Converted Slaty-breasted Tinamou29.mp3 to wav_files/Slaty-breasted Tinamou_sound/Slaty-breasted Tinamou29.wav\n",
      "Converted Slaty-breasted Tinamou15.mp3 to wav_files/Slaty-breasted Tinamou_sound/Slaty-breasted Tinamou15.wav\n",
      "Converted Slaty-breasted Tinamou17.mp3 to wav_files/Slaty-breasted Tinamou_sound/Slaty-breasted Tinamou17.wav\n",
      "Converted Slaty-breasted Tinamou16.mp3 to wav_files/Slaty-breasted Tinamou_sound/Slaty-breasted Tinamou16.wav\n",
      "Converted Slaty-breasted Tinamou12.mp3 to wav_files/Slaty-breasted Tinamou_sound/Slaty-breasted Tinamou12.wav\n",
      "Converted Slaty-breasted Tinamou5.mp3 to wav_files/Slaty-breasted Tinamou_sound/Slaty-breasted Tinamou5.wav\n",
      "Converted Slaty-breasted Tinamou4.mp3 to wav_files/Slaty-breasted Tinamou_sound/Slaty-breasted Tinamou4.wav\n",
      "Converted Slaty-breasted Tinamou13.mp3 to wav_files/Slaty-breasted Tinamou_sound/Slaty-breasted Tinamou13.wav\n",
      "Converted Slaty-breasted Tinamou11.mp3 to wav_files/Slaty-breasted Tinamou_sound/Slaty-breasted Tinamou11.wav\n",
      "Converted Slaty-breasted Tinamou6.mp3 to wav_files/Slaty-breasted Tinamou_sound/Slaty-breasted Tinamou6.wav\n",
      "Converted Slaty-breasted Tinamou7.mp3 to wav_files/Slaty-breasted Tinamou_sound/Slaty-breasted Tinamou7.wav\n",
      "Converted Slaty-breasted Tinamou10.mp3 to wav_files/Slaty-breasted Tinamou_sound/Slaty-breasted Tinamou10.wav\n",
      "Converted Slaty-breasted Tinamou21.mp3 to wav_files/Slaty-breasted Tinamou_sound/Slaty-breasted Tinamou21.wav\n",
      "Converted Slaty-breasted Tinamou20.mp3 to wav_files/Slaty-breasted Tinamou_sound/Slaty-breasted Tinamou20.wav\n",
      "Converted Slaty-breasted Tinamou22.mp3 to wav_files/Slaty-breasted Tinamou_sound/Slaty-breasted Tinamou22.wav\n",
      "Converted Slaty-breasted Tinamou9.mp3 to wav_files/Slaty-breasted Tinamou_sound/Slaty-breasted Tinamou9.wav\n",
      "Converted Slaty-breasted Tinamou8.mp3 to wav_files/Slaty-breasted Tinamou_sound/Slaty-breasted Tinamou8.wav\n",
      "Converted Slaty-breasted Tinamou23.mp3 to wav_files/Slaty-breasted Tinamou_sound/Slaty-breasted Tinamou23.wav\n",
      "Converted Slaty-breasted Tinamou27.mp3 to wav_files/Slaty-breasted Tinamou_sound/Slaty-breasted Tinamou27.wav\n",
      "Converted Slaty-breasted Tinamou26.mp3 to wav_files/Slaty-breasted Tinamou_sound/Slaty-breasted Tinamou26.wav\n",
      "Converted Slaty-breasted Tinamou18.mp3 to wav_files/Slaty-breasted Tinamou_sound/Slaty-breasted Tinamou18.wav\n",
      "Converted Slaty-breasted Tinamou30.mp3 to wav_files/Slaty-breasted Tinamou_sound/Slaty-breasted Tinamou30.wav\n",
      "Converted Slaty-breasted Tinamou24.mp3 to wav_files/Slaty-breasted Tinamou_sound/Slaty-breasted Tinamou24.wav\n",
      "Converted Slaty-breasted Tinamou25.mp3 to wav_files/Slaty-breasted Tinamou_sound/Slaty-breasted Tinamou25.wav\n"
     ]
    },
    {
     "name": "stderr",
     "output_type": "stream",
     "text": [
      "36it [01:45,  5.05s/it]"
     ]
    },
    {
     "name": "stdout",
     "output_type": "stream",
     "text": [
      "Converted Slaty-breasted Tinamou19.mp3 to wav_files/Slaty-breasted Tinamou_sound/Slaty-breasted Tinamou19.wav\n",
      "Converted Chestnut-headed Chachalaca3.mp3 to wav_files/Chestnut-headed Chachalaca_sound/Chestnut-headed Chachalaca3.wav\n",
      "Converted Chestnut-headed Chachalaca2.mp3 to wav_files/Chestnut-headed Chachalaca_sound/Chestnut-headed Chachalaca2.wav\n"
     ]
    },
    {
     "name": "stderr",
     "output_type": "stream",
     "text": [
      "37it [01:46,  3.77s/it]"
     ]
    },
    {
     "name": "stdout",
     "output_type": "stream",
     "text": [
      "Converted Chestnut-headed Chachalaca5.mp3 to wav_files/Chestnut-headed Chachalaca_sound/Chestnut-headed Chachalaca5.wav\n",
      "Converted Chestnut-headed Chachalaca4.mp3 to wav_files/Chestnut-headed Chachalaca_sound/Chestnut-headed Chachalaca4.wav\n",
      "Converted Common Ostrich3.mp3 to wav_files/Common Ostrich_sound/Common Ostrich3.wav\n",
      "Converted Common Ostrich2.mp3 to wav_files/Common Ostrich_sound/Common Ostrich2.wav\n",
      "Converted Common Ostrich5.mp3 to wav_files/Common Ostrich_sound/Common Ostrich5.wav\n",
      "Converted Common Ostrich4.mp3 to wav_files/Common Ostrich_sound/Common Ostrich4.wav\n",
      "Converted Common Ostrich6.mp3 to wav_files/Common Ostrich_sound/Common Ostrich6.wav\n",
      "Converted Common Ostrich7.mp3 to wav_files/Common Ostrich_sound/Common Ostrich7.wav\n"
     ]
    },
    {
     "name": "stderr",
     "output_type": "stream",
     "text": [
      "38it [01:47,  2.97s/it]"
     ]
    },
    {
     "name": "stdout",
     "output_type": "stream",
     "text": [
      "Converted Common Ostrich8.mp3 to wav_files/Common Ostrich_sound/Common Ostrich8.wav\n",
      "Converted Blue-throated Piping Guan8.mp3 to wav_files/Blue-throated Piping Guan_sound/Blue-throated Piping Guan8.wav\n",
      "Converted Blue-throated Piping Guan29.mp3 to wav_files/Blue-throated Piping Guan_sound/Blue-throated Piping Guan29.wav\n",
      "Converted Blue-throated Piping Guan15.mp3 to wav_files/Blue-throated Piping Guan_sound/Blue-throated Piping Guan15.wav\n",
      "Converted Blue-throated Piping Guan14.mp3 to wav_files/Blue-throated Piping Guan_sound/Blue-throated Piping Guan14.wav\n",
      "Converted Blue-throated Piping Guan28.mp3 to wav_files/Blue-throated Piping Guan_sound/Blue-throated Piping Guan28.wav\n",
      "Converted Blue-throated Piping Guan9.mp3 to wav_files/Blue-throated Piping Guan_sound/Blue-throated Piping Guan9.wav\n",
      "Converted Blue-throated Piping Guan16.mp3 to wav_files/Blue-throated Piping Guan_sound/Blue-throated Piping Guan16.wav\n",
      "Converted Blue-throated Piping Guan17.mp3 to wav_files/Blue-throated Piping Guan_sound/Blue-throated Piping Guan17.wav\n",
      "Converted Blue-throated Piping Guan13.mp3 to wav_files/Blue-throated Piping Guan_sound/Blue-throated Piping Guan13.wav\n",
      "Converted Blue-throated Piping Guan12.mp3 to wav_files/Blue-throated Piping Guan_sound/Blue-throated Piping Guan12.wav\n",
      "Converted Blue-throated Piping Guan10.mp3 to wav_files/Blue-throated Piping Guan_sound/Blue-throated Piping Guan10.wav\n",
      "Converted Blue-throated Piping Guan11.mp3 to wav_files/Blue-throated Piping Guan_sound/Blue-throated Piping Guan11.wav\n",
      "Converted Blue-throated Piping Guan20.mp3 to wav_files/Blue-throated Piping Guan_sound/Blue-throated Piping Guan20.wav\n",
      "Converted Blue-throated Piping Guan21.mp3 to wav_files/Blue-throated Piping Guan_sound/Blue-throated Piping Guan21.wav\n",
      "Converted Blue-throated Piping Guan2.mp3 to wav_files/Blue-throated Piping Guan_sound/Blue-throated Piping Guan2.wav\n",
      "Converted Blue-throated Piping Guan23.mp3 to wav_files/Blue-throated Piping Guan_sound/Blue-throated Piping Guan23.wav\n",
      "Converted Blue-throated Piping Guan22.mp3 to wav_files/Blue-throated Piping Guan_sound/Blue-throated Piping Guan22.wav\n",
      "Converted Blue-throated Piping Guan3.mp3 to wav_files/Blue-throated Piping Guan_sound/Blue-throated Piping Guan3.wav\n",
      "Converted Blue-throated Piping Guan7.mp3 to wav_files/Blue-throated Piping Guan_sound/Blue-throated Piping Guan7.wav\n",
      "Converted Blue-throated Piping Guan26.mp3 to wav_files/Blue-throated Piping Guan_sound/Blue-throated Piping Guan26.wav\n",
      "Converted Blue-throated Piping Guan27.mp3 to wav_files/Blue-throated Piping Guan_sound/Blue-throated Piping Guan27.wav\n",
      "Converted Blue-throated Piping Guan6.mp3 to wav_files/Blue-throated Piping Guan_sound/Blue-throated Piping Guan6.wav\n",
      "Converted Blue-throated Piping Guan4.mp3 to wav_files/Blue-throated Piping Guan_sound/Blue-throated Piping Guan4.wav\n",
      "Converted Blue-throated Piping Guan25.mp3 to wav_files/Blue-throated Piping Guan_sound/Blue-throated Piping Guan25.wav\n",
      "Converted Blue-throated Piping Guan31.mp3 to wav_files/Blue-throated Piping Guan_sound/Blue-throated Piping Guan31.wav\n",
      "Converted Blue-throated Piping Guan19.mp3 to wav_files/Blue-throated Piping Guan_sound/Blue-throated Piping Guan19.wav\n",
      "Converted Blue-throated Piping Guan18.mp3 to wav_files/Blue-throated Piping Guan_sound/Blue-throated Piping Guan18.wav\n",
      "Converted Blue-throated Piping Guan30.mp3 to wav_files/Blue-throated Piping Guan_sound/Blue-throated Piping Guan30.wav\n"
     ]
    },
    {
     "name": "stderr",
     "output_type": "stream",
     "text": [
      "39it [01:51,  3.33s/it]"
     ]
    },
    {
     "name": "stdout",
     "output_type": "stream",
     "text": [
      "Converted Blue-throated Piping Guan24.mp3 to wav_files/Blue-throated Piping Guan_sound/Blue-throated Piping Guan24.wav\n",
      "Converted Blue-throated Piping Guan5.mp3 to wav_files/Blue-throated Piping Guan_sound/Blue-throated Piping Guan5.wav\n",
      "Converted Baudo Guan9.mp3 to wav_files/Baudo Guan_sound/Baudo Guan9.wav\n",
      "Converted Baudo Guan8.mp3 to wav_files/Baudo Guan_sound/Baudo Guan8.wav\n",
      "Converted Baudo Guan11.mp3 to wav_files/Baudo Guan_sound/Baudo Guan11.wav\n",
      "Converted Baudo Guan10.mp3 to wav_files/Baudo Guan_sound/Baudo Guan10.wav\n",
      "Converted Baudo Guan12.mp3 to wav_files/Baudo Guan_sound/Baudo Guan12.wav\n",
      "Converted Baudo Guan13.mp3 to wav_files/Baudo Guan_sound/Baudo Guan13.wav\n",
      "Converted Baudo Guan14.mp3 to wav_files/Baudo Guan_sound/Baudo Guan14.wav\n",
      "Converted Baudo Guan15.mp3 to wav_files/Baudo Guan_sound/Baudo Guan15.wav\n",
      "Converted Baudo Guan6.mp3 to wav_files/Baudo Guan_sound/Baudo Guan6.wav\n",
      "Converted Baudo Guan7.mp3 to wav_files/Baudo Guan_sound/Baudo Guan7.wav\n",
      "Converted Baudo Guan5.mp3 to wav_files/Baudo Guan_sound/Baudo Guan5.wav\n",
      "Converted Baudo Guan4.mp3 to wav_files/Baudo Guan_sound/Baudo Guan4.wav\n"
     ]
    },
    {
     "name": "stderr",
     "output_type": "stream",
     "text": [
      "40it [01:53,  2.97s/it]"
     ]
    },
    {
     "name": "stdout",
     "output_type": "stream",
     "text": [
      "Converted Baudo Guan3.mp3 to wav_files/Baudo Guan_sound/Baudo Guan3.wav\n",
      "Converted Baudo Guan2.mp3 to wav_files/Baudo Guan_sound/Baudo Guan2.wav\n",
      "Converted Crested Guan8.mp3 to wav_files/Crested Guan_sound/Crested Guan8.wav\n",
      "Converted Crested Guan9.mp3 to wav_files/Crested Guan_sound/Crested Guan9.wav\n",
      "Converted Crested Guan11.mp3 to wav_files/Crested Guan_sound/Crested Guan11.wav\n",
      "Converted Crested Guan10.mp3 to wav_files/Crested Guan_sound/Crested Guan10.wav\n",
      "Converted Crested Guan12.mp3 to wav_files/Crested Guan_sound/Crested Guan12.wav\n",
      "Converted Crested Guan13.mp3 to wav_files/Crested Guan_sound/Crested Guan13.wav\n",
      "Converted Crested Guan17.mp3 to wav_files/Crested Guan_sound/Crested Guan17.wav\n",
      "Converted Crested Guan16.mp3 to wav_files/Crested Guan_sound/Crested Guan16.wav\n",
      "Converted Crested Guan28.mp3 to wav_files/Crested Guan_sound/Crested Guan28.wav\n",
      "Converted Crested Guan14.mp3 to wav_files/Crested Guan_sound/Crested Guan14.wav\n",
      "Converted Crested Guan15.mp3 to wav_files/Crested Guan_sound/Crested Guan15.wav\n",
      "Converted Crested Guan29.mp3 to wav_files/Crested Guan_sound/Crested Guan29.wav\n",
      "Converted Crested Guan24.mp3 to wav_files/Crested Guan_sound/Crested Guan24.wav\n",
      "Converted Crested Guan30.mp3 to wav_files/Crested Guan_sound/Crested Guan30.wav\n",
      "Converted Crested Guan18.mp3 to wav_files/Crested Guan_sound/Crested Guan18.wav\n",
      "Converted Crested Guan19.mp3 to wav_files/Crested Guan_sound/Crested Guan19.wav\n",
      "Converted Crested Guan31.mp3 to wav_files/Crested Guan_sound/Crested Guan31.wav\n",
      "Converted Crested Guan25.mp3 to wav_files/Crested Guan_sound/Crested Guan25.wav\n",
      "Converted Crested Guan27.mp3 to wav_files/Crested Guan_sound/Crested Guan27.wav\n",
      "Converted Crested Guan26.mp3 to wav_files/Crested Guan_sound/Crested Guan26.wav\n",
      "Converted Crested Guan22.mp3 to wav_files/Crested Guan_sound/Crested Guan22.wav\n",
      "Converted Crested Guan23.mp3 to wav_files/Crested Guan_sound/Crested Guan23.wav\n",
      "Converted Crested Guan21.mp3 to wav_files/Crested Guan_sound/Crested Guan21.wav\n",
      "Converted Crested Guan20.mp3 to wav_files/Crested Guan_sound/Crested Guan20.wav\n",
      "Converted Crested Guan2.mp3 to wav_files/Crested Guan_sound/Crested Guan2.wav\n",
      "Converted Crested Guan3.mp3 to wav_files/Crested Guan_sound/Crested Guan3.wav\n",
      "Converted Crested Guan4.mp3 to wav_files/Crested Guan_sound/Crested Guan4.wav\n",
      "Converted Crested Guan5.mp3 to wav_files/Crested Guan_sound/Crested Guan5.wav\n",
      "Converted Crested Guan7.mp3 to wav_files/Crested Guan_sound/Crested Guan7.wav\n"
     ]
    },
    {
     "name": "stderr",
     "output_type": "stream",
     "text": [
      "41it [01:59,  3.70s/it]"
     ]
    },
    {
     "name": "stdout",
     "output_type": "stream",
     "text": [
      "Converted Crested Guan6.mp3 to wav_files/Crested Guan_sound/Crested Guan6.wav\n",
      "Converted Grey-legged Tinamou8.mp3 to wav_files/Grey-legged Tinamou_sound/Grey-legged Tinamou8.wav\n",
      "Converted Grey-legged Tinamou11.mp3 to wav_files/Grey-legged Tinamou_sound/Grey-legged Tinamou11.wav\n",
      "Converted Grey-legged Tinamou10.mp3 to wav_files/Grey-legged Tinamou_sound/Grey-legged Tinamou10.wav\n",
      "Converted Grey-legged Tinamou9.mp3 to wav_files/Grey-legged Tinamou_sound/Grey-legged Tinamou9.wav\n",
      "Converted Grey-legged Tinamou12.mp3 to wav_files/Grey-legged Tinamou_sound/Grey-legged Tinamou12.wav\n",
      "Converted Grey-legged Tinamou13.mp3 to wav_files/Grey-legged Tinamou_sound/Grey-legged Tinamou13.wav\n",
      "Converted Grey-legged Tinamou2.mp3 to wav_files/Grey-legged Tinamou_sound/Grey-legged Tinamou2.wav\n",
      "Converted Grey-legged Tinamou3.mp3 to wav_files/Grey-legged Tinamou_sound/Grey-legged Tinamou3.wav\n",
      "Converted Grey-legged Tinamou7.mp3 to wav_files/Grey-legged Tinamou_sound/Grey-legged Tinamou7.wav\n",
      "Converted Grey-legged Tinamou6.mp3 to wav_files/Grey-legged Tinamou_sound/Grey-legged Tinamou6.wav\n",
      "Converted Grey-legged Tinamou4.mp3 to wav_files/Grey-legged Tinamou_sound/Grey-legged Tinamou4.wav\n"
     ]
    },
    {
     "name": "stderr",
     "output_type": "stream",
     "text": [
      "42it [02:01,  3.37s/it]"
     ]
    },
    {
     "name": "stdout",
     "output_type": "stream",
     "text": [
      "Converted Grey-legged Tinamou5.mp3 to wav_files/Grey-legged Tinamou_sound/Grey-legged Tinamou5.wav\n",
      "Converted North Island Brown Kiwi7.mp3 to wav_files/North Island Brown Kiwi_sound/North Island Brown Kiwi7.wav\n",
      "Converted North Island Brown Kiwi6.mp3 to wav_files/North Island Brown Kiwi_sound/North Island Brown Kiwi6.wav\n",
      "Converted North Island Brown Kiwi4.mp3 to wav_files/North Island Brown Kiwi_sound/North Island Brown Kiwi4.wav\n",
      "Converted North Island Brown Kiwi5.mp3 to wav_files/North Island Brown Kiwi_sound/North Island Brown Kiwi5.wav\n",
      "Converted North Island Brown Kiwi2.mp3 to wav_files/North Island Brown Kiwi_sound/North Island Brown Kiwi2.wav\n",
      "Converted North Island Brown Kiwi3.mp3 to wav_files/North Island Brown Kiwi_sound/North Island Brown Kiwi3.wav\n",
      "Converted North Island Brown Kiwi11.mp3 to wav_files/North Island Brown Kiwi_sound/North Island Brown Kiwi11.wav\n",
      "Converted North Island Brown Kiwi10.mp3 to wav_files/North Island Brown Kiwi_sound/North Island Brown Kiwi10.wav\n",
      "Converted North Island Brown Kiwi12.mp3 to wav_files/North Island Brown Kiwi_sound/North Island Brown Kiwi12.wav\n",
      "Converted North Island Brown Kiwi13.mp3 to wav_files/North Island Brown Kiwi_sound/North Island Brown Kiwi13.wav\n",
      "Converted North Island Brown Kiwi17.mp3 to wav_files/North Island Brown Kiwi_sound/North Island Brown Kiwi17.wav\n",
      "Converted North Island Brown Kiwi16.mp3 to wav_files/North Island Brown Kiwi_sound/North Island Brown Kiwi16.wav\n",
      "Converted North Island Brown Kiwi14.mp3 to wav_files/North Island Brown Kiwi_sound/North Island Brown Kiwi14.wav\n",
      "Converted North Island Brown Kiwi15.mp3 to wav_files/North Island Brown Kiwi_sound/North Island Brown Kiwi15.wav\n",
      "Converted North Island Brown Kiwi18.mp3 to wav_files/North Island Brown Kiwi_sound/North Island Brown Kiwi18.wav\n",
      "Converted North Island Brown Kiwi19.mp3 to wav_files/North Island Brown Kiwi_sound/North Island Brown Kiwi19.wav\n",
      "Converted North Island Brown Kiwi20.mp3 to wav_files/North Island Brown Kiwi_sound/North Island Brown Kiwi20.wav\n"
     ]
    },
    {
     "name": "stderr",
     "output_type": "stream",
     "text": [
      "43it [02:04,  3.14s/it]"
     ]
    },
    {
     "name": "stdout",
     "output_type": "stream",
     "text": [
      "Converted North Island Brown Kiwi8.mp3 to wav_files/North Island Brown Kiwi_sound/North Island Brown Kiwi8.wav\n",
      "Converted North Island Brown Kiwi9.mp3 to wav_files/North Island Brown Kiwi_sound/North Island Brown Kiwi9.wav\n",
      "Converted Rufous-bellied Chachalaca11.mp3 to wav_files/Rufous-bellied Chachalaca_sound/Rufous-bellied Chachalaca11.wav\n",
      "Converted Rufous-bellied Chachalaca10.mp3 to wav_files/Rufous-bellied Chachalaca_sound/Rufous-bellied Chachalaca10.wav\n",
      "Converted Rufous-bellied Chachalaca3.mp3 to wav_files/Rufous-bellied Chachalaca_sound/Rufous-bellied Chachalaca3.wav\n",
      "Converted Rufous-bellied Chachalaca12.mp3 to wav_files/Rufous-bellied Chachalaca_sound/Rufous-bellied Chachalaca12.wav\n",
      "Converted Rufous-bellied Chachalaca13.mp3 to wav_files/Rufous-bellied Chachalaca_sound/Rufous-bellied Chachalaca13.wav\n",
      "Converted Rufous-bellied Chachalaca2.mp3 to wav_files/Rufous-bellied Chachalaca_sound/Rufous-bellied Chachalaca2.wav\n",
      "Converted Rufous-bellied Chachalaca6.mp3 to wav_files/Rufous-bellied Chachalaca_sound/Rufous-bellied Chachalaca6.wav\n",
      "Converted Rufous-bellied Chachalaca17.mp3 to wav_files/Rufous-bellied Chachalaca_sound/Rufous-bellied Chachalaca17.wav\n",
      "Converted Rufous-bellied Chachalaca16.mp3 to wav_files/Rufous-bellied Chachalaca_sound/Rufous-bellied Chachalaca16.wav\n",
      "Converted Rufous-bellied Chachalaca7.mp3 to wav_files/Rufous-bellied Chachalaca_sound/Rufous-bellied Chachalaca7.wav\n",
      "Converted Rufous-bellied Chachalaca5.mp3 to wav_files/Rufous-bellied Chachalaca_sound/Rufous-bellied Chachalaca5.wav\n",
      "Converted Rufous-bellied Chachalaca28.mp3 to wav_files/Rufous-bellied Chachalaca_sound/Rufous-bellied Chachalaca28.wav\n",
      "Converted Rufous-bellied Chachalaca14.mp3 to wav_files/Rufous-bellied Chachalaca_sound/Rufous-bellied Chachalaca14.wav\n",
      "Converted Rufous-bellied Chachalaca15.mp3 to wav_files/Rufous-bellied Chachalaca_sound/Rufous-bellied Chachalaca15.wav\n",
      "Converted Rufous-bellied Chachalaca29.mp3 to wav_files/Rufous-bellied Chachalaca_sound/Rufous-bellied Chachalaca29.wav\n",
      "Converted Rufous-bellied Chachalaca4.mp3 to wav_files/Rufous-bellied Chachalaca_sound/Rufous-bellied Chachalaca4.wav\n",
      "Converted Rufous-bellied Chachalaca9.mp3 to wav_files/Rufous-bellied Chachalaca_sound/Rufous-bellied Chachalaca9.wav\n",
      "Converted Rufous-bellied Chachalaca30.mp3 to wav_files/Rufous-bellied Chachalaca_sound/Rufous-bellied Chachalaca30.wav\n",
      "Converted Rufous-bellied Chachalaca24.mp3 to wav_files/Rufous-bellied Chachalaca_sound/Rufous-bellied Chachalaca24.wav\n",
      "Converted Rufous-bellied Chachalaca18.mp3 to wav_files/Rufous-bellied Chachalaca_sound/Rufous-bellied Chachalaca18.wav\n",
      "Converted Rufous-bellied Chachalaca19.mp3 to wav_files/Rufous-bellied Chachalaca_sound/Rufous-bellied Chachalaca19.wav\n",
      "Converted Rufous-bellied Chachalaca25.mp3 to wav_files/Rufous-bellied Chachalaca_sound/Rufous-bellied Chachalaca25.wav\n",
      "Converted Rufous-bellied Chachalaca31.mp3 to wav_files/Rufous-bellied Chachalaca_sound/Rufous-bellied Chachalaca31.wav\n",
      "Converted Rufous-bellied Chachalaca8.mp3 to wav_files/Rufous-bellied Chachalaca_sound/Rufous-bellied Chachalaca8.wav\n",
      "Converted Rufous-bellied Chachalaca27.mp3 to wav_files/Rufous-bellied Chachalaca_sound/Rufous-bellied Chachalaca27.wav\n",
      "Converted Rufous-bellied Chachalaca26.mp3 to wav_files/Rufous-bellied Chachalaca_sound/Rufous-bellied Chachalaca26.wav\n",
      "Converted Rufous-bellied Chachalaca22.mp3 to wav_files/Rufous-bellied Chachalaca_sound/Rufous-bellied Chachalaca22.wav\n",
      "Converted Rufous-bellied Chachalaca23.mp3 to wav_files/Rufous-bellied Chachalaca_sound/Rufous-bellied Chachalaca23.wav\n",
      "Converted Rufous-bellied Chachalaca21.mp3 to wav_files/Rufous-bellied Chachalaca_sound/Rufous-bellied Chachalaca21.wav\n"
     ]
    },
    {
     "name": "stderr",
     "output_type": "stream",
     "text": [
      "44it [02:12,  4.69s/it]"
     ]
    },
    {
     "name": "stdout",
     "output_type": "stream",
     "text": [
      "Converted Rufous-bellied Chachalaca20.mp3 to wav_files/Rufous-bellied Chachalaca_sound/Rufous-bellied Chachalaca20.wav\n",
      "Converted Marail Guan11.mp3 to wav_files/Marail Guan_sound/Marail Guan11.wav\n",
      "Converted Marail Guan10.mp3 to wav_files/Marail Guan_sound/Marail Guan10.wav\n",
      "Converted Marail Guan12.mp3 to wav_files/Marail Guan_sound/Marail Guan12.wav\n",
      "Converted Marail Guan13.mp3 to wav_files/Marail Guan_sound/Marail Guan13.wav\n",
      "Converted Marail Guan9.mp3 to wav_files/Marail Guan_sound/Marail Guan9.wav\n",
      "Converted Marail Guan17.mp3 to wav_files/Marail Guan_sound/Marail Guan17.wav\n",
      "Converted Marail Guan16.mp3 to wav_files/Marail Guan_sound/Marail Guan16.wav\n",
      "Converted Marail Guan8.mp3 to wav_files/Marail Guan_sound/Marail Guan8.wav\n",
      "Converted Marail Guan14.mp3 to wav_files/Marail Guan_sound/Marail Guan14.wav\n",
      "Converted Marail Guan15.mp3 to wav_files/Marail Guan_sound/Marail Guan15.wav\n",
      "Converted Marail Guan6.mp3 to wav_files/Marail Guan_sound/Marail Guan6.wav\n",
      "Converted Marail Guan18.mp3 to wav_files/Marail Guan_sound/Marail Guan18.wav\n",
      "Converted Marail Guan7.mp3 to wav_files/Marail Guan_sound/Marail Guan7.wav\n",
      "Converted Marail Guan5.mp3 to wav_files/Marail Guan_sound/Marail Guan5.wav\n",
      "Converted Marail Guan4.mp3 to wav_files/Marail Guan_sound/Marail Guan4.wav\n"
     ]
    },
    {
     "name": "stderr",
     "output_type": "stream",
     "text": [
      "45it [02:14,  3.93s/it]"
     ]
    },
    {
     "name": "stdout",
     "output_type": "stream",
     "text": [
      "Converted Marail Guan3.mp3 to wav_files/Marail Guan_sound/Marail Guan3.wav\n",
      "Converted Marail Guan2.mp3 to wav_files/Marail Guan_sound/Marail Guan2.wav\n",
      "Converted Colombian Chachalaca9.mp3 to wav_files/Colombian Chachalaca_sound/Colombian Chachalaca9.wav\n",
      "Converted Colombian Chachalaca8.mp3 to wav_files/Colombian Chachalaca_sound/Colombian Chachalaca8.wav\n",
      "Converted Colombian Chachalaca11.mp3 to wav_files/Colombian Chachalaca_sound/Colombian Chachalaca11.wav\n",
      "Converted Colombian Chachalaca10.mp3 to wav_files/Colombian Chachalaca_sound/Colombian Chachalaca10.wav\n",
      "Converted Colombian Chachalaca12.mp3 to wav_files/Colombian Chachalaca_sound/Colombian Chachalaca12.wav\n",
      "Converted Colombian Chachalaca13.mp3 to wav_files/Colombian Chachalaca_sound/Colombian Chachalaca13.wav\n",
      "Converted Colombian Chachalaca17.mp3 to wav_files/Colombian Chachalaca_sound/Colombian Chachalaca17.wav\n",
      "Converted Colombian Chachalaca16.mp3 to wav_files/Colombian Chachalaca_sound/Colombian Chachalaca16.wav\n",
      "Converted Colombian Chachalaca14.mp3 to wav_files/Colombian Chachalaca_sound/Colombian Chachalaca14.wav\n",
      "Converted Colombian Chachalaca28.mp3 to wav_files/Colombian Chachalaca_sound/Colombian Chachalaca28.wav\n",
      "Converted Colombian Chachalaca29.mp3 to wav_files/Colombian Chachalaca_sound/Colombian Chachalaca29.wav\n",
      "Converted Colombian Chachalaca15.mp3 to wav_files/Colombian Chachalaca_sound/Colombian Chachalaca15.wav\n",
      "Converted Colombian Chachalaca18.mp3 to wav_files/Colombian Chachalaca_sound/Colombian Chachalaca18.wav\n",
      "Converted Colombian Chachalaca30.mp3 to wav_files/Colombian Chachalaca_sound/Colombian Chachalaca30.wav\n",
      "Converted Colombian Chachalaca24.mp3 to wav_files/Colombian Chachalaca_sound/Colombian Chachalaca24.wav\n",
      "Converted Colombian Chachalaca25.mp3 to wav_files/Colombian Chachalaca_sound/Colombian Chachalaca25.wav\n",
      "Converted Colombian Chachalaca31.mp3 to wav_files/Colombian Chachalaca_sound/Colombian Chachalaca31.wav\n",
      "Converted Colombian Chachalaca19.mp3 to wav_files/Colombian Chachalaca_sound/Colombian Chachalaca19.wav\n",
      "Converted Colombian Chachalaca27.mp3 to wav_files/Colombian Chachalaca_sound/Colombian Chachalaca27.wav\n",
      "Converted Colombian Chachalaca26.mp3 to wav_files/Colombian Chachalaca_sound/Colombian Chachalaca26.wav\n",
      "Converted Colombian Chachalaca22.mp3 to wav_files/Colombian Chachalaca_sound/Colombian Chachalaca22.wav\n",
      "Converted Colombian Chachalaca23.mp3 to wav_files/Colombian Chachalaca_sound/Colombian Chachalaca23.wav\n",
      "Converted Colombian Chachalaca21.mp3 to wav_files/Colombian Chachalaca_sound/Colombian Chachalaca21.wav\n",
      "Converted Colombian Chachalaca20.mp3 to wav_files/Colombian Chachalaca_sound/Colombian Chachalaca20.wav\n",
      "Converted Colombian Chachalaca3.mp3 to wav_files/Colombian Chachalaca_sound/Colombian Chachalaca3.wav\n",
      "Converted Colombian Chachalaca2.mp3 to wav_files/Colombian Chachalaca_sound/Colombian Chachalaca2.wav\n",
      "Converted Colombian Chachalaca5.mp3 to wav_files/Colombian Chachalaca_sound/Colombian Chachalaca5.wav\n",
      "Converted Colombian Chachalaca4.mp3 to wav_files/Colombian Chachalaca_sound/Colombian Chachalaca4.wav\n",
      "Converted Colombian Chachalaca6.mp3 to wav_files/Colombian Chachalaca_sound/Colombian Chachalaca6.wav\n"
     ]
    },
    {
     "name": "stderr",
     "output_type": "stream",
     "text": [
      "46it [02:20,  4.37s/it]"
     ]
    },
    {
     "name": "stdout",
     "output_type": "stream",
     "text": [
      "Converted Colombian Chachalaca7.mp3 to wav_files/Colombian Chachalaca_sound/Colombian Chachalaca7.wav\n",
      "Converted Maleo8.mp3 to wav_files/Maleo_sound/Maleo8.wav\n",
      "Converted Maleo3.mp3 to wav_files/Maleo_sound/Maleo3.wav\n",
      "Converted Maleo2.mp3 to wav_files/Maleo_sound/Maleo2.wav\n",
      "Converted Maleo6.mp3 to wav_files/Maleo_sound/Maleo6.wav\n",
      "Converted Maleo7.mp3 to wav_files/Maleo_sound/Maleo7.wav\n"
     ]
    },
    {
     "name": "stderr",
     "output_type": "stream",
     "text": [
      "47it [02:20,  3.31s/it]"
     ]
    },
    {
     "name": "stdout",
     "output_type": "stream",
     "text": [
      "Converted Maleo5.mp3 to wav_files/Maleo_sound/Maleo5.wav\n",
      "Converted Maleo4.mp3 to wav_files/Maleo_sound/Maleo4.wav\n",
      "Converted Emu3.mp3 to wav_files/Emu_sound/Emu3.wav\n",
      "Converted Emu2.mp3 to wav_files/Emu_sound/Emu2.wav\n",
      "Converted Emu6.mp3 to wav_files/Emu_sound/Emu6.wav\n",
      "Converted Emu7.mp3 to wav_files/Emu_sound/Emu7.wav\n",
      "Converted Emu5.mp3 to wav_files/Emu_sound/Emu5.wav\n",
      "Converted Emu4.mp3 to wav_files/Emu_sound/Emu4.wav\n",
      "Converted Emu10.mp3 to wav_files/Emu_sound/Emu10.wav\n",
      "Converted Emu11.mp3 to wav_files/Emu_sound/Emu11.wav\n",
      "Converted Emu13.mp3 to wav_files/Emu_sound/Emu13.wav\n",
      "Converted Emu12.mp3 to wav_files/Emu_sound/Emu12.wav\n",
      "Converted Emu16.mp3 to wav_files/Emu_sound/Emu16.wav\n",
      "Converted Emu17.mp3 to wav_files/Emu_sound/Emu17.wav\n",
      "Converted Emu15.mp3 to wav_files/Emu_sound/Emu15.wav\n",
      "Converted Emu14.mp3 to wav_files/Emu_sound/Emu14.wav\n",
      "Converted Emu18.mp3 to wav_files/Emu_sound/Emu18.wav\n",
      "Converted Emu9.mp3 to wav_files/Emu_sound/Emu9.wav\n"
     ]
    },
    {
     "name": "stderr",
     "output_type": "stream",
     "text": [
      "48it [02:23,  3.00s/it]"
     ]
    },
    {
     "name": "stdout",
     "output_type": "stream",
     "text": [
      "Converted Emu8.mp3 to wav_files/Emu_sound/Emu8.wav\n",
      "Converted Okarito Kiwi4.mp3 to wav_files/Okarito Kiwi_sound/Okarito Kiwi4.wav\n",
      "Converted Okarito Kiwi5.mp3 to wav_files/Okarito Kiwi_sound/Okarito Kiwi5.wav\n",
      "Converted Okarito Kiwi6.mp3 to wav_files/Okarito Kiwi_sound/Okarito Kiwi6.wav\n"
     ]
    },
    {
     "name": "stderr",
     "output_type": "stream",
     "text": [
      "49it [02:23,  2.30s/it]"
     ]
    },
    {
     "name": "stdout",
     "output_type": "stream",
     "text": [
      "Converted Okarito Kiwi2.mp3 to wav_files/Okarito Kiwi_sound/Okarito Kiwi2.wav\n",
      "Converted Okarito Kiwi3.mp3 to wav_files/Okarito Kiwi_sound/Okarito Kiwi3.wav\n",
      "Converted Buff-browed Chachalaca10.mp3 to wav_files/Buff-browed Chachalaca_sound/Buff-browed Chachalaca10.wav\n",
      "Converted Buff-browed Chachalaca11.mp3 to wav_files/Buff-browed Chachalaca_sound/Buff-browed Chachalaca11.wav\n",
      "Converted Buff-browed Chachalaca8.mp3 to wav_files/Buff-browed Chachalaca_sound/Buff-browed Chachalaca8.wav\n",
      "Converted Buff-browed Chachalaca9.mp3 to wav_files/Buff-browed Chachalaca_sound/Buff-browed Chachalaca9.wav\n",
      "Converted Buff-browed Chachalaca7.mp3 to wav_files/Buff-browed Chachalaca_sound/Buff-browed Chachalaca7.wav\n",
      "Converted Buff-browed Chachalaca6.mp3 to wav_files/Buff-browed Chachalaca_sound/Buff-browed Chachalaca6.wav\n",
      "Converted Buff-browed Chachalaca4.mp3 to wav_files/Buff-browed Chachalaca_sound/Buff-browed Chachalaca4.wav\n",
      "Converted Buff-browed Chachalaca5.mp3 to wav_files/Buff-browed Chachalaca_sound/Buff-browed Chachalaca5.wav\n",
      "Converted Buff-browed Chachalaca2.mp3 to wav_files/Buff-browed Chachalaca_sound/Buff-browed Chachalaca2.wav\n"
     ]
    },
    {
     "name": "stderr",
     "output_type": "stream",
     "text": [
      "50it [02:25,  2.03s/it]"
     ]
    },
    {
     "name": "stdout",
     "output_type": "stream",
     "text": [
      "Converted Buff-browed Chachalaca3.mp3 to wav_files/Buff-browed Chachalaca_sound/Buff-browed Chachalaca3.wav\n",
      "Converted White-throated Tinamou9.mp3 to wav_files/White-throated Tinamou_sound/White-throated Tinamou9.wav\n",
      "Converted White-throated Tinamou8.mp3 to wav_files/White-throated Tinamou_sound/White-throated Tinamou8.wav\n",
      "Converted White-throated Tinamou10.mp3 to wav_files/White-throated Tinamou_sound/White-throated Tinamou10.wav\n",
      "Converted White-throated Tinamou11.mp3 to wav_files/White-throated Tinamou_sound/White-throated Tinamou11.wav\n",
      "Converted White-throated Tinamou13.mp3 to wav_files/White-throated Tinamou_sound/White-throated Tinamou13.wav\n",
      "Converted White-throated Tinamou12.mp3 to wav_files/White-throated Tinamou_sound/White-throated Tinamou12.wav\n",
      "Converted White-throated Tinamou16.mp3 to wav_files/White-throated Tinamou_sound/White-throated Tinamou16.wav\n",
      "Converted White-throated Tinamou17.mp3 to wav_files/White-throated Tinamou_sound/White-throated Tinamou17.wav\n",
      "Converted White-throated Tinamou29.mp3 to wav_files/White-throated Tinamou_sound/White-throated Tinamou29.wav\n",
      "Converted White-throated Tinamou15.mp3 to wav_files/White-throated Tinamou_sound/White-throated Tinamou15.wav\n",
      "Converted White-throated Tinamou14.mp3 to wav_files/White-throated Tinamou_sound/White-throated Tinamou14.wav\n",
      "Converted White-throated Tinamou28.mp3 to wav_files/White-throated Tinamou_sound/White-throated Tinamou28.wav\n",
      "Converted White-throated Tinamou25.mp3 to wav_files/White-throated Tinamou_sound/White-throated Tinamou25.wav\n",
      "Converted White-throated Tinamou31.mp3 to wav_files/White-throated Tinamou_sound/White-throated Tinamou31.wav\n",
      "Converted White-throated Tinamou19.mp3 to wav_files/White-throated Tinamou_sound/White-throated Tinamou19.wav\n",
      "Converted White-throated Tinamou18.mp3 to wav_files/White-throated Tinamou_sound/White-throated Tinamou18.wav\n",
      "Converted White-throated Tinamou30.mp3 to wav_files/White-throated Tinamou_sound/White-throated Tinamou30.wav\n",
      "Converted White-throated Tinamou24.mp3 to wav_files/White-throated Tinamou_sound/White-throated Tinamou24.wav\n",
      "Converted White-throated Tinamou26.mp3 to wav_files/White-throated Tinamou_sound/White-throated Tinamou26.wav\n",
      "Converted White-throated Tinamou27.mp3 to wav_files/White-throated Tinamou_sound/White-throated Tinamou27.wav\n",
      "Converted White-throated Tinamou23.mp3 to wav_files/White-throated Tinamou_sound/White-throated Tinamou23.wav\n",
      "Converted White-throated Tinamou22.mp3 to wav_files/White-throated Tinamou_sound/White-throated Tinamou22.wav\n",
      "Converted White-throated Tinamou20.mp3 to wav_files/White-throated Tinamou_sound/White-throated Tinamou20.wav\n",
      "Converted White-throated Tinamou21.mp3 to wav_files/White-throated Tinamou_sound/White-throated Tinamou21.wav\n",
      "Converted White-throated Tinamou3.mp3 to wav_files/White-throated Tinamou_sound/White-throated Tinamou3.wav\n",
      "Converted White-throated Tinamou2.mp3 to wav_files/White-throated Tinamou_sound/White-throated Tinamou2.wav\n",
      "Converted White-throated Tinamou6.mp3 to wav_files/White-throated Tinamou_sound/White-throated Tinamou6.wav\n",
      "Converted White-throated Tinamou7.mp3 to wav_files/White-throated Tinamou_sound/White-throated Tinamou7.wav\n"
     ]
    },
    {
     "name": "stderr",
     "output_type": "stream",
     "text": [
      "51it [02:29,  2.58s/it]"
     ]
    },
    {
     "name": "stdout",
     "output_type": "stream",
     "text": [
      "Converted White-throated Tinamou5.mp3 to wav_files/White-throated Tinamou_sound/White-throated Tinamou5.wav\n",
      "Converted White-throated Tinamou4.mp3 to wav_files/White-throated Tinamou_sound/White-throated Tinamou4.wav\n",
      "Converted Thicket Tinamou10.mp3 to wav_files/Thicket Tinamou_sound/Thicket Tinamou10.wav\n",
      "Converted Thicket Tinamou11.mp3 to wav_files/Thicket Tinamou_sound/Thicket Tinamou11.wav\n",
      "Converted Thicket Tinamou13.mp3 to wav_files/Thicket Tinamou_sound/Thicket Tinamou13.wav\n",
      "Converted Thicket Tinamou8.mp3 to wav_files/Thicket Tinamou_sound/Thicket Tinamou8.wav\n",
      "Converted Thicket Tinamou9.mp3 to wav_files/Thicket Tinamou_sound/Thicket Tinamou9.wav\n",
      "Converted Thicket Tinamou12.mp3 to wav_files/Thicket Tinamou_sound/Thicket Tinamou12.wav\n",
      "Converted Thicket Tinamou16.mp3 to wav_files/Thicket Tinamou_sound/Thicket Tinamou16.wav\n",
      "Converted Thicket Tinamou17.mp3 to wav_files/Thicket Tinamou_sound/Thicket Tinamou17.wav\n",
      "Converted Thicket Tinamou29.mp3 to wav_files/Thicket Tinamou_sound/Thicket Tinamou29.wav\n",
      "Converted Thicket Tinamou15.mp3 to wav_files/Thicket Tinamou_sound/Thicket Tinamou15.wav\n",
      "Converted Thicket Tinamou14.mp3 to wav_files/Thicket Tinamou_sound/Thicket Tinamou14.wav\n",
      "Converted Thicket Tinamou28.mp3 to wav_files/Thicket Tinamou_sound/Thicket Tinamou28.wav\n",
      "Converted Thicket Tinamou25.mp3 to wav_files/Thicket Tinamou_sound/Thicket Tinamou25.wav\n",
      "Converted Thicket Tinamou31.mp3 to wav_files/Thicket Tinamou_sound/Thicket Tinamou31.wav\n",
      "Converted Thicket Tinamou19.mp3 to wav_files/Thicket Tinamou_sound/Thicket Tinamou19.wav\n",
      "Converted Thicket Tinamou2.mp3 to wav_files/Thicket Tinamou_sound/Thicket Tinamou2.wav\n",
      "Converted Thicket Tinamou3.mp3 to wav_files/Thicket Tinamou_sound/Thicket Tinamou3.wav\n",
      "Converted Thicket Tinamou18.mp3 to wav_files/Thicket Tinamou_sound/Thicket Tinamou18.wav\n",
      "Converted Thicket Tinamou30.mp3 to wav_files/Thicket Tinamou_sound/Thicket Tinamou30.wav\n",
      "Converted Thicket Tinamou24.mp3 to wav_files/Thicket Tinamou_sound/Thicket Tinamou24.wav\n",
      "Converted Thicket Tinamou26.mp3 to wav_files/Thicket Tinamou_sound/Thicket Tinamou26.wav\n",
      "Converted Thicket Tinamou27.mp3 to wav_files/Thicket Tinamou_sound/Thicket Tinamou27.wav\n",
      "Converted Thicket Tinamou23.mp3 to wav_files/Thicket Tinamou_sound/Thicket Tinamou23.wav\n",
      "Converted Thicket Tinamou4.mp3 to wav_files/Thicket Tinamou_sound/Thicket Tinamou4.wav\n",
      "Converted Thicket Tinamou5.mp3 to wav_files/Thicket Tinamou_sound/Thicket Tinamou5.wav\n",
      "Converted Thicket Tinamou22.mp3 to wav_files/Thicket Tinamou_sound/Thicket Tinamou22.wav\n",
      "Converted Thicket Tinamou20.mp3 to wav_files/Thicket Tinamou_sound/Thicket Tinamou20.wav\n",
      "Converted Thicket Tinamou7.mp3 to wav_files/Thicket Tinamou_sound/Thicket Tinamou7.wav\n",
      "Converted Thicket Tinamou6.mp3 to wav_files/Thicket Tinamou_sound/Thicket Tinamou6.wav\n"
     ]
    },
    {
     "name": "stderr",
     "output_type": "stream",
     "text": [
      "52it [02:36,  4.01s/it]"
     ]
    },
    {
     "name": "stdout",
     "output_type": "stream",
     "text": [
      "Converted Thicket Tinamou21.mp3 to wav_files/Thicket Tinamou_sound/Thicket Tinamou21.wav\n",
      "Converted Tataupa Tinamou9.mp3 to wav_files/Tataupa Tinamou_sound/Tataupa Tinamou9.wav\n",
      "Converted Tataupa Tinamou8.mp3 to wav_files/Tataupa Tinamou_sound/Tataupa Tinamou8.wav\n",
      "Converted Tataupa Tinamou10.mp3 to wav_files/Tataupa Tinamou_sound/Tataupa Tinamou10.wav\n",
      "Converted Tataupa Tinamou11.mp3 to wav_files/Tataupa Tinamou_sound/Tataupa Tinamou11.wav\n",
      "Converted Tataupa Tinamou13.mp3 to wav_files/Tataupa Tinamou_sound/Tataupa Tinamou13.wav\n",
      "Converted Tataupa Tinamou12.mp3 to wav_files/Tataupa Tinamou_sound/Tataupa Tinamou12.wav\n",
      "Converted Tataupa Tinamou16.mp3 to wav_files/Tataupa Tinamou_sound/Tataupa Tinamou16.wav\n",
      "Converted Tataupa Tinamou17.mp3 to wav_files/Tataupa Tinamou_sound/Tataupa Tinamou17.wav\n",
      "Converted Tataupa Tinamou15.mp3 to wav_files/Tataupa Tinamou_sound/Tataupa Tinamou15.wav\n",
      "Converted Tataupa Tinamou29.mp3 to wav_files/Tataupa Tinamou_sound/Tataupa Tinamou29.wav\n",
      "Converted Tataupa Tinamou28.mp3 to wav_files/Tataupa Tinamou_sound/Tataupa Tinamou28.wav\n",
      "Converted Tataupa Tinamou14.mp3 to wav_files/Tataupa Tinamou_sound/Tataupa Tinamou14.wav\n",
      "Converted Tataupa Tinamou19.mp3 to wav_files/Tataupa Tinamou_sound/Tataupa Tinamou19.wav\n",
      "Converted Tataupa Tinamou25.mp3 to wav_files/Tataupa Tinamou_sound/Tataupa Tinamou25.wav\n",
      "Converted Tataupa Tinamou31.mp3 to wav_files/Tataupa Tinamou_sound/Tataupa Tinamou31.wav\n",
      "Converted Tataupa Tinamou30.mp3 to wav_files/Tataupa Tinamou_sound/Tataupa Tinamou30.wav\n",
      "Converted Tataupa Tinamou24.mp3 to wav_files/Tataupa Tinamou_sound/Tataupa Tinamou24.wav\n",
      "Converted Tataupa Tinamou18.mp3 to wav_files/Tataupa Tinamou_sound/Tataupa Tinamou18.wav\n",
      "Converted Tataupa Tinamou26.mp3 to wav_files/Tataupa Tinamou_sound/Tataupa Tinamou26.wav\n",
      "Converted Tataupa Tinamou27.mp3 to wav_files/Tataupa Tinamou_sound/Tataupa Tinamou27.wav\n",
      "Converted Tataupa Tinamou23.mp3 to wav_files/Tataupa Tinamou_sound/Tataupa Tinamou23.wav\n",
      "Converted Tataupa Tinamou22.mp3 to wav_files/Tataupa Tinamou_sound/Tataupa Tinamou22.wav\n",
      "Converted Tataupa Tinamou20.mp3 to wav_files/Tataupa Tinamou_sound/Tataupa Tinamou20.wav\n",
      "Converted Tataupa Tinamou21.mp3 to wav_files/Tataupa Tinamou_sound/Tataupa Tinamou21.wav\n",
      "Converted Tataupa Tinamou3.mp3 to wav_files/Tataupa Tinamou_sound/Tataupa Tinamou3.wav\n",
      "Converted Tataupa Tinamou2.mp3 to wav_files/Tataupa Tinamou_sound/Tataupa Tinamou2.wav\n",
      "Converted Tataupa Tinamou5.mp3 to wav_files/Tataupa Tinamou_sound/Tataupa Tinamou5.wav\n",
      "Converted Tataupa Tinamou4.mp3 to wav_files/Tataupa Tinamou_sound/Tataupa Tinamou4.wav\n",
      "Converted Tataupa Tinamou6.mp3 to wav_files/Tataupa Tinamou_sound/Tataupa Tinamou6.wav\n"
     ]
    },
    {
     "name": "stderr",
     "output_type": "stream",
     "text": [
      "53it [02:41,  4.18s/it]"
     ]
    },
    {
     "name": "stdout",
     "output_type": "stream",
     "text": [
      "Converted Tataupa Tinamou7.mp3 to wav_files/Tataupa Tinamou_sound/Tataupa Tinamou7.wav\n",
      "Converted Spotted Nothura5.mp3 to wav_files/Spotted Nothura_sound/Spotted Nothura5.wav\n",
      "Converted Spotted Nothura12.mp3 to wav_files/Spotted Nothura_sound/Spotted Nothura12.wav\n",
      "Converted Spotted Nothura13.mp3 to wav_files/Spotted Nothura_sound/Spotted Nothura13.wav\n",
      "Converted Spotted Nothura4.mp3 to wav_files/Spotted Nothura_sound/Spotted Nothura4.wav\n",
      "Converted Spotted Nothura6.mp3 to wav_files/Spotted Nothura_sound/Spotted Nothura6.wav\n",
      "Converted Spotted Nothura11.mp3 to wav_files/Spotted Nothura_sound/Spotted Nothura11.wav\n",
      "Converted Spotted Nothura10.mp3 to wav_files/Spotted Nothura_sound/Spotted Nothura10.wav\n",
      "Converted Spotted Nothura7.mp3 to wav_files/Spotted Nothura_sound/Spotted Nothura7.wav\n",
      "Converted Spotted Nothura3.mp3 to wav_files/Spotted Nothura_sound/Spotted Nothura3.wav\n",
      "Converted Spotted Nothura28.mp3 to wav_files/Spotted Nothura_sound/Spotted Nothura28.wav\n",
      "Converted Spotted Nothura14.mp3 to wav_files/Spotted Nothura_sound/Spotted Nothura14.wav\n",
      "Converted Spotted Nothura15.mp3 to wav_files/Spotted Nothura_sound/Spotted Nothura15.wav\n",
      "Converted Spotted Nothura29.mp3 to wav_files/Spotted Nothura_sound/Spotted Nothura29.wav\n",
      "Converted Spotted Nothura2.mp3 to wav_files/Spotted Nothura_sound/Spotted Nothura2.wav\n",
      "Converted Spotted Nothura17.mp3 to wav_files/Spotted Nothura_sound/Spotted Nothura17.wav\n",
      "Converted Spotted Nothura16.mp3 to wav_files/Spotted Nothura_sound/Spotted Nothura16.wav\n",
      "Converted Spotted Nothura27.mp3 to wav_files/Spotted Nothura_sound/Spotted Nothura27.wav\n",
      "Converted Spotted Nothura26.mp3 to wav_files/Spotted Nothura_sound/Spotted Nothura26.wav\n",
      "Converted Spotted Nothura24.mp3 to wav_files/Spotted Nothura_sound/Spotted Nothura24.wav\n",
      "Converted Spotted Nothura30.mp3 to wav_files/Spotted Nothura_sound/Spotted Nothura30.wav\n",
      "Converted Spotted Nothura18.mp3 to wav_files/Spotted Nothura_sound/Spotted Nothura18.wav\n",
      "Converted Spotted Nothura19.mp3 to wav_files/Spotted Nothura_sound/Spotted Nothura19.wav\n",
      "Converted Spotted Nothura31.mp3 to wav_files/Spotted Nothura_sound/Spotted Nothura31.wav\n",
      "Converted Spotted Nothura25.mp3 to wav_files/Spotted Nothura_sound/Spotted Nothura25.wav\n",
      "Converted Spotted Nothura21.mp3 to wav_files/Spotted Nothura_sound/Spotted Nothura21.wav\n",
      "Converted Spotted Nothura20.mp3 to wav_files/Spotted Nothura_sound/Spotted Nothura20.wav\n",
      "Converted Spotted Nothura9.mp3 to wav_files/Spotted Nothura_sound/Spotted Nothura9.wav\n",
      "Converted Spotted Nothura22.mp3 to wav_files/Spotted Nothura_sound/Spotted Nothura22.wav\n"
     ]
    },
    {
     "name": "stderr",
     "output_type": "stream",
     "text": [
      "54it [02:45,  4.35s/it]"
     ]
    },
    {
     "name": "stdout",
     "output_type": "stream",
     "text": [
      "Converted Spotted Nothura23.mp3 to wav_files/Spotted Nothura_sound/Spotted Nothura23.wav\n",
      "Converted Spotted Nothura8.mp3 to wav_files/Spotted Nothura_sound/Spotted Nothura8.wav\n",
      "Converted Melanesian Megapode3.mp3 to wav_files/Melanesian Megapode_sound/Melanesian Megapode3.wav\n",
      "Converted Melanesian Megapode2.mp3 to wav_files/Melanesian Megapode_sound/Melanesian Megapode2.wav\n",
      "Converted Melanesian Megapode5.mp3 to wav_files/Melanesian Megapode_sound/Melanesian Megapode5.wav\n",
      "Converted Melanesian Megapode4.mp3 to wav_files/Melanesian Megapode_sound/Melanesian Megapode4.wav\n",
      "Converted Melanesian Megapode6.mp3 to wav_files/Melanesian Megapode_sound/Melanesian Megapode6.wav\n",
      "Converted Melanesian Megapode7.mp3 to wav_files/Melanesian Megapode_sound/Melanesian Megapode7.wav\n",
      "Converted Melanesian Megapode12.mp3 to wav_files/Melanesian Megapode_sound/Melanesian Megapode12.wav\n",
      "Converted Melanesian Megapode13.mp3 to wav_files/Melanesian Megapode_sound/Melanesian Megapode13.wav\n",
      "Converted Melanesian Megapode11.mp3 to wav_files/Melanesian Megapode_sound/Melanesian Megapode11.wav\n",
      "Converted Melanesian Megapode10.mp3 to wav_files/Melanesian Megapode_sound/Melanesian Megapode10.wav\n",
      "Converted Melanesian Megapode9.mp3 to wav_files/Melanesian Megapode_sound/Melanesian Megapode9.wav\n"
     ]
    },
    {
     "name": "stderr",
     "output_type": "stream",
     "text": [
      "55it [02:47,  3.66s/it]"
     ]
    },
    {
     "name": "stdout",
     "output_type": "stream",
     "text": [
      "Converted Melanesian Megapode8.mp3 to wav_files/Melanesian Megapode_sound/Melanesian Megapode8.wav\n",
      "Converted Band-tailed Guan9.mp3 to wav_files/Band-tailed Guan_sound/Band-tailed Guan9.wav\n",
      "Converted Band-tailed Guan12.mp3 to wav_files/Band-tailed Guan_sound/Band-tailed Guan12.wav\n",
      "Converted Band-tailed Guan13.mp3 to wav_files/Band-tailed Guan_sound/Band-tailed Guan13.wav\n",
      "Converted Band-tailed Guan8.mp3 to wav_files/Band-tailed Guan_sound/Band-tailed Guan8.wav\n",
      "Converted Band-tailed Guan11.mp3 to wav_files/Band-tailed Guan_sound/Band-tailed Guan11.wav\n",
      "Converted Band-tailed Guan10.mp3 to wav_files/Band-tailed Guan_sound/Band-tailed Guan10.wav\n",
      "Converted Band-tailed Guan28.mp3 to wav_files/Band-tailed Guan_sound/Band-tailed Guan28.wav\n",
      "Converted Band-tailed Guan14.mp3 to wav_files/Band-tailed Guan_sound/Band-tailed Guan14.wav\n",
      "Converted Band-tailed Guan15.mp3 to wav_files/Band-tailed Guan_sound/Band-tailed Guan15.wav\n",
      "Converted Band-tailed Guan29.mp3 to wav_files/Band-tailed Guan_sound/Band-tailed Guan29.wav\n",
      "Converted Band-tailed Guan17.mp3 to wav_files/Band-tailed Guan_sound/Band-tailed Guan17.wav\n",
      "Converted Band-tailed Guan16.mp3 to wav_files/Band-tailed Guan_sound/Band-tailed Guan16.wav\n",
      "Converted Band-tailed Guan27.mp3 to wav_files/Band-tailed Guan_sound/Band-tailed Guan27.wav\n",
      "Converted Band-tailed Guan26.mp3 to wav_files/Band-tailed Guan_sound/Band-tailed Guan26.wav\n",
      "Converted Band-tailed Guan3.mp3 to wav_files/Band-tailed Guan_sound/Band-tailed Guan3.wav\n",
      "Converted Band-tailed Guan24.mp3 to wav_files/Band-tailed Guan_sound/Band-tailed Guan24.wav\n",
      "Converted Band-tailed Guan30.mp3 to wav_files/Band-tailed Guan_sound/Band-tailed Guan30.wav\n",
      "Converted Band-tailed Guan18.mp3 to wav_files/Band-tailed Guan_sound/Band-tailed Guan18.wav\n",
      "Converted Band-tailed Guan19.mp3 to wav_files/Band-tailed Guan_sound/Band-tailed Guan19.wav\n",
      "Converted Band-tailed Guan31.mp3 to wav_files/Band-tailed Guan_sound/Band-tailed Guan31.wav\n",
      "Converted Band-tailed Guan25.mp3 to wav_files/Band-tailed Guan_sound/Band-tailed Guan25.wav\n",
      "Converted Band-tailed Guan2.mp3 to wav_files/Band-tailed Guan_sound/Band-tailed Guan2.wav\n",
      "Converted Band-tailed Guan6.mp3 to wav_files/Band-tailed Guan_sound/Band-tailed Guan6.wav\n",
      "Converted Band-tailed Guan21.mp3 to wav_files/Band-tailed Guan_sound/Band-tailed Guan21.wav\n",
      "Converted Band-tailed Guan20.mp3 to wav_files/Band-tailed Guan_sound/Band-tailed Guan20.wav\n",
      "Converted Band-tailed Guan7.mp3 to wav_files/Band-tailed Guan_sound/Band-tailed Guan7.wav\n",
      "Converted Band-tailed Guan5.mp3 to wav_files/Band-tailed Guan_sound/Band-tailed Guan5.wav\n",
      "Converted Band-tailed Guan22.mp3 to wav_files/Band-tailed Guan_sound/Band-tailed Guan22.wav\n",
      "Converted Band-tailed Guan23.mp3 to wav_files/Band-tailed Guan_sound/Band-tailed Guan23.wav\n"
     ]
    },
    {
     "name": "stderr",
     "output_type": "stream",
     "text": [
      "56it [02:52,  4.03s/it]"
     ]
    },
    {
     "name": "stdout",
     "output_type": "stream",
     "text": [
      "Converted Band-tailed Guan4.mp3 to wav_files/Band-tailed Guan_sound/Band-tailed Guan4.wav\n",
      "Converted Puna Tinamou13.mp3 to wav_files/Puna Tinamou_sound/Puna Tinamou13.wav\n",
      "Converted Puna Tinamou4.mp3 to wav_files/Puna Tinamou_sound/Puna Tinamou4.wav\n",
      "Converted Puna Tinamou5.mp3 to wav_files/Puna Tinamou_sound/Puna Tinamou5.wav\n",
      "Converted Puna Tinamou12.mp3 to wav_files/Puna Tinamou_sound/Puna Tinamou12.wav\n",
      "Converted Puna Tinamou10.mp3 to wav_files/Puna Tinamou_sound/Puna Tinamou10.wav\n",
      "Converted Puna Tinamou7.mp3 to wav_files/Puna Tinamou_sound/Puna Tinamou7.wav\n",
      "Converted Puna Tinamou6.mp3 to wav_files/Puna Tinamou_sound/Puna Tinamou6.wav\n",
      "Converted Puna Tinamou11.mp3 to wav_files/Puna Tinamou_sound/Puna Tinamou11.wav\n",
      "Converted Puna Tinamou2.mp3 to wav_files/Puna Tinamou_sound/Puna Tinamou2.wav\n",
      "Converted Puna Tinamou3.mp3 to wav_files/Puna Tinamou_sound/Puna Tinamou3.wav\n",
      "Converted Puna Tinamou8.mp3 to wav_files/Puna Tinamou_sound/Puna Tinamou8.wav\n"
     ]
    },
    {
     "name": "stderr",
     "output_type": "stream",
     "text": [
      "57it [02:54,  3.39s/it]"
     ]
    },
    {
     "name": "stdout",
     "output_type": "stream",
     "text": [
      "Converted Puna Tinamou9.mp3 to wav_files/Puna Tinamou_sound/Puna Tinamou9.wav\n",
      "Converted Elegant Crested Tinamou13.mp3 to wav_files/Elegant Crested Tinamou_sound/Elegant Crested Tinamou13.wav\n",
      "Converted Elegant Crested Tinamou6.mp3 to wav_files/Elegant Crested Tinamou_sound/Elegant Crested Tinamou6.wav\n",
      "Converted Elegant Crested Tinamou12.mp3 to wav_files/Elegant Crested Tinamou_sound/Elegant Crested Tinamou12.wav\n",
      "Converted Elegant Crested Tinamou7.mp3 to wav_files/Elegant Crested Tinamou_sound/Elegant Crested Tinamou7.wav\n",
      "Converted Elegant Crested Tinamou5.mp3 to wav_files/Elegant Crested Tinamou_sound/Elegant Crested Tinamou5.wav\n",
      "Converted Elegant Crested Tinamou10.mp3 to wav_files/Elegant Crested Tinamou_sound/Elegant Crested Tinamou10.wav\n",
      "Converted Elegant Crested Tinamou4.mp3 to wav_files/Elegant Crested Tinamou_sound/Elegant Crested Tinamou4.wav\n",
      "Converted Elegant Crested Tinamou11.mp3 to wav_files/Elegant Crested Tinamou_sound/Elegant Crested Tinamou11.wav\n",
      "Converted Elegant Crested Tinamou15.mp3 to wav_files/Elegant Crested Tinamou_sound/Elegant Crested Tinamou15.wav\n",
      "Converted Elegant Crested Tinamou14.mp3 to wav_files/Elegant Crested Tinamou_sound/Elegant Crested Tinamou14.wav\n",
      "Converted Elegant Crested Tinamou3.mp3 to wav_files/Elegant Crested Tinamou_sound/Elegant Crested Tinamou3.wav\n",
      "Converted Elegant Crested Tinamou2.mp3 to wav_files/Elegant Crested Tinamou_sound/Elegant Crested Tinamou2.wav\n",
      "Converted Elegant Crested Tinamou9.mp3 to wav_files/Elegant Crested Tinamou_sound/Elegant Crested Tinamou9.wav\n"
     ]
    },
    {
     "name": "stderr",
     "output_type": "stream",
     "text": [
      "58it [02:56,  2.87s/it]"
     ]
    },
    {
     "name": "stdout",
     "output_type": "stream",
     "text": [
      "Converted Elegant Crested Tinamou8.mp3 to wav_files/Elegant Crested Tinamou_sound/Elegant Crested Tinamou8.wav\n",
      "Converted White-browed Guan4.mp3 to wav_files/White-browed Guan_sound/White-browed Guan4.wav\n"
     ]
    },
    {
     "name": "stderr",
     "output_type": "stream",
     "text": [
      "59it [02:56,  2.12s/it]"
     ]
    },
    {
     "name": "stdout",
     "output_type": "stream",
     "text": [
      "Converted White-browed Guan3.mp3 to wav_files/White-browed Guan_sound/White-browed Guan3.wav\n",
      "Converted White-browed Guan2.mp3 to wav_files/White-browed Guan_sound/White-browed Guan2.wav\n"
     ]
    },
    {
     "name": "stderr",
     "output_type": "stream",
     "text": [
      "60it [02:56,  1.55s/it]"
     ]
    },
    {
     "name": "stdout",
     "output_type": "stream",
     "text": [
      "Converted Dwarf Cassowary3.mp3 to wav_files/Dwarf Cassowary_sound/Dwarf Cassowary3.wav\n",
      "Converted Dwarf Cassowary2.mp3 to wav_files/Dwarf Cassowary_sound/Dwarf Cassowary2.wav\n",
      "Converted Brown Tinamou4.mp3 to wav_files/Brown Tinamou_sound/Brown Tinamou4.wav\n",
      "Converted Brown Tinamou5.mp3 to wav_files/Brown Tinamou_sound/Brown Tinamou5.wav\n",
      "Converted Brown Tinamou7.mp3 to wav_files/Brown Tinamou_sound/Brown Tinamou7.wav\n",
      "Converted Brown Tinamou6.mp3 to wav_files/Brown Tinamou_sound/Brown Tinamou6.wav\n",
      "Converted Brown Tinamou2.mp3 to wav_files/Brown Tinamou_sound/Brown Tinamou2.wav\n",
      "Converted Brown Tinamou3.mp3 to wav_files/Brown Tinamou_sound/Brown Tinamou3.wav\n",
      "Converted Brown Tinamou13.mp3 to wav_files/Brown Tinamou_sound/Brown Tinamou13.wav\n",
      "Converted Brown Tinamou12.mp3 to wav_files/Brown Tinamou_sound/Brown Tinamou12.wav\n",
      "Converted Brown Tinamou10.mp3 to wav_files/Brown Tinamou_sound/Brown Tinamou10.wav\n",
      "Converted Brown Tinamou11.mp3 to wav_files/Brown Tinamou_sound/Brown Tinamou11.wav\n",
      "Converted Brown Tinamou29.mp3 to wav_files/Brown Tinamou_sound/Brown Tinamou29.wav\n",
      "Converted Brown Tinamou15.mp3 to wav_files/Brown Tinamou_sound/Brown Tinamou15.wav\n",
      "Converted Brown Tinamou14.mp3 to wav_files/Brown Tinamou_sound/Brown Tinamou14.wav\n",
      "Converted Brown Tinamou28.mp3 to wav_files/Brown Tinamou_sound/Brown Tinamou28.wav\n",
      "Converted Brown Tinamou16.mp3 to wav_files/Brown Tinamou_sound/Brown Tinamou16.wav\n",
      "Converted Brown Tinamou17.mp3 to wav_files/Brown Tinamou_sound/Brown Tinamou17.wav\n",
      "Converted Brown Tinamou26.mp3 to wav_files/Brown Tinamou_sound/Brown Tinamou26.wav\n",
      "Converted Brown Tinamou27.mp3 to wav_files/Brown Tinamou_sound/Brown Tinamou27.wav\n",
      "Converted Brown Tinamou25.mp3 to wav_files/Brown Tinamou_sound/Brown Tinamou25.wav\n",
      "Converted Brown Tinamou31.mp3 to wav_files/Brown Tinamou_sound/Brown Tinamou31.wav\n",
      "Converted Brown Tinamou19.mp3 to wav_files/Brown Tinamou_sound/Brown Tinamou19.wav\n",
      "Converted Brown Tinamou18.mp3 to wav_files/Brown Tinamou_sound/Brown Tinamou18.wav\n",
      "Converted Brown Tinamou30.mp3 to wav_files/Brown Tinamou_sound/Brown Tinamou30.wav\n",
      "Converted Brown Tinamou24.mp3 to wav_files/Brown Tinamou_sound/Brown Tinamou24.wav\n",
      "Converted Brown Tinamou20.mp3 to wav_files/Brown Tinamou_sound/Brown Tinamou20.wav\n",
      "Converted Brown Tinamou21.mp3 to wav_files/Brown Tinamou_sound/Brown Tinamou21.wav\n",
      "Converted Brown Tinamou23.mp3 to wav_files/Brown Tinamou_sound/Brown Tinamou23.wav\n",
      "Converted Brown Tinamou22.mp3 to wav_files/Brown Tinamou_sound/Brown Tinamou22.wav\n",
      "Converted Brown Tinamou8.mp3 to wav_files/Brown Tinamou_sound/Brown Tinamou8.wav\n"
     ]
    },
    {
     "name": "stderr",
     "output_type": "stream",
     "text": [
      "62it [03:05,  2.63s/it]"
     ]
    },
    {
     "name": "stdout",
     "output_type": "stream",
     "text": [
      "Converted Brown Tinamou9.mp3 to wav_files/Brown Tinamou_sound/Brown Tinamou9.wav\n",
      "Converted Trinidad Piping Guan2.mp3 to wav_files/Trinidad Piping Guan_sound/Trinidad Piping Guan2.wav\n",
      "Converted Chestnut-winged Chachalaca8.mp3 to wav_files/Chestnut-winged Chachalaca_sound/Chestnut-winged Chachalaca8.wav\n",
      "Converted Chestnut-winged Chachalaca9.mp3 to wav_files/Chestnut-winged Chachalaca_sound/Chestnut-winged Chachalaca9.wav\n",
      "Converted Chestnut-winged Chachalaca22.mp3 to wav_files/Chestnut-winged Chachalaca_sound/Chestnut-winged Chachalaca22.wav\n",
      "Converted Chestnut-winged Chachalaca23.mp3 to wav_files/Chestnut-winged Chachalaca_sound/Chestnut-winged Chachalaca23.wav\n",
      "Converted Chestnut-winged Chachalaca21.mp3 to wav_files/Chestnut-winged Chachalaca_sound/Chestnut-winged Chachalaca21.wav\n",
      "Converted Chestnut-winged Chachalaca20.mp3 to wav_files/Chestnut-winged Chachalaca_sound/Chestnut-winged Chachalaca20.wav\n",
      "Converted Chestnut-winged Chachalaca18.mp3 to wav_files/Chestnut-winged Chachalaca_sound/Chestnut-winged Chachalaca18.wav\n",
      "Converted Chestnut-winged Chachalaca24.mp3 to wav_files/Chestnut-winged Chachalaca_sound/Chestnut-winged Chachalaca24.wav\n",
      "Converted Chestnut-winged Chachalaca30.mp3 to wav_files/Chestnut-winged Chachalaca_sound/Chestnut-winged Chachalaca30.wav\n",
      "Converted Chestnut-winged Chachalaca31.mp3 to wav_files/Chestnut-winged Chachalaca_sound/Chestnut-winged Chachalaca31.wav\n",
      "Converted Chestnut-winged Chachalaca25.mp3 to wav_files/Chestnut-winged Chachalaca_sound/Chestnut-winged Chachalaca25.wav\n",
      "Converted Chestnut-winged Chachalaca19.mp3 to wav_files/Chestnut-winged Chachalaca_sound/Chestnut-winged Chachalaca19.wav\n",
      "Converted Chestnut-winged Chachalaca27.mp3 to wav_files/Chestnut-winged Chachalaca_sound/Chestnut-winged Chachalaca27.wav\n",
      "Converted Chestnut-winged Chachalaca26.mp3 to wav_files/Chestnut-winged Chachalaca_sound/Chestnut-winged Chachalaca26.wav\n",
      "Converted Chestnut-winged Chachalaca17.mp3 to wav_files/Chestnut-winged Chachalaca_sound/Chestnut-winged Chachalaca17.wav\n",
      "Converted Chestnut-winged Chachalaca16.mp3 to wav_files/Chestnut-winged Chachalaca_sound/Chestnut-winged Chachalaca16.wav\n",
      "Converted Chestnut-winged Chachalaca14.mp3 to wav_files/Chestnut-winged Chachalaca_sound/Chestnut-winged Chachalaca14.wav\n",
      "Converted Chestnut-winged Chachalaca28.mp3 to wav_files/Chestnut-winged Chachalaca_sound/Chestnut-winged Chachalaca28.wav\n",
      "Converted Chestnut-winged Chachalaca29.mp3 to wav_files/Chestnut-winged Chachalaca_sound/Chestnut-winged Chachalaca29.wav\n",
      "Converted Chestnut-winged Chachalaca15.mp3 to wav_files/Chestnut-winged Chachalaca_sound/Chestnut-winged Chachalaca15.wav\n",
      "Converted Chestnut-winged Chachalaca11.mp3 to wav_files/Chestnut-winged Chachalaca_sound/Chestnut-winged Chachalaca11.wav\n",
      "Converted Chestnut-winged Chachalaca10.mp3 to wav_files/Chestnut-winged Chachalaca_sound/Chestnut-winged Chachalaca10.wav\n",
      "Converted Chestnut-winged Chachalaca12.mp3 to wav_files/Chestnut-winged Chachalaca_sound/Chestnut-winged Chachalaca12.wav\n",
      "Converted Chestnut-winged Chachalaca13.mp3 to wav_files/Chestnut-winged Chachalaca_sound/Chestnut-winged Chachalaca13.wav\n",
      "Converted Chestnut-winged Chachalaca7.mp3 to wav_files/Chestnut-winged Chachalaca_sound/Chestnut-winged Chachalaca7.wav\n",
      "Converted Chestnut-winged Chachalaca6.mp3 to wav_files/Chestnut-winged Chachalaca_sound/Chestnut-winged Chachalaca6.wav\n",
      "Converted Chestnut-winged Chachalaca4.mp3 to wav_files/Chestnut-winged Chachalaca_sound/Chestnut-winged Chachalaca4.wav\n",
      "Converted Chestnut-winged Chachalaca5.mp3 to wav_files/Chestnut-winged Chachalaca_sound/Chestnut-winged Chachalaca5.wav\n",
      "Converted Chestnut-winged Chachalaca2.mp3 to wav_files/Chestnut-winged Chachalaca_sound/Chestnut-winged Chachalaca2.wav\n"
     ]
    },
    {
     "name": "stderr",
     "output_type": "stream",
     "text": [
      "63it [03:11,  3.43s/it]"
     ]
    },
    {
     "name": "stdout",
     "output_type": "stream",
     "text": [
      "Converted Chestnut-winged Chachalaca3.mp3 to wav_files/Chestnut-winged Chachalaca_sound/Chestnut-winged Chachalaca3.wav\n",
      "Converted Great Tinamou8.mp3 to wav_files/Great Tinamou_sound/Great Tinamou8.wav\n",
      "Converted Great Tinamou9.mp3 to wav_files/Great Tinamou_sound/Great Tinamou9.wav\n",
      "Converted Great Tinamou22.mp3 to wav_files/Great Tinamou_sound/Great Tinamou22.wav\n",
      "Converted Great Tinamou23.mp3 to wav_files/Great Tinamou_sound/Great Tinamou23.wav\n",
      "Converted Great Tinamou21.mp3 to wav_files/Great Tinamou_sound/Great Tinamou21.wav\n",
      "Converted Great Tinamou20.mp3 to wav_files/Great Tinamou_sound/Great Tinamou20.wav\n",
      "Converted Great Tinamou18.mp3 to wav_files/Great Tinamou_sound/Great Tinamou18.wav\n",
      "Converted Great Tinamou30.mp3 to wav_files/Great Tinamou_sound/Great Tinamou30.wav\n",
      "Converted Great Tinamou24.mp3 to wav_files/Great Tinamou_sound/Great Tinamou24.wav\n",
      "Converted Great Tinamou25.mp3 to wav_files/Great Tinamou_sound/Great Tinamou25.wav\n",
      "Converted Great Tinamou31.mp3 to wav_files/Great Tinamou_sound/Great Tinamou31.wav\n",
      "Converted Great Tinamou19.mp3 to wav_files/Great Tinamou_sound/Great Tinamou19.wav\n",
      "Converted Great Tinamou27.mp3 to wav_files/Great Tinamou_sound/Great Tinamou27.wav\n",
      "Converted Great Tinamou26.mp3 to wav_files/Great Tinamou_sound/Great Tinamou26.wav\n",
      "Converted Great Tinamou17.mp3 to wav_files/Great Tinamou_sound/Great Tinamou17.wav\n",
      "Converted Great Tinamou16.mp3 to wav_files/Great Tinamou_sound/Great Tinamou16.wav\n",
      "Converted Great Tinamou14.mp3 to wav_files/Great Tinamou_sound/Great Tinamou14.wav\n",
      "Converted Great Tinamou28.mp3 to wav_files/Great Tinamou_sound/Great Tinamou28.wav\n",
      "Converted Great Tinamou29.mp3 to wav_files/Great Tinamou_sound/Great Tinamou29.wav\n",
      "Converted Great Tinamou15.mp3 to wav_files/Great Tinamou_sound/Great Tinamou15.wav\n",
      "Converted Great Tinamou11.mp3 to wav_files/Great Tinamou_sound/Great Tinamou11.wav\n",
      "Converted Great Tinamou10.mp3 to wav_files/Great Tinamou_sound/Great Tinamou10.wav\n",
      "Converted Great Tinamou12.mp3 to wav_files/Great Tinamou_sound/Great Tinamou12.wav\n",
      "Converted Great Tinamou13.mp3 to wav_files/Great Tinamou_sound/Great Tinamou13.wav\n",
      "Converted Great Tinamou7.mp3 to wav_files/Great Tinamou_sound/Great Tinamou7.wav\n",
      "Converted Great Tinamou6.mp3 to wav_files/Great Tinamou_sound/Great Tinamou6.wav\n",
      "Converted Great Tinamou4.mp3 to wav_files/Great Tinamou_sound/Great Tinamou4.wav\n",
      "Converted Great Tinamou5.mp3 to wav_files/Great Tinamou_sound/Great Tinamou5.wav\n"
     ]
    },
    {
     "name": "stderr",
     "output_type": "stream",
     "text": [
      "64it [03:17,  4.33s/it]"
     ]
    },
    {
     "name": "stdout",
     "output_type": "stream",
     "text": [
      "Converted Great Tinamou2.mp3 to wav_files/Great Tinamou_sound/Great Tinamou2.wav\n",
      "Converted Great Tinamou3.mp3 to wav_files/Great Tinamou_sound/Great Tinamou3.wav\n",
      "Converted Greater Rhea9.mp3 to wav_files/Greater Rhea_sound/Greater Rhea9.wav\n",
      "Converted Greater Rhea8.mp3 to wav_files/Greater Rhea_sound/Greater Rhea8.wav\n",
      "Converted Greater Rhea22.mp3 to wav_files/Greater Rhea_sound/Greater Rhea22.wav\n",
      "Converted Greater Rhea23.mp3 to wav_files/Greater Rhea_sound/Greater Rhea23.wav\n",
      "Converted Greater Rhea21.mp3 to wav_files/Greater Rhea_sound/Greater Rhea21.wav\n",
      "Converted Greater Rhea20.mp3 to wav_files/Greater Rhea_sound/Greater Rhea20.wav\n",
      "Converted Greater Rhea18.mp3 to wav_files/Greater Rhea_sound/Greater Rhea18.wav\n",
      "Converted Greater Rhea24.mp3 to wav_files/Greater Rhea_sound/Greater Rhea24.wav\n",
      "Converted Greater Rhea19.mp3 to wav_files/Greater Rhea_sound/Greater Rhea19.wav\n",
      "Converted Greater Rhea17.mp3 to wav_files/Greater Rhea_sound/Greater Rhea17.wav\n",
      "Converted Greater Rhea16.mp3 to wav_files/Greater Rhea_sound/Greater Rhea16.wav\n",
      "Converted Greater Rhea14.mp3 to wav_files/Greater Rhea_sound/Greater Rhea14.wav\n",
      "Converted Greater Rhea15.mp3 to wav_files/Greater Rhea_sound/Greater Rhea15.wav\n",
      "Converted Greater Rhea11.mp3 to wav_files/Greater Rhea_sound/Greater Rhea11.wav\n",
      "Converted Greater Rhea10.mp3 to wav_files/Greater Rhea_sound/Greater Rhea10.wav\n",
      "Converted Greater Rhea12.mp3 to wav_files/Greater Rhea_sound/Greater Rhea12.wav\n",
      "Converted Greater Rhea13.mp3 to wav_files/Greater Rhea_sound/Greater Rhea13.wav\n",
      "Converted Greater Rhea3.mp3 to wav_files/Greater Rhea_sound/Greater Rhea3.wav\n",
      "Converted Greater Rhea2.mp3 to wav_files/Greater Rhea_sound/Greater Rhea2.wav\n",
      "Converted Greater Rhea6.mp3 to wav_files/Greater Rhea_sound/Greater Rhea6.wav\n",
      "Converted Greater Rhea7.mp3 to wav_files/Greater Rhea_sound/Greater Rhea7.wav\n",
      "Converted Greater Rhea5.mp3 to wav_files/Greater Rhea_sound/Greater Rhea5.wav\n"
     ]
    },
    {
     "name": "stderr",
     "output_type": "stream",
     "text": [
      "65it [03:20,  3.90s/it]"
     ]
    },
    {
     "name": "stdout",
     "output_type": "stream",
     "text": [
      "Converted Greater Rhea4.mp3 to wav_files/Greater Rhea_sound/Greater Rhea4.wav\n",
      "Converted Small-billed Tinamou8.mp3 to wav_files/Small-billed Tinamou_sound/Small-billed Tinamou8.wav\n",
      "Converted Small-billed Tinamou9.mp3 to wav_files/Small-billed Tinamou_sound/Small-billed Tinamou9.wav\n",
      "Converted Small-billed Tinamou22.mp3 to wav_files/Small-billed Tinamou_sound/Small-billed Tinamou22.wav\n",
      "Converted Small-billed Tinamou23.mp3 to wav_files/Small-billed Tinamou_sound/Small-billed Tinamou23.wav\n",
      "Converted Small-billed Tinamou21.mp3 to wav_files/Small-billed Tinamou_sound/Small-billed Tinamou21.wav\n",
      "Converted Small-billed Tinamou20.mp3 to wav_files/Small-billed Tinamou_sound/Small-billed Tinamou20.wav\n",
      "Converted Small-billed Tinamou30.mp3 to wav_files/Small-billed Tinamou_sound/Small-billed Tinamou30.wav\n",
      "Converted Small-billed Tinamou24.mp3 to wav_files/Small-billed Tinamou_sound/Small-billed Tinamou24.wav\n",
      "Converted Small-billed Tinamou18.mp3 to wav_files/Small-billed Tinamou_sound/Small-billed Tinamou18.wav\n",
      "Converted Small-billed Tinamou19.mp3 to wav_files/Small-billed Tinamou_sound/Small-billed Tinamou19.wav\n",
      "Converted Small-billed Tinamou25.mp3 to wav_files/Small-billed Tinamou_sound/Small-billed Tinamou25.wav\n",
      "Converted Small-billed Tinamou31.mp3 to wav_files/Small-billed Tinamou_sound/Small-billed Tinamou31.wav\n",
      "Converted Small-billed Tinamou27.mp3 to wav_files/Small-billed Tinamou_sound/Small-billed Tinamou27.wav\n",
      "Converted Small-billed Tinamou26.mp3 to wav_files/Small-billed Tinamou_sound/Small-billed Tinamou26.wav\n",
      "Converted Small-billed Tinamou17.mp3 to wav_files/Small-billed Tinamou_sound/Small-billed Tinamou17.wav\n",
      "Converted Small-billed Tinamou16.mp3 to wav_files/Small-billed Tinamou_sound/Small-billed Tinamou16.wav\n",
      "Converted Small-billed Tinamou28.mp3 to wav_files/Small-billed Tinamou_sound/Small-billed Tinamou28.wav\n",
      "Converted Small-billed Tinamou14.mp3 to wav_files/Small-billed Tinamou_sound/Small-billed Tinamou14.wav\n",
      "Converted Small-billed Tinamou15.mp3 to wav_files/Small-billed Tinamou_sound/Small-billed Tinamou15.wav\n",
      "Converted Small-billed Tinamou29.mp3 to wav_files/Small-billed Tinamou_sound/Small-billed Tinamou29.wav\n",
      "Converted Small-billed Tinamou11.mp3 to wav_files/Small-billed Tinamou_sound/Small-billed Tinamou11.wav\n",
      "Converted Small-billed Tinamou10.mp3 to wav_files/Small-billed Tinamou_sound/Small-billed Tinamou10.wav\n",
      "Converted Small-billed Tinamou12.mp3 to wav_files/Small-billed Tinamou_sound/Small-billed Tinamou12.wav\n",
      "Converted Small-billed Tinamou13.mp3 to wav_files/Small-billed Tinamou_sound/Small-billed Tinamou13.wav\n",
      "Converted Small-billed Tinamou4.mp3 to wav_files/Small-billed Tinamou_sound/Small-billed Tinamou4.wav\n",
      "Converted Small-billed Tinamou5.mp3 to wav_files/Small-billed Tinamou_sound/Small-billed Tinamou5.wav\n",
      "Converted Small-billed Tinamou7.mp3 to wav_files/Small-billed Tinamou_sound/Small-billed Tinamou7.wav\n",
      "Converted Small-billed Tinamou6.mp3 to wav_files/Small-billed Tinamou_sound/Small-billed Tinamou6.wav\n",
      "Converted Small-billed Tinamou2.mp3 to wav_files/Small-billed Tinamou_sound/Small-billed Tinamou2.wav\n"
     ]
    },
    {
     "name": "stderr",
     "output_type": "stream",
     "text": [
      "66it [03:24,  4.06s/it]"
     ]
    },
    {
     "name": "stdout",
     "output_type": "stream",
     "text": [
      "Converted Small-billed Tinamou3.mp3 to wav_files/Small-billed Tinamou_sound/Small-billed Tinamou3.wav\n",
      "Converted Northern Cassowary3.mp3 to wav_files/Northern Cassowary_sound/Northern Cassowary3.wav\n",
      "Converted Northern Cassowary2.mp3 to wav_files/Northern Cassowary_sound/Northern Cassowary2.wav\n",
      "Converted Northern Cassowary5.mp3 to wav_files/Northern Cassowary_sound/Northern Cassowary5.wav\n",
      "Converted Northern Cassowary4.mp3 to wav_files/Northern Cassowary_sound/Northern Cassowary4.wav\n",
      "Converted Northern Cassowary6.mp3 to wav_files/Northern Cassowary_sound/Northern Cassowary6.wav\n"
     ]
    },
    {
     "name": "stderr",
     "output_type": "stream",
     "text": [
      "67it [03:25,  3.08s/it]"
     ]
    },
    {
     "name": "stdout",
     "output_type": "stream",
     "text": [
      "Converted Northern Cassowary7.mp3 to wav_files/Northern Cassowary_sound/Northern Cassowary7.wav\n",
      "Converted Grey Tinamou7.mp3 to wav_files/Grey Tinamou_sound/Grey Tinamou7.wav\n",
      "Converted Grey Tinamou6.mp3 to wav_files/Grey Tinamou_sound/Grey Tinamou6.wav\n",
      "Converted Grey Tinamou4.mp3 to wav_files/Grey Tinamou_sound/Grey Tinamou4.wav\n",
      "Converted Grey Tinamou5.mp3 to wav_files/Grey Tinamou_sound/Grey Tinamou5.wav\n",
      "Converted Grey Tinamou2.mp3 to wav_files/Grey Tinamou_sound/Grey Tinamou2.wav\n",
      "Converted Grey Tinamou3.mp3 to wav_files/Grey Tinamou_sound/Grey Tinamou3.wav\n",
      "Converted Grey Tinamou23.mp3 to wav_files/Grey Tinamou_sound/Grey Tinamou23.wav\n",
      "Converted Grey Tinamou22.mp3 to wav_files/Grey Tinamou_sound/Grey Tinamou22.wav\n",
      "Converted Grey Tinamou20.mp3 to wav_files/Grey Tinamou_sound/Grey Tinamou20.wav\n",
      "Converted Grey Tinamou21.mp3 to wav_files/Grey Tinamou_sound/Grey Tinamou21.wav\n",
      "Converted Grey Tinamou19.mp3 to wav_files/Grey Tinamou_sound/Grey Tinamou19.wav\n",
      "Converted Grey Tinamou31.mp3 to wav_files/Grey Tinamou_sound/Grey Tinamou31.wav\n",
      "Converted Grey Tinamou25.mp3 to wav_files/Grey Tinamou_sound/Grey Tinamou25.wav\n",
      "Converted Grey Tinamou24.mp3 to wav_files/Grey Tinamou_sound/Grey Tinamou24.wav\n",
      "Converted Grey Tinamou30.mp3 to wav_files/Grey Tinamou_sound/Grey Tinamou30.wav\n",
      "Converted Grey Tinamou18.mp3 to wav_files/Grey Tinamou_sound/Grey Tinamou18.wav\n",
      "Converted Grey Tinamou26.mp3 to wav_files/Grey Tinamou_sound/Grey Tinamou26.wav\n",
      "Converted Grey Tinamou27.mp3 to wav_files/Grey Tinamou_sound/Grey Tinamou27.wav\n",
      "Converted Grey Tinamou16.mp3 to wav_files/Grey Tinamou_sound/Grey Tinamou16.wav\n",
      "Converted Grey Tinamou17.mp3 to wav_files/Grey Tinamou_sound/Grey Tinamou17.wav\n",
      "Converted Grey Tinamou15.mp3 to wav_files/Grey Tinamou_sound/Grey Tinamou15.wav\n",
      "Converted Grey Tinamou29.mp3 to wav_files/Grey Tinamou_sound/Grey Tinamou29.wav\n",
      "Converted Grey Tinamou28.mp3 to wav_files/Grey Tinamou_sound/Grey Tinamou28.wav\n",
      "Converted Grey Tinamou14.mp3 to wav_files/Grey Tinamou_sound/Grey Tinamou14.wav\n",
      "Converted Grey Tinamou10.mp3 to wav_files/Grey Tinamou_sound/Grey Tinamou10.wav\n",
      "Converted Grey Tinamou11.mp3 to wav_files/Grey Tinamou_sound/Grey Tinamou11.wav\n",
      "Converted Grey Tinamou13.mp3 to wav_files/Grey Tinamou_sound/Grey Tinamou13.wav\n",
      "Converted Grey Tinamou12.mp3 to wav_files/Grey Tinamou_sound/Grey Tinamou12.wav\n",
      "Converted Grey Tinamou8.mp3 to wav_files/Grey Tinamou_sound/Grey Tinamou8.wav\n"
     ]
    },
    {
     "name": "stderr",
     "output_type": "stream",
     "text": [
      "68it [03:32,  4.13s/it]"
     ]
    },
    {
     "name": "stdout",
     "output_type": "stream",
     "text": [
      "Converted Grey Tinamou9.mp3 to wav_files/Grey Tinamou_sound/Grey Tinamou9.wav\n",
      "Converted Yellow-legged Tinamou23.mp3 to wav_files/Yellow-legged Tinamou_sound/Yellow-legged Tinamou23.wav\n",
      "Converted Yellow-legged Tinamou22.mp3 to wav_files/Yellow-legged Tinamou_sound/Yellow-legged Tinamou22.wav\n",
      "Converted Yellow-legged Tinamou20.mp3 to wav_files/Yellow-legged Tinamou_sound/Yellow-legged Tinamou20.wav\n",
      "Converted Yellow-legged Tinamou9.mp3 to wav_files/Yellow-legged Tinamou_sound/Yellow-legged Tinamou9.wav\n",
      "Converted Yellow-legged Tinamou8.mp3 to wav_files/Yellow-legged Tinamou_sound/Yellow-legged Tinamou8.wav\n",
      "Converted Yellow-legged Tinamou21.mp3 to wav_files/Yellow-legged Tinamou_sound/Yellow-legged Tinamou21.wav\n",
      "Converted Yellow-legged Tinamou19.mp3 to wav_files/Yellow-legged Tinamou_sound/Yellow-legged Tinamou19.wav\n",
      "Converted Yellow-legged Tinamou31.mp3 to wav_files/Yellow-legged Tinamou_sound/Yellow-legged Tinamou31.wav\n",
      "Converted Yellow-legged Tinamou25.mp3 to wav_files/Yellow-legged Tinamou_sound/Yellow-legged Tinamou25.wav\n",
      "Converted Yellow-legged Tinamou24.mp3 to wav_files/Yellow-legged Tinamou_sound/Yellow-legged Tinamou24.wav\n",
      "Converted Yellow-legged Tinamou30.mp3 to wav_files/Yellow-legged Tinamou_sound/Yellow-legged Tinamou30.wav\n",
      "Converted Yellow-legged Tinamou18.mp3 to wav_files/Yellow-legged Tinamou_sound/Yellow-legged Tinamou18.wav\n",
      "Converted Yellow-legged Tinamou26.mp3 to wav_files/Yellow-legged Tinamou_sound/Yellow-legged Tinamou26.wav\n",
      "Converted Yellow-legged Tinamou27.mp3 to wav_files/Yellow-legged Tinamou_sound/Yellow-legged Tinamou27.wav\n",
      "Converted Yellow-legged Tinamou16.mp3 to wav_files/Yellow-legged Tinamou_sound/Yellow-legged Tinamou16.wav\n",
      "Converted Yellow-legged Tinamou3.mp3 to wav_files/Yellow-legged Tinamou_sound/Yellow-legged Tinamou3.wav\n",
      "Converted Yellow-legged Tinamou17.mp3 to wav_files/Yellow-legged Tinamou_sound/Yellow-legged Tinamou17.wav\n",
      "Converted Yellow-legged Tinamou2.mp3 to wav_files/Yellow-legged Tinamou_sound/Yellow-legged Tinamou2.wav\n",
      "Converted Yellow-legged Tinamou15.mp3 to wav_files/Yellow-legged Tinamou_sound/Yellow-legged Tinamou15.wav\n",
      "Converted Yellow-legged Tinamou29.mp3 to wav_files/Yellow-legged Tinamou_sound/Yellow-legged Tinamou29.wav\n",
      "Converted Yellow-legged Tinamou28.mp3 to wav_files/Yellow-legged Tinamou_sound/Yellow-legged Tinamou28.wav\n",
      "Converted Yellow-legged Tinamou14.mp3 to wav_files/Yellow-legged Tinamou_sound/Yellow-legged Tinamou14.wav\n",
      "Converted Yellow-legged Tinamou10.mp3 to wav_files/Yellow-legged Tinamou_sound/Yellow-legged Tinamou10.wav\n",
      "Converted Yellow-legged Tinamou5.mp3 to wav_files/Yellow-legged Tinamou_sound/Yellow-legged Tinamou5.wav\n",
      "Converted Yellow-legged Tinamou11.mp3 to wav_files/Yellow-legged Tinamou_sound/Yellow-legged Tinamou11.wav\n",
      "Converted Yellow-legged Tinamou4.mp3 to wav_files/Yellow-legged Tinamou_sound/Yellow-legged Tinamou4.wav\n",
      "Converted Yellow-legged Tinamou6.mp3 to wav_files/Yellow-legged Tinamou_sound/Yellow-legged Tinamou6.wav\n",
      "Converted Yellow-legged Tinamou13.mp3 to wav_files/Yellow-legged Tinamou_sound/Yellow-legged Tinamou13.wav\n",
      "Converted Yellow-legged Tinamou7.mp3 to wav_files/Yellow-legged Tinamou_sound/Yellow-legged Tinamou7.wav\n"
     ]
    },
    {
     "name": "stderr",
     "output_type": "stream",
     "text": [
      "69it [03:37,  4.57s/it]"
     ]
    },
    {
     "name": "stdout",
     "output_type": "stream",
     "text": [
      "Converted Yellow-legged Tinamou12.mp3 to wav_files/Yellow-legged Tinamou_sound/Yellow-legged Tinamou12.wav\n",
      "Converted Lesser Nothura8.mp3 to wav_files/Lesser Nothura_sound/Lesser Nothura8.wav\n",
      "Converted Lesser Nothura9.mp3 to wav_files/Lesser Nothura_sound/Lesser Nothura9.wav\n",
      "Converted Lesser Nothura10.mp3 to wav_files/Lesser Nothura_sound/Lesser Nothura10.wav\n",
      "Converted Lesser Nothura11.mp3 to wav_files/Lesser Nothura_sound/Lesser Nothura11.wav\n",
      "Converted Lesser Nothura2.mp3 to wav_files/Lesser Nothura_sound/Lesser Nothura2.wav\n",
      "Converted Lesser Nothura3.mp3 to wav_files/Lesser Nothura_sound/Lesser Nothura3.wav\n",
      "Converted Lesser Nothura7.mp3 to wav_files/Lesser Nothura_sound/Lesser Nothura7.wav\n",
      "Converted Lesser Nothura6.mp3 to wav_files/Lesser Nothura_sound/Lesser Nothura6.wav\n",
      "Converted Lesser Nothura4.mp3 to wav_files/Lesser Nothura_sound/Lesser Nothura4.wav\n"
     ]
    },
    {
     "name": "stderr",
     "output_type": "stream",
     "text": [
      "70it [03:39,  3.59s/it]"
     ]
    },
    {
     "name": "stdout",
     "output_type": "stream",
     "text": [
      "Converted Lesser Nothura5.mp3 to wav_files/Lesser Nothura_sound/Lesser Nothura5.wav\n",
      "Converted White-bellied Nothura23.mp3 to wav_files/White-bellied Nothura_sound/White-bellied Nothura23.wav\n",
      "Converted White-bellied Nothura8.mp3 to wav_files/White-bellied Nothura_sound/White-bellied Nothura8.wav\n",
      "Converted White-bellied Nothura9.mp3 to wav_files/White-bellied Nothura_sound/White-bellied Nothura9.wav\n",
      "Converted White-bellied Nothura22.mp3 to wav_files/White-bellied Nothura_sound/White-bellied Nothura22.wav\n",
      "Converted White-bellied Nothura20.mp3 to wav_files/White-bellied Nothura_sound/White-bellied Nothura20.wav\n",
      "Converted White-bellied Nothura21.mp3 to wav_files/White-bellied Nothura_sound/White-bellied Nothura21.wav\n",
      "Converted White-bellied Nothura25.mp3 to wav_files/White-bellied Nothura_sound/White-bellied Nothura25.wav\n",
      "Converted White-bellied Nothura31.mp3 to wav_files/White-bellied Nothura_sound/White-bellied Nothura31.wav\n",
      "Converted White-bellied Nothura19.mp3 to wav_files/White-bellied Nothura_sound/White-bellied Nothura19.wav\n",
      "Converted White-bellied Nothura18.mp3 to wav_files/White-bellied Nothura_sound/White-bellied Nothura18.wav\n",
      "Converted White-bellied Nothura30.mp3 to wav_files/White-bellied Nothura_sound/White-bellied Nothura30.wav\n",
      "Converted White-bellied Nothura24.mp3 to wav_files/White-bellied Nothura_sound/White-bellied Nothura24.wav\n",
      "Converted White-bellied Nothura26.mp3 to wav_files/White-bellied Nothura_sound/White-bellied Nothura26.wav\n",
      "Converted White-bellied Nothura27.mp3 to wav_files/White-bellied Nothura_sound/White-bellied Nothura27.wav\n",
      "Converted White-bellied Nothura16.mp3 to wav_files/White-bellied Nothura_sound/White-bellied Nothura16.wav\n",
      "Converted White-bellied Nothura17.mp3 to wav_files/White-bellied Nothura_sound/White-bellied Nothura17.wav\n",
      "Converted White-bellied Nothura29.mp3 to wav_files/White-bellied Nothura_sound/White-bellied Nothura29.wav\n",
      "Converted White-bellied Nothura15.mp3 to wav_files/White-bellied Nothura_sound/White-bellied Nothura15.wav\n",
      "Converted White-bellied Nothura2.mp3 to wav_files/White-bellied Nothura_sound/White-bellied Nothura2.wav\n",
      "Converted White-bellied Nothura3.mp3 to wav_files/White-bellied Nothura_sound/White-bellied Nothura3.wav\n",
      "Converted White-bellied Nothura14.mp3 to wav_files/White-bellied Nothura_sound/White-bellied Nothura14.wav\n",
      "Converted White-bellied Nothura28.mp3 to wav_files/White-bellied Nothura_sound/White-bellied Nothura28.wav\n",
      "Converted White-bellied Nothura10.mp3 to wav_files/White-bellied Nothura_sound/White-bellied Nothura10.wav\n",
      "Converted White-bellied Nothura7.mp3 to wav_files/White-bellied Nothura_sound/White-bellied Nothura7.wav\n",
      "Converted White-bellied Nothura6.mp3 to wav_files/White-bellied Nothura_sound/White-bellied Nothura6.wav\n",
      "Converted White-bellied Nothura11.mp3 to wav_files/White-bellied Nothura_sound/White-bellied Nothura11.wav\n",
      "Converted White-bellied Nothura13.mp3 to wav_files/White-bellied Nothura_sound/White-bellied Nothura13.wav\n",
      "Converted White-bellied Nothura4.mp3 to wav_files/White-bellied Nothura_sound/White-bellied Nothura4.wav\n"
     ]
    },
    {
     "name": "stderr",
     "output_type": "stream",
     "text": [
      "71it [03:43,  3.81s/it]"
     ]
    },
    {
     "name": "stdout",
     "output_type": "stream",
     "text": [
      "Converted White-bellied Nothura5.mp3 to wav_files/White-bellied Nothura_sound/White-bellied Nothura5.wav\n",
      "Converted White-bellied Nothura12.mp3 to wav_files/White-bellied Nothura_sound/White-bellied Nothura12.wav\n",
      "Converted Black-billed Brushturkey21.mp3 to wav_files/Black-billed Brushturkey_sound/Black-billed Brushturkey21.wav\n",
      "Converted Black-billed Brushturkey20.mp3 to wav_files/Black-billed Brushturkey_sound/Black-billed Brushturkey20.wav\n",
      "Converted Black-billed Brushturkey8.mp3 to wav_files/Black-billed Brushturkey_sound/Black-billed Brushturkey8.wav\n",
      "Converted Black-billed Brushturkey9.mp3 to wav_files/Black-billed Brushturkey_sound/Black-billed Brushturkey9.wav\n",
      "Converted Black-billed Brushturkey18.mp3 to wav_files/Black-billed Brushturkey_sound/Black-billed Brushturkey18.wav\n",
      "Converted Black-billed Brushturkey19.mp3 to wav_files/Black-billed Brushturkey_sound/Black-billed Brushturkey19.wav\n",
      "Converted Black-billed Brushturkey2.mp3 to wav_files/Black-billed Brushturkey_sound/Black-billed Brushturkey2.wav\n",
      "Converted Black-billed Brushturkey14.mp3 to wav_files/Black-billed Brushturkey_sound/Black-billed Brushturkey14.wav\n",
      "Converted Black-billed Brushturkey15.mp3 to wav_files/Black-billed Brushturkey_sound/Black-billed Brushturkey15.wav\n",
      "Converted Black-billed Brushturkey3.mp3 to wav_files/Black-billed Brushturkey_sound/Black-billed Brushturkey3.wav\n",
      "Converted Black-billed Brushturkey17.mp3 to wav_files/Black-billed Brushturkey_sound/Black-billed Brushturkey17.wav\n",
      "Converted Black-billed Brushturkey16.mp3 to wav_files/Black-billed Brushturkey_sound/Black-billed Brushturkey16.wav\n",
      "Converted Black-billed Brushturkey4.mp3 to wav_files/Black-billed Brushturkey_sound/Black-billed Brushturkey4.wav\n",
      "Converted Black-billed Brushturkey12.mp3 to wav_files/Black-billed Brushturkey_sound/Black-billed Brushturkey12.wav\n",
      "Converted Black-billed Brushturkey13.mp3 to wav_files/Black-billed Brushturkey_sound/Black-billed Brushturkey13.wav\n",
      "Converted Black-billed Brushturkey5.mp3 to wav_files/Black-billed Brushturkey_sound/Black-billed Brushturkey5.wav\n",
      "Converted Black-billed Brushturkey7.mp3 to wav_files/Black-billed Brushturkey_sound/Black-billed Brushturkey7.wav\n",
      "Converted Black-billed Brushturkey11.mp3 to wav_files/Black-billed Brushturkey_sound/Black-billed Brushturkey11.wav\n"
     ]
    },
    {
     "name": "stderr",
     "output_type": "stream",
     "text": [
      "72it [03:46,  3.50s/it]"
     ]
    },
    {
     "name": "stdout",
     "output_type": "stream",
     "text": [
      "Converted Black-billed Brushturkey10.mp3 to wav_files/Black-billed Brushturkey_sound/Black-billed Brushturkey10.wav\n",
      "Converted Black-billed Brushturkey6.mp3 to wav_files/Black-billed Brushturkey_sound/Black-billed Brushturkey6.wav\n",
      "Converted Little Chachalaca9.mp3 to wav_files/Little Chachalaca_sound/Little Chachalaca9.wav\n",
      "Converted Little Chachalaca8.mp3 to wav_files/Little Chachalaca_sound/Little Chachalaca8.wav\n",
      "Converted Little Chachalaca21.mp3 to wav_files/Little Chachalaca_sound/Little Chachalaca21.wav\n",
      "Converted Little Chachalaca20.mp3 to wav_files/Little Chachalaca_sound/Little Chachalaca20.wav\n",
      "Converted Little Chachalaca22.mp3 to wav_files/Little Chachalaca_sound/Little Chachalaca22.wav\n",
      "Converted Little Chachalaca23.mp3 to wav_files/Little Chachalaca_sound/Little Chachalaca23.wav\n",
      "Converted Little Chachalaca27.mp3 to wav_files/Little Chachalaca_sound/Little Chachalaca27.wav\n",
      "Converted Little Chachalaca26.mp3 to wav_files/Little Chachalaca_sound/Little Chachalaca26.wav\n",
      "Converted Little Chachalaca18.mp3 to wav_files/Little Chachalaca_sound/Little Chachalaca18.wav\n",
      "Converted Little Chachalaca24.mp3 to wav_files/Little Chachalaca_sound/Little Chachalaca24.wav\n",
      "Converted Little Chachalaca30.mp3 to wav_files/Little Chachalaca_sound/Little Chachalaca30.wav\n",
      "Converted Little Chachalaca31.mp3 to wav_files/Little Chachalaca_sound/Little Chachalaca31.wav\n",
      "Converted Little Chachalaca25.mp3 to wav_files/Little Chachalaca_sound/Little Chachalaca25.wav\n",
      "Converted Little Chachalaca19.mp3 to wav_files/Little Chachalaca_sound/Little Chachalaca19.wav\n",
      "Converted Little Chachalaca14.mp3 to wav_files/Little Chachalaca_sound/Little Chachalaca14.wav\n",
      "Converted Little Chachalaca28.mp3 to wav_files/Little Chachalaca_sound/Little Chachalaca28.wav\n",
      "Converted Little Chachalaca29.mp3 to wav_files/Little Chachalaca_sound/Little Chachalaca29.wav\n",
      "Converted Little Chachalaca15.mp3 to wav_files/Little Chachalaca_sound/Little Chachalaca15.wav\n",
      "Converted Little Chachalaca17.mp3 to wav_files/Little Chachalaca_sound/Little Chachalaca17.wav\n",
      "Converted Little Chachalaca16.mp3 to wav_files/Little Chachalaca_sound/Little Chachalaca16.wav\n",
      "Converted Little Chachalaca12.mp3 to wav_files/Little Chachalaca_sound/Little Chachalaca12.wav\n",
      "Converted Little Chachalaca13.mp3 to wav_files/Little Chachalaca_sound/Little Chachalaca13.wav\n",
      "Converted Little Chachalaca11.mp3 to wav_files/Little Chachalaca_sound/Little Chachalaca11.wav\n",
      "Converted Little Chachalaca10.mp3 to wav_files/Little Chachalaca_sound/Little Chachalaca10.wav\n",
      "Converted Little Chachalaca3.mp3 to wav_files/Little Chachalaca_sound/Little Chachalaca3.wav\n",
      "Converted Little Chachalaca2.mp3 to wav_files/Little Chachalaca_sound/Little Chachalaca2.wav\n",
      "Converted Little Chachalaca6.mp3 to wav_files/Little Chachalaca_sound/Little Chachalaca6.wav\n",
      "Converted Little Chachalaca7.mp3 to wav_files/Little Chachalaca_sound/Little Chachalaca7.wav\n",
      "Converted Little Chachalaca5.mp3 to wav_files/Little Chachalaca_sound/Little Chachalaca5.wav\n"
     ]
    },
    {
     "name": "stderr",
     "output_type": "stream",
     "text": [
      "73it [03:50,  3.89s/it]"
     ]
    },
    {
     "name": "stdout",
     "output_type": "stream",
     "text": [
      "Converted Little Chachalaca4.mp3 to wav_files/Little Chachalaca_sound/Little Chachalaca4.wav\n",
      "Converted Biak Scrubfowl8.mp3 to wav_files/Biak Scrubfowl_sound/Biak Scrubfowl8.wav\n",
      "Converted Biak Scrubfowl9.mp3 to wav_files/Biak Scrubfowl_sound/Biak Scrubfowl9.wav\n",
      "Converted Biak Scrubfowl4.mp3 to wav_files/Biak Scrubfowl_sound/Biak Scrubfowl4.wav\n",
      "Converted Biak Scrubfowl5.mp3 to wav_files/Biak Scrubfowl_sound/Biak Scrubfowl5.wav\n",
      "Converted Biak Scrubfowl7.mp3 to wav_files/Biak Scrubfowl_sound/Biak Scrubfowl7.wav\n",
      "Converted Biak Scrubfowl6.mp3 to wav_files/Biak Scrubfowl_sound/Biak Scrubfowl6.wav\n",
      "Converted Biak Scrubfowl2.mp3 to wav_files/Biak Scrubfowl_sound/Biak Scrubfowl2.wav\n"
     ]
    },
    {
     "name": "stderr",
     "output_type": "stream",
     "text": [
      "74it [03:52,  3.06s/it]"
     ]
    },
    {
     "name": "stdout",
     "output_type": "stream",
     "text": [
      "Converted Biak Scrubfowl3.mp3 to wav_files/Biak Scrubfowl_sound/Biak Scrubfowl3.wav\n",
      "Converted Biak Scrubfowl10.mp3 to wav_files/Biak Scrubfowl_sound/Biak Scrubfowl10.wav\n",
      "Converted Grey-headed Chachalaca2.mp3 to wav_files/Grey-headed Chachalaca_sound/Grey-headed Chachalaca2.wav\n",
      "Converted Grey-headed Chachalaca3.mp3 to wav_files/Grey-headed Chachalaca_sound/Grey-headed Chachalaca3.wav\n",
      "Converted Grey-headed Chachalaca7.mp3 to wav_files/Grey-headed Chachalaca_sound/Grey-headed Chachalaca7.wav\n",
      "Converted Grey-headed Chachalaca6.mp3 to wav_files/Grey-headed Chachalaca_sound/Grey-headed Chachalaca6.wav\n",
      "Converted Grey-headed Chachalaca4.mp3 to wav_files/Grey-headed Chachalaca_sound/Grey-headed Chachalaca4.wav\n",
      "Converted Grey-headed Chachalaca5.mp3 to wav_files/Grey-headed Chachalaca_sound/Grey-headed Chachalaca5.wav\n",
      "Converted Grey-headed Chachalaca20.mp3 to wav_files/Grey-headed Chachalaca_sound/Grey-headed Chachalaca20.wav\n",
      "Converted Grey-headed Chachalaca21.mp3 to wav_files/Grey-headed Chachalaca_sound/Grey-headed Chachalaca21.wav\n",
      "Converted Grey-headed Chachalaca23.mp3 to wav_files/Grey-headed Chachalaca_sound/Grey-headed Chachalaca23.wav\n",
      "Converted Grey-headed Chachalaca22.mp3 to wav_files/Grey-headed Chachalaca_sound/Grey-headed Chachalaca22.wav\n",
      "Converted Grey-headed Chachalaca26.mp3 to wav_files/Grey-headed Chachalaca_sound/Grey-headed Chachalaca26.wav\n",
      "Converted Grey-headed Chachalaca27.mp3 to wav_files/Grey-headed Chachalaca_sound/Grey-headed Chachalaca27.wav\n",
      "Converted Grey-headed Chachalaca19.mp3 to wav_files/Grey-headed Chachalaca_sound/Grey-headed Chachalaca19.wav\n",
      "Converted Grey-headed Chachalaca25.mp3 to wav_files/Grey-headed Chachalaca_sound/Grey-headed Chachalaca25.wav\n",
      "Converted Grey-headed Chachalaca31.mp3 to wav_files/Grey-headed Chachalaca_sound/Grey-headed Chachalaca31.wav\n",
      "Converted Grey-headed Chachalaca30.mp3 to wav_files/Grey-headed Chachalaca_sound/Grey-headed Chachalaca30.wav\n",
      "Converted Grey-headed Chachalaca24.mp3 to wav_files/Grey-headed Chachalaca_sound/Grey-headed Chachalaca24.wav\n",
      "Converted Grey-headed Chachalaca18.mp3 to wav_files/Grey-headed Chachalaca_sound/Grey-headed Chachalaca18.wav\n",
      "Converted Grey-headed Chachalaca15.mp3 to wav_files/Grey-headed Chachalaca_sound/Grey-headed Chachalaca15.wav\n",
      "Converted Grey-headed Chachalaca29.mp3 to wav_files/Grey-headed Chachalaca_sound/Grey-headed Chachalaca29.wav\n",
      "Converted Grey-headed Chachalaca28.mp3 to wav_files/Grey-headed Chachalaca_sound/Grey-headed Chachalaca28.wav\n",
      "Converted Grey-headed Chachalaca14.mp3 to wav_files/Grey-headed Chachalaca_sound/Grey-headed Chachalaca14.wav\n",
      "Converted Grey-headed Chachalaca16.mp3 to wav_files/Grey-headed Chachalaca_sound/Grey-headed Chachalaca16.wav\n",
      "Converted Grey-headed Chachalaca17.mp3 to wav_files/Grey-headed Chachalaca_sound/Grey-headed Chachalaca17.wav\n",
      "Converted Grey-headed Chachalaca13.mp3 to wav_files/Grey-headed Chachalaca_sound/Grey-headed Chachalaca13.wav\n",
      "Converted Grey-headed Chachalaca12.mp3 to wav_files/Grey-headed Chachalaca_sound/Grey-headed Chachalaca12.wav\n",
      "Converted Grey-headed Chachalaca10.mp3 to wav_files/Grey-headed Chachalaca_sound/Grey-headed Chachalaca10.wav\n",
      "Converted Grey-headed Chachalaca11.mp3 to wav_files/Grey-headed Chachalaca_sound/Grey-headed Chachalaca11.wav\n"
     ]
    },
    {
     "name": "stderr",
     "output_type": "stream",
     "text": [
      "75it [03:58,  3.92s/it]"
     ]
    },
    {
     "name": "stdout",
     "output_type": "stream",
     "text": [
      "Converted Grey-headed Chachalaca8.mp3 to wav_files/Grey-headed Chachalaca_sound/Grey-headed Chachalaca8.wav\n",
      "Converted Grey-headed Chachalaca9.mp3 to wav_files/Grey-headed Chachalaca_sound/Grey-headed Chachalaca9.wav\n",
      "Converted Bartletts Tinamou3.mp3 to wav_files/Bartletts Tinamou_sound/Bartletts Tinamou3.wav\n",
      "Converted Bartletts Tinamou2.mp3 to wav_files/Bartletts Tinamou_sound/Bartletts Tinamou2.wav\n",
      "Converted Bartletts Tinamou5.mp3 to wav_files/Bartletts Tinamou_sound/Bartletts Tinamou5.wav\n",
      "Converted Bartletts Tinamou4.mp3 to wav_files/Bartletts Tinamou_sound/Bartletts Tinamou4.wav\n",
      "Converted Bartletts Tinamou6.mp3 to wav_files/Bartletts Tinamou_sound/Bartletts Tinamou6.wav\n",
      "Converted Bartletts Tinamou7.mp3 to wav_files/Bartletts Tinamou_sound/Bartletts Tinamou7.wav\n",
      "Converted Bartletts Tinamou20.mp3 to wav_files/Bartletts Tinamou_sound/Bartletts Tinamou20.wav\n",
      "Converted Bartletts Tinamou21.mp3 to wav_files/Bartletts Tinamou_sound/Bartletts Tinamou21.wav\n",
      "Converted Bartletts Tinamou23.mp3 to wav_files/Bartletts Tinamou_sound/Bartletts Tinamou23.wav\n",
      "Converted Bartletts Tinamou22.mp3 to wav_files/Bartletts Tinamou_sound/Bartletts Tinamou22.wav\n",
      "Converted Bartletts Tinamou26.mp3 to wav_files/Bartletts Tinamou_sound/Bartletts Tinamou26.wav\n",
      "Converted Bartletts Tinamou27.mp3 to wav_files/Bartletts Tinamou_sound/Bartletts Tinamou27.wav\n",
      "Converted Bartletts Tinamou19.mp3 to wav_files/Bartletts Tinamou_sound/Bartletts Tinamou19.wav\n",
      "Converted Bartletts Tinamou25.mp3 to wav_files/Bartletts Tinamou_sound/Bartletts Tinamou25.wav\n",
      "Converted Bartletts Tinamou31.mp3 to wav_files/Bartletts Tinamou_sound/Bartletts Tinamou31.wav\n",
      "Converted Bartletts Tinamou30.mp3 to wav_files/Bartletts Tinamou_sound/Bartletts Tinamou30.wav\n",
      "Converted Bartletts Tinamou24.mp3 to wav_files/Bartletts Tinamou_sound/Bartletts Tinamou24.wav\n",
      "Converted Bartletts Tinamou18.mp3 to wav_files/Bartletts Tinamou_sound/Bartletts Tinamou18.wav\n",
      "Converted Bartletts Tinamou15.mp3 to wav_files/Bartletts Tinamou_sound/Bartletts Tinamou15.wav\n",
      "Converted Bartletts Tinamou29.mp3 to wav_files/Bartletts Tinamou_sound/Bartletts Tinamou29.wav\n",
      "Converted Bartletts Tinamou28.mp3 to wav_files/Bartletts Tinamou_sound/Bartletts Tinamou28.wav\n",
      "Converted Bartletts Tinamou14.mp3 to wav_files/Bartletts Tinamou_sound/Bartletts Tinamou14.wav\n",
      "Converted Bartletts Tinamou16.mp3 to wav_files/Bartletts Tinamou_sound/Bartletts Tinamou16.wav\n",
      "Converted Bartletts Tinamou17.mp3 to wav_files/Bartletts Tinamou_sound/Bartletts Tinamou17.wav\n",
      "Converted Bartletts Tinamou13.mp3 to wav_files/Bartletts Tinamou_sound/Bartletts Tinamou13.wav\n",
      "Converted Bartletts Tinamou12.mp3 to wav_files/Bartletts Tinamou_sound/Bartletts Tinamou12.wav\n",
      "Converted Bartletts Tinamou10.mp3 to wav_files/Bartletts Tinamou_sound/Bartletts Tinamou10.wav\n",
      "Converted Bartletts Tinamou11.mp3 to wav_files/Bartletts Tinamou_sound/Bartletts Tinamou11.wav\n"
     ]
    },
    {
     "name": "stderr",
     "output_type": "stream",
     "text": [
      "76it [04:05,  4.95s/it]"
     ]
    },
    {
     "name": "stdout",
     "output_type": "stream",
     "text": [
      "Converted Bartletts Tinamou9.mp3 to wav_files/Bartletts Tinamou_sound/Bartletts Tinamou9.wav\n",
      "Converted Bartletts Tinamou8.mp3 to wav_files/Bartletts Tinamou_sound/Bartletts Tinamou8.wav\n",
      "Converted Plain Chachalaca20.mp3 to wav_files/Plain Chachalaca_sound/Plain Chachalaca20.wav\n",
      "Converted Plain Chachalaca9.mp3 to wav_files/Plain Chachalaca_sound/Plain Chachalaca9.wav\n",
      "Converted Plain Chachalaca21.mp3 to wav_files/Plain Chachalaca_sound/Plain Chachalaca21.wav\n",
      "Converted Plain Chachalaca8.mp3 to wav_files/Plain Chachalaca_sound/Plain Chachalaca8.wav\n",
      "Converted Plain Chachalaca23.mp3 to wav_files/Plain Chachalaca_sound/Plain Chachalaca23.wav\n",
      "Converted Plain Chachalaca22.mp3 to wav_files/Plain Chachalaca_sound/Plain Chachalaca22.wav\n",
      "Converted Plain Chachalaca26.mp3 to wav_files/Plain Chachalaca_sound/Plain Chachalaca26.wav\n",
      "Converted Plain Chachalaca27.mp3 to wav_files/Plain Chachalaca_sound/Plain Chachalaca27.wav\n",
      "Converted Plain Chachalaca19.mp3 to wav_files/Plain Chachalaca_sound/Plain Chachalaca19.wav\n",
      "Converted Plain Chachalaca31.mp3 to wav_files/Plain Chachalaca_sound/Plain Chachalaca31.wav\n",
      "Converted Plain Chachalaca25.mp3 to wav_files/Plain Chachalaca_sound/Plain Chachalaca25.wav\n",
      "Converted Plain Chachalaca24.mp3 to wav_files/Plain Chachalaca_sound/Plain Chachalaca24.wav\n",
      "Converted Plain Chachalaca30.mp3 to wav_files/Plain Chachalaca_sound/Plain Chachalaca30.wav\n",
      "Converted Plain Chachalaca18.mp3 to wav_files/Plain Chachalaca_sound/Plain Chachalaca18.wav\n",
      "Converted Plain Chachalaca15.mp3 to wav_files/Plain Chachalaca_sound/Plain Chachalaca15.wav\n",
      "Converted Plain Chachalaca29.mp3 to wav_files/Plain Chachalaca_sound/Plain Chachalaca29.wav\n",
      "Converted Plain Chachalaca28.mp3 to wav_files/Plain Chachalaca_sound/Plain Chachalaca28.wav\n",
      "Converted Plain Chachalaca14.mp3 to wav_files/Plain Chachalaca_sound/Plain Chachalaca14.wav\n",
      "Converted Plain Chachalaca16.mp3 to wav_files/Plain Chachalaca_sound/Plain Chachalaca16.wav\n",
      "Converted Plain Chachalaca3.mp3 to wav_files/Plain Chachalaca_sound/Plain Chachalaca3.wav\n",
      "Converted Plain Chachalaca2.mp3 to wav_files/Plain Chachalaca_sound/Plain Chachalaca2.wav\n",
      "Converted Plain Chachalaca17.mp3 to wav_files/Plain Chachalaca_sound/Plain Chachalaca17.wav\n",
      "Converted Plain Chachalaca6.mp3 to wav_files/Plain Chachalaca_sound/Plain Chachalaca6.wav\n",
      "Converted Plain Chachalaca13.mp3 to wav_files/Plain Chachalaca_sound/Plain Chachalaca13.wav\n",
      "Converted Plain Chachalaca12.mp3 to wav_files/Plain Chachalaca_sound/Plain Chachalaca12.wav\n",
      "Converted Plain Chachalaca7.mp3 to wav_files/Plain Chachalaca_sound/Plain Chachalaca7.wav\n",
      "Converted Plain Chachalaca5.mp3 to wav_files/Plain Chachalaca_sound/Plain Chachalaca5.wav\n",
      "Converted Plain Chachalaca10.mp3 to wav_files/Plain Chachalaca_sound/Plain Chachalaca10.wav\n"
     ]
    },
    {
     "name": "stderr",
     "output_type": "stream",
     "text": [
      "77it [04:12,  5.62s/it]"
     ]
    },
    {
     "name": "stdout",
     "output_type": "stream",
     "text": [
      "Converted Plain Chachalaca11.mp3 to wav_files/Plain Chachalaca_sound/Plain Chachalaca11.wav\n",
      "Converted Plain Chachalaca4.mp3 to wav_files/Plain Chachalaca_sound/Plain Chachalaca4.wav\n",
      "Converted Black-capped Tinamou8.mp3 to wav_files/Black-capped Tinamou_sound/Black-capped Tinamou8.wav\n",
      "Converted Black-capped Tinamou9.mp3 to wav_files/Black-capped Tinamou_sound/Black-capped Tinamou9.wav\n",
      "Converted Black-capped Tinamou20.mp3 to wav_files/Black-capped Tinamou_sound/Black-capped Tinamou20.wav\n",
      "Converted Black-capped Tinamou21.mp3 to wav_files/Black-capped Tinamou_sound/Black-capped Tinamou21.wav\n",
      "Converted Black-capped Tinamou23.mp3 to wav_files/Black-capped Tinamou_sound/Black-capped Tinamou23.wav\n",
      "Converted Black-capped Tinamou22.mp3 to wav_files/Black-capped Tinamou_sound/Black-capped Tinamou22.wav\n",
      "Converted Black-capped Tinamou26.mp3 to wav_files/Black-capped Tinamou_sound/Black-capped Tinamou26.wav\n",
      "Converted Black-capped Tinamou27.mp3 to wav_files/Black-capped Tinamou_sound/Black-capped Tinamou27.wav\n",
      "Converted Black-capped Tinamou19.mp3 to wav_files/Black-capped Tinamou_sound/Black-capped Tinamou19.wav\n",
      "Converted Black-capped Tinamou31.mp3 to wav_files/Black-capped Tinamou_sound/Black-capped Tinamou31.wav\n",
      "Converted Black-capped Tinamou25.mp3 to wav_files/Black-capped Tinamou_sound/Black-capped Tinamou25.wav\n",
      "Converted Black-capped Tinamou24.mp3 to wav_files/Black-capped Tinamou_sound/Black-capped Tinamou24.wav\n",
      "Converted Black-capped Tinamou30.mp3 to wav_files/Black-capped Tinamou_sound/Black-capped Tinamou30.wav\n",
      "Converted Black-capped Tinamou18.mp3 to wav_files/Black-capped Tinamou_sound/Black-capped Tinamou18.wav\n",
      "Converted Black-capped Tinamou15.mp3 to wav_files/Black-capped Tinamou_sound/Black-capped Tinamou15.wav\n",
      "Converted Black-capped Tinamou29.mp3 to wav_files/Black-capped Tinamou_sound/Black-capped Tinamou29.wav\n",
      "Converted Black-capped Tinamou28.mp3 to wav_files/Black-capped Tinamou_sound/Black-capped Tinamou28.wav\n",
      "Converted Black-capped Tinamou14.mp3 to wav_files/Black-capped Tinamou_sound/Black-capped Tinamou14.wav\n",
      "Converted Black-capped Tinamou16.mp3 to wav_files/Black-capped Tinamou_sound/Black-capped Tinamou16.wav\n",
      "Converted Black-capped Tinamou17.mp3 to wav_files/Black-capped Tinamou_sound/Black-capped Tinamou17.wav\n",
      "Converted Black-capped Tinamou13.mp3 to wav_files/Black-capped Tinamou_sound/Black-capped Tinamou13.wav\n",
      "Converted Black-capped Tinamou12.mp3 to wav_files/Black-capped Tinamou_sound/Black-capped Tinamou12.wav\n",
      "Converted Black-capped Tinamou10.mp3 to wav_files/Black-capped Tinamou_sound/Black-capped Tinamou10.wav\n",
      "Converted Black-capped Tinamou11.mp3 to wav_files/Black-capped Tinamou_sound/Black-capped Tinamou11.wav\n",
      "Converted Black-capped Tinamou7.mp3 to wav_files/Black-capped Tinamou_sound/Black-capped Tinamou7.wav\n",
      "Converted Black-capped Tinamou6.mp3 to wav_files/Black-capped Tinamou_sound/Black-capped Tinamou6.wav\n",
      "Converted Black-capped Tinamou4.mp3 to wav_files/Black-capped Tinamou_sound/Black-capped Tinamou4.wav\n",
      "Converted Black-capped Tinamou5.mp3 to wav_files/Black-capped Tinamou_sound/Black-capped Tinamou5.wav\n"
     ]
    },
    {
     "name": "stderr",
     "output_type": "stream",
     "text": [
      "78it [04:17,  5.32s/it]"
     ]
    },
    {
     "name": "stdout",
     "output_type": "stream",
     "text": [
      "Converted Black-capped Tinamou2.mp3 to wav_files/Black-capped Tinamou_sound/Black-capped Tinamou2.wav\n",
      "Converted Black-capped Tinamou3.mp3 to wav_files/Black-capped Tinamou_sound/Black-capped Tinamou3.wav\n",
      "Converted Solitary Tinamou18.mp3 to wav_files/Solitary Tinamou_sound/Solitary Tinamou18.wav\n",
      "Converted Solitary Tinamou30.mp3 to wav_files/Solitary Tinamou_sound/Solitary Tinamou30.wav\n",
      "Converted Solitary Tinamou24.mp3 to wav_files/Solitary Tinamou_sound/Solitary Tinamou24.wav\n",
      "Converted Solitary Tinamou25.mp3 to wav_files/Solitary Tinamou_sound/Solitary Tinamou25.wav\n",
      "Converted Solitary Tinamou31.mp3 to wav_files/Solitary Tinamou_sound/Solitary Tinamou31.wav\n",
      "Converted Solitary Tinamou19.mp3 to wav_files/Solitary Tinamou_sound/Solitary Tinamou19.wav\n",
      "Converted Solitary Tinamou27.mp3 to wav_files/Solitary Tinamou_sound/Solitary Tinamou27.wav\n",
      "Converted Solitary Tinamou26.mp3 to wav_files/Solitary Tinamou_sound/Solitary Tinamou26.wav\n",
      "Converted Solitary Tinamou9.mp3 to wav_files/Solitary Tinamou_sound/Solitary Tinamou9.wav\n",
      "Converted Solitary Tinamou22.mp3 to wav_files/Solitary Tinamou_sound/Solitary Tinamou22.wav\n",
      "Converted Solitary Tinamou23.mp3 to wav_files/Solitary Tinamou_sound/Solitary Tinamou23.wav\n",
      "Converted Solitary Tinamou8.mp3 to wav_files/Solitary Tinamou_sound/Solitary Tinamou8.wav\n",
      "Converted Solitary Tinamou21.mp3 to wav_files/Solitary Tinamou_sound/Solitary Tinamou21.wav\n",
      "Converted Solitary Tinamou20.mp3 to wav_files/Solitary Tinamou_sound/Solitary Tinamou20.wav\n",
      "Converted Solitary Tinamou6.mp3 to wav_files/Solitary Tinamou_sound/Solitary Tinamou6.wav\n",
      "Converted Solitary Tinamou11.mp3 to wav_files/Solitary Tinamou_sound/Solitary Tinamou11.wav\n",
      "Converted Solitary Tinamou10.mp3 to wav_files/Solitary Tinamou_sound/Solitary Tinamou10.wav\n",
      "Converted Solitary Tinamou7.mp3 to wav_files/Solitary Tinamou_sound/Solitary Tinamou7.wav\n",
      "Converted Solitary Tinamou5.mp3 to wav_files/Solitary Tinamou_sound/Solitary Tinamou5.wav\n",
      "Converted Solitary Tinamou12.mp3 to wav_files/Solitary Tinamou_sound/Solitary Tinamou12.wav\n",
      "Converted Solitary Tinamou13.mp3 to wav_files/Solitary Tinamou_sound/Solitary Tinamou13.wav\n",
      "Converted Solitary Tinamou4.mp3 to wav_files/Solitary Tinamou_sound/Solitary Tinamou4.wav\n",
      "Converted Solitary Tinamou17.mp3 to wav_files/Solitary Tinamou_sound/Solitary Tinamou17.wav\n",
      "Converted Solitary Tinamou16.mp3 to wav_files/Solitary Tinamou_sound/Solitary Tinamou16.wav\n",
      "Converted Solitary Tinamou3.mp3 to wav_files/Solitary Tinamou_sound/Solitary Tinamou3.wav\n",
      "Converted Solitary Tinamou14.mp3 to wav_files/Solitary Tinamou_sound/Solitary Tinamou14.wav\n",
      "Converted Solitary Tinamou28.mp3 to wav_files/Solitary Tinamou_sound/Solitary Tinamou28.wav\n",
      "Converted Solitary Tinamou29.mp3 to wav_files/Solitary Tinamou_sound/Solitary Tinamou29.wav\n",
      "Converted Solitary Tinamou15.mp3 to wav_files/Solitary Tinamou_sound/Solitary Tinamou15.wav\n"
     ]
    },
    {
     "name": "stderr",
     "output_type": "stream",
     "text": [
      "79it [04:21,  5.13s/it]"
     ]
    },
    {
     "name": "stdout",
     "output_type": "stream",
     "text": [
      "Converted Solitary Tinamou2.mp3 to wav_files/Solitary Tinamou_sound/Solitary Tinamou2.wav\n",
      "Converted Red-throated Piping Guan9.mp3 to wav_files/Red-throated Piping Guan_sound/Red-throated Piping Guan9.wav\n",
      "Converted Red-throated Piping Guan8.mp3 to wav_files/Red-throated Piping Guan_sound/Red-throated Piping Guan8.wav\n",
      "Converted Red-throated Piping Guan11.mp3 to wav_files/Red-throated Piping Guan_sound/Red-throated Piping Guan11.wav\n",
      "Converted Red-throated Piping Guan10.mp3 to wav_files/Red-throated Piping Guan_sound/Red-throated Piping Guan10.wav\n",
      "Converted Red-throated Piping Guan3.mp3 to wav_files/Red-throated Piping Guan_sound/Red-throated Piping Guan3.wav\n",
      "Converted Red-throated Piping Guan12.mp3 to wav_files/Red-throated Piping Guan_sound/Red-throated Piping Guan12.wav\n",
      "Converted Red-throated Piping Guan13.mp3 to wav_files/Red-throated Piping Guan_sound/Red-throated Piping Guan13.wav\n",
      "Converted Red-throated Piping Guan2.mp3 to wav_files/Red-throated Piping Guan_sound/Red-throated Piping Guan2.wav\n",
      "Converted Red-throated Piping Guan6.mp3 to wav_files/Red-throated Piping Guan_sound/Red-throated Piping Guan6.wav\n",
      "Converted Red-throated Piping Guan16.mp3 to wav_files/Red-throated Piping Guan_sound/Red-throated Piping Guan16.wav\n",
      "Converted Red-throated Piping Guan7.mp3 to wav_files/Red-throated Piping Guan_sound/Red-throated Piping Guan7.wav\n",
      "Converted Red-throated Piping Guan5.mp3 to wav_files/Red-throated Piping Guan_sound/Red-throated Piping Guan5.wav\n",
      "Converted Red-throated Piping Guan14.mp3 to wav_files/Red-throated Piping Guan_sound/Red-throated Piping Guan14.wav\n",
      "Converted Red-throated Piping Guan15.mp3 to wav_files/Red-throated Piping Guan_sound/Red-throated Piping Guan15.wav\n"
     ]
    },
    {
     "name": "stderr",
     "output_type": "stream",
     "text": [
      "80it [04:24,  4.41s/it]"
     ]
    },
    {
     "name": "stdout",
     "output_type": "stream",
     "text": [
      "Converted Red-throated Piping Guan4.mp3 to wav_files/Red-throated Piping Guan_sound/Red-throated Piping Guan4.wav\n",
      "Converted Philippine Megapode18.mp3 to wav_files/Philippine Megapode_sound/Philippine Megapode18.wav\n",
      "Converted Philippine Megapode19.mp3 to wav_files/Philippine Megapode_sound/Philippine Megapode19.wav\n",
      "Converted Philippine Megapode3.mp3 to wav_files/Philippine Megapode_sound/Philippine Megapode3.wav\n",
      "Converted Philippine Megapode2.mp3 to wav_files/Philippine Megapode_sound/Philippine Megapode2.wav\n",
      "Converted Philippine Megapode6.mp3 to wav_files/Philippine Megapode_sound/Philippine Megapode6.wav\n",
      "Converted Philippine Megapode7.mp3 to wav_files/Philippine Megapode_sound/Philippine Megapode7.wav\n",
      "Converted Philippine Megapode5.mp3 to wav_files/Philippine Megapode_sound/Philippine Megapode5.wav\n",
      "Converted Philippine Megapode20.mp3 to wav_files/Philippine Megapode_sound/Philippine Megapode20.wav\n",
      "Converted Philippine Megapode4.mp3 to wav_files/Philippine Megapode_sound/Philippine Megapode4.wav\n",
      "Converted Philippine Megapode9.mp3 to wav_files/Philippine Megapode_sound/Philippine Megapode9.wav\n",
      "Converted Philippine Megapode11.mp3 to wav_files/Philippine Megapode_sound/Philippine Megapode11.wav\n",
      "Converted Philippine Megapode10.mp3 to wav_files/Philippine Megapode_sound/Philippine Megapode10.wav\n",
      "Converted Philippine Megapode8.mp3 to wav_files/Philippine Megapode_sound/Philippine Megapode8.wav\n",
      "Converted Philippine Megapode12.mp3 to wav_files/Philippine Megapode_sound/Philippine Megapode12.wav\n",
      "Converted Philippine Megapode13.mp3 to wav_files/Philippine Megapode_sound/Philippine Megapode13.wav\n",
      "Converted Philippine Megapode17.mp3 to wav_files/Philippine Megapode_sound/Philippine Megapode17.wav\n",
      "Converted Philippine Megapode16.mp3 to wav_files/Philippine Megapode_sound/Philippine Megapode16.wav\n",
      "Converted Philippine Megapode14.mp3 to wav_files/Philippine Megapode_sound/Philippine Megapode14.wav\n"
     ]
    },
    {
     "name": "stderr",
     "output_type": "stream",
     "text": [
      "81it [04:30,  4.83s/it]"
     ]
    },
    {
     "name": "stdout",
     "output_type": "stream",
     "text": [
      "Converted Philippine Megapode15.mp3 to wav_files/Philippine Megapode_sound/Philippine Megapode15.wav\n",
      "Converted Scaled Chachalaca18.mp3 to wav_files/Scaled Chachalaca_sound/Scaled Chachalaca18.wav\n",
      "Converted Scaled Chachalaca9.mp3 to wav_files/Scaled Chachalaca_sound/Scaled Chachalaca9.wav\n",
      "Converted Scaled Chachalaca8.mp3 to wav_files/Scaled Chachalaca_sound/Scaled Chachalaca8.wav\n",
      "Converted Scaled Chachalaca6.mp3 to wav_files/Scaled Chachalaca_sound/Scaled Chachalaca6.wav\n",
      "Converted Scaled Chachalaca10.mp3 to wav_files/Scaled Chachalaca_sound/Scaled Chachalaca10.wav\n",
      "Converted Scaled Chachalaca11.mp3 to wav_files/Scaled Chachalaca_sound/Scaled Chachalaca11.wav\n",
      "Converted Scaled Chachalaca7.mp3 to wav_files/Scaled Chachalaca_sound/Scaled Chachalaca7.wav\n",
      "Converted Scaled Chachalaca5.mp3 to wav_files/Scaled Chachalaca_sound/Scaled Chachalaca5.wav\n",
      "Converted Scaled Chachalaca13.mp3 to wav_files/Scaled Chachalaca_sound/Scaled Chachalaca13.wav\n",
      "Converted Scaled Chachalaca12.mp3 to wav_files/Scaled Chachalaca_sound/Scaled Chachalaca12.wav\n",
      "Converted Scaled Chachalaca4.mp3 to wav_files/Scaled Chachalaca_sound/Scaled Chachalaca4.wav\n",
      "Converted Scaled Chachalaca16.mp3 to wav_files/Scaled Chachalaca_sound/Scaled Chachalaca16.wav\n",
      "Converted Scaled Chachalaca17.mp3 to wav_files/Scaled Chachalaca_sound/Scaled Chachalaca17.wav\n",
      "Converted Scaled Chachalaca3.mp3 to wav_files/Scaled Chachalaca_sound/Scaled Chachalaca3.wav\n",
      "Converted Scaled Chachalaca15.mp3 to wav_files/Scaled Chachalaca_sound/Scaled Chachalaca15.wav\n"
     ]
    },
    {
     "name": "stderr",
     "output_type": "stream",
     "text": [
      "82it [04:32,  4.04s/it]"
     ]
    },
    {
     "name": "stdout",
     "output_type": "stream",
     "text": [
      "Converted Scaled Chachalaca14.mp3 to wav_files/Scaled Chachalaca_sound/Scaled Chachalaca14.wav\n",
      "Converted Scaled Chachalaca2.mp3 to wav_files/Scaled Chachalaca_sound/Scaled Chachalaca2.wav\n",
      "Converted Red-faced Guan2.mp3 to wav_files/Red-faced Guan_sound/Red-faced Guan2.wav\n",
      "Converted Red-faced Guan3.mp3 to wav_files/Red-faced Guan_sound/Red-faced Guan3.wav\n",
      "Converted Red-faced Guan4.mp3 to wav_files/Red-faced Guan_sound/Red-faced Guan4.wav\n",
      "Converted Red-faced Guan5.mp3 to wav_files/Red-faced Guan_sound/Red-faced Guan5.wav\n",
      "Converted Red-faced Guan7.mp3 to wav_files/Red-faced Guan_sound/Red-faced Guan7.wav\n",
      "Converted Red-faced Guan6.mp3 to wav_files/Red-faced Guan_sound/Red-faced Guan6.wav\n",
      "Converted Red-faced Guan19.mp3 to wav_files/Red-faced Guan_sound/Red-faced Guan19.wav\n",
      "Converted Red-faced Guan25.mp3 to wav_files/Red-faced Guan_sound/Red-faced Guan25.wav\n",
      "Converted Red-faced Guan24.mp3 to wav_files/Red-faced Guan_sound/Red-faced Guan24.wav\n",
      "Converted Red-faced Guan18.mp3 to wav_files/Red-faced Guan_sound/Red-faced Guan18.wav\n",
      "Converted Red-faced Guan23.mp3 to wav_files/Red-faced Guan_sound/Red-faced Guan23.wav\n",
      "Converted Red-faced Guan22.mp3 to wav_files/Red-faced Guan_sound/Red-faced Guan22.wav\n",
      "Converted Red-faced Guan20.mp3 to wav_files/Red-faced Guan_sound/Red-faced Guan20.wav\n",
      "Converted Red-faced Guan21.mp3 to wav_files/Red-faced Guan_sound/Red-faced Guan21.wav\n",
      "Converted Red-faced Guan10.mp3 to wav_files/Red-faced Guan_sound/Red-faced Guan10.wav\n",
      "Converted Red-faced Guan11.mp3 to wav_files/Red-faced Guan_sound/Red-faced Guan11.wav\n",
      "Converted Red-faced Guan13.mp3 to wav_files/Red-faced Guan_sound/Red-faced Guan13.wav\n",
      "Converted Red-faced Guan12.mp3 to wav_files/Red-faced Guan_sound/Red-faced Guan12.wav\n",
      "Converted Red-faced Guan16.mp3 to wav_files/Red-faced Guan_sound/Red-faced Guan16.wav\n",
      "Converted Red-faced Guan17.mp3 to wav_files/Red-faced Guan_sound/Red-faced Guan17.wav\n",
      "Converted Red-faced Guan15.mp3 to wav_files/Red-faced Guan_sound/Red-faced Guan15.wav\n",
      "Converted Red-faced Guan14.mp3 to wav_files/Red-faced Guan_sound/Red-faced Guan14.wav\n",
      "Converted Red-faced Guan8.mp3 to wav_files/Red-faced Guan_sound/Red-faced Guan8.wav\n"
     ]
    },
    {
     "name": "stderr",
     "output_type": "stream",
     "text": [
      "83it [04:36,  4.12s/it]"
     ]
    },
    {
     "name": "stdout",
     "output_type": "stream",
     "text": [
      "Converted Red-faced Guan9.mp3 to wav_files/Red-faced Guan_sound/Red-faced Guan9.wav\n",
      "Converted East Brazilian Chachalaca19.mp3 to wav_files/East Brazilian Chachalaca_sound/East Brazilian Chachalaca19.wav\n",
      "Converted East Brazilian Chachalaca5.mp3 to wav_files/East Brazilian Chachalaca_sound/East Brazilian Chachalaca5.wav\n",
      "Converted East Brazilian Chachalaca4.mp3 to wav_files/East Brazilian Chachalaca_sound/East Brazilian Chachalaca4.wav\n",
      "Converted East Brazilian Chachalaca18.mp3 to wav_files/East Brazilian Chachalaca_sound/East Brazilian Chachalaca18.wav\n",
      "Converted East Brazilian Chachalaca6.mp3 to wav_files/East Brazilian Chachalaca_sound/East Brazilian Chachalaca6.wav\n",
      "Converted East Brazilian Chachalaca7.mp3 to wav_files/East Brazilian Chachalaca_sound/East Brazilian Chachalaca7.wav\n",
      "Converted East Brazilian Chachalaca23.mp3 to wav_files/East Brazilian Chachalaca_sound/East Brazilian Chachalaca23.wav\n",
      "Converted East Brazilian Chachalaca3.mp3 to wav_files/East Brazilian Chachalaca_sound/East Brazilian Chachalaca3.wav\n",
      "Converted East Brazilian Chachalaca2.mp3 to wav_files/East Brazilian Chachalaca_sound/East Brazilian Chachalaca2.wav\n",
      "Converted East Brazilian Chachalaca22.mp3 to wav_files/East Brazilian Chachalaca_sound/East Brazilian Chachalaca22.wav\n",
      "Converted East Brazilian Chachalaca20.mp3 to wav_files/East Brazilian Chachalaca_sound/East Brazilian Chachalaca20.wav\n",
      "Converted East Brazilian Chachalaca21.mp3 to wav_files/East Brazilian Chachalaca_sound/East Brazilian Chachalaca21.wav\n",
      "Converted East Brazilian Chachalaca10.mp3 to wav_files/East Brazilian Chachalaca_sound/East Brazilian Chachalaca10.wav\n",
      "Converted East Brazilian Chachalaca11.mp3 to wav_files/East Brazilian Chachalaca_sound/East Brazilian Chachalaca11.wav\n",
      "Converted East Brazilian Chachalaca13.mp3 to wav_files/East Brazilian Chachalaca_sound/East Brazilian Chachalaca13.wav\n",
      "Converted East Brazilian Chachalaca12.mp3 to wav_files/East Brazilian Chachalaca_sound/East Brazilian Chachalaca12.wav\n",
      "Converted East Brazilian Chachalaca16.mp3 to wav_files/East Brazilian Chachalaca_sound/East Brazilian Chachalaca16.wav\n",
      "Converted East Brazilian Chachalaca17.mp3 to wav_files/East Brazilian Chachalaca_sound/East Brazilian Chachalaca17.wav\n",
      "Converted East Brazilian Chachalaca9.mp3 to wav_files/East Brazilian Chachalaca_sound/East Brazilian Chachalaca9.wav\n",
      "Converted East Brazilian Chachalaca15.mp3 to wav_files/East Brazilian Chachalaca_sound/East Brazilian Chachalaca15.wav\n"
     ]
    },
    {
     "name": "stderr",
     "output_type": "stream",
     "text": [
      "84it [04:39,  3.78s/it]"
     ]
    },
    {
     "name": "stdout",
     "output_type": "stream",
     "text": [
      "Converted East Brazilian Chachalaca14.mp3 to wav_files/East Brazilian Chachalaca_sound/East Brazilian Chachalaca14.wav\n",
      "Converted East Brazilian Chachalaca8.mp3 to wav_files/East Brazilian Chachalaca_sound/East Brazilian Chachalaca8.wav\n",
      "Converted Southern Cassowary19.mp3 to wav_files/Southern Cassowary_sound/Southern Cassowary19.wav\n",
      "Converted Southern Cassowary18.mp3 to wav_files/Southern Cassowary_sound/Southern Cassowary18.wav\n",
      "Converted Southern Cassowary8.mp3 to wav_files/Southern Cassowary_sound/Southern Cassowary8.wav\n",
      "Converted Southern Cassowary9.mp3 to wav_files/Southern Cassowary_sound/Southern Cassowary9.wav\n",
      "Converted Southern Cassowary20.mp3 to wav_files/Southern Cassowary_sound/Southern Cassowary20.wav\n",
      "Converted Southern Cassowary21.mp3 to wav_files/Southern Cassowary_sound/Southern Cassowary21.wav\n",
      "Converted Southern Cassowary10.mp3 to wav_files/Southern Cassowary_sound/Southern Cassowary10.wav\n",
      "Converted Southern Cassowary7.mp3 to wav_files/Southern Cassowary_sound/Southern Cassowary7.wav\n",
      "Converted Southern Cassowary6.mp3 to wav_files/Southern Cassowary_sound/Southern Cassowary6.wav\n",
      "Converted Southern Cassowary11.mp3 to wav_files/Southern Cassowary_sound/Southern Cassowary11.wav\n",
      "Converted Southern Cassowary13.mp3 to wav_files/Southern Cassowary_sound/Southern Cassowary13.wav\n",
      "Converted Southern Cassowary4.mp3 to wav_files/Southern Cassowary_sound/Southern Cassowary4.wav\n",
      "Converted Southern Cassowary5.mp3 to wav_files/Southern Cassowary_sound/Southern Cassowary5.wav\n",
      "Converted Southern Cassowary12.mp3 to wav_files/Southern Cassowary_sound/Southern Cassowary12.wav\n",
      "Converted Southern Cassowary16.mp3 to wav_files/Southern Cassowary_sound/Southern Cassowary16.wav\n",
      "Converted Southern Cassowary17.mp3 to wav_files/Southern Cassowary_sound/Southern Cassowary17.wav\n",
      "Converted Southern Cassowary15.mp3 to wav_files/Southern Cassowary_sound/Southern Cassowary15.wav\n",
      "Converted Southern Cassowary2.mp3 to wav_files/Southern Cassowary_sound/Southern Cassowary2.wav\n",
      "Converted Southern Cassowary3.mp3 to wav_files/Southern Cassowary_sound/Southern Cassowary3.wav\n"
     ]
    },
    {
     "name": "stderr",
     "output_type": "stream",
     "text": [
      "85it [04:43,  3.78s/it]"
     ]
    },
    {
     "name": "stdout",
     "output_type": "stream",
     "text": [
      "Converted Southern Cassowary14.mp3 to wav_files/Southern Cassowary_sound/Southern Cassowary14.wav\n",
      "Converted West Mexican Chachalaca9.mp3 to wav_files/West Mexican Chachalaca_sound/West Mexican Chachalaca9.wav\n",
      "Converted West Mexican Chachalaca8.mp3 to wav_files/West Mexican Chachalaca_sound/West Mexican Chachalaca8.wav\n",
      "Converted West Mexican Chachalaca25.mp3 to wav_files/West Mexican Chachalaca_sound/West Mexican Chachalaca25.wav\n",
      "Converted West Mexican Chachalaca31.mp3 to wav_files/West Mexican Chachalaca_sound/West Mexican Chachalaca31.wav\n",
      "Converted West Mexican Chachalaca19.mp3 to wav_files/West Mexican Chachalaca_sound/West Mexican Chachalaca19.wav\n",
      "Converted West Mexican Chachalaca18.mp3 to wav_files/West Mexican Chachalaca_sound/West Mexican Chachalaca18.wav\n",
      "Converted West Mexican Chachalaca30.mp3 to wav_files/West Mexican Chachalaca_sound/West Mexican Chachalaca30.wav\n",
      "Converted West Mexican Chachalaca24.mp3 to wav_files/West Mexican Chachalaca_sound/West Mexican Chachalaca24.wav\n",
      "Converted West Mexican Chachalaca26.mp3 to wav_files/West Mexican Chachalaca_sound/West Mexican Chachalaca26.wav\n",
      "Converted West Mexican Chachalaca27.mp3 to wav_files/West Mexican Chachalaca_sound/West Mexican Chachalaca27.wav\n",
      "Converted West Mexican Chachalaca23.mp3 to wav_files/West Mexican Chachalaca_sound/West Mexican Chachalaca23.wav\n",
      "Converted West Mexican Chachalaca22.mp3 to wav_files/West Mexican Chachalaca_sound/West Mexican Chachalaca22.wav\n",
      "Converted West Mexican Chachalaca20.mp3 to wav_files/West Mexican Chachalaca_sound/West Mexican Chachalaca20.wav\n",
      "Converted West Mexican Chachalaca21.mp3 to wav_files/West Mexican Chachalaca_sound/West Mexican Chachalaca21.wav\n",
      "Converted West Mexican Chachalaca10.mp3 to wav_files/West Mexican Chachalaca_sound/West Mexican Chachalaca10.wav\n",
      "Converted West Mexican Chachalaca11.mp3 to wav_files/West Mexican Chachalaca_sound/West Mexican Chachalaca11.wav\n",
      "Converted West Mexican Chachalaca13.mp3 to wav_files/West Mexican Chachalaca_sound/West Mexican Chachalaca13.wav\n",
      "Converted West Mexican Chachalaca12.mp3 to wav_files/West Mexican Chachalaca_sound/West Mexican Chachalaca12.wav\n",
      "Converted West Mexican Chachalaca16.mp3 to wav_files/West Mexican Chachalaca_sound/West Mexican Chachalaca16.wav\n",
      "Converted West Mexican Chachalaca17.mp3 to wav_files/West Mexican Chachalaca_sound/West Mexican Chachalaca17.wav\n",
      "Converted West Mexican Chachalaca29.mp3 to wav_files/West Mexican Chachalaca_sound/West Mexican Chachalaca29.wav\n",
      "Converted West Mexican Chachalaca15.mp3 to wav_files/West Mexican Chachalaca_sound/West Mexican Chachalaca15.wav\n",
      "Converted West Mexican Chachalaca14.mp3 to wav_files/West Mexican Chachalaca_sound/West Mexican Chachalaca14.wav\n",
      "Converted West Mexican Chachalaca28.mp3 to wav_files/West Mexican Chachalaca_sound/West Mexican Chachalaca28.wav\n",
      "Converted West Mexican Chachalaca3.mp3 to wav_files/West Mexican Chachalaca_sound/West Mexican Chachalaca3.wav\n",
      "Converted West Mexican Chachalaca2.mp3 to wav_files/West Mexican Chachalaca_sound/West Mexican Chachalaca2.wav\n",
      "Converted West Mexican Chachalaca5.mp3 to wav_files/West Mexican Chachalaca_sound/West Mexican Chachalaca5.wav\n",
      "Converted West Mexican Chachalaca4.mp3 to wav_files/West Mexican Chachalaca_sound/West Mexican Chachalaca4.wav\n"
     ]
    },
    {
     "name": "stderr",
     "output_type": "stream",
     "text": [
      "86it [04:50,  4.58s/it]"
     ]
    },
    {
     "name": "stdout",
     "output_type": "stream",
     "text": [
      "Converted West Mexican Chachalaca6.mp3 to wav_files/West Mexican Chachalaca_sound/West Mexican Chachalaca6.wav\n",
      "Converted West Mexican Chachalaca7.mp3 to wav_files/West Mexican Chachalaca_sound/West Mexican Chachalaca7.wav\n",
      "Converted Red-winged Tinamou8.mp3 to wav_files/Red-winged Tinamou_sound/Red-winged Tinamou8.wav\n",
      "Converted Red-winged Tinamou9.mp3 to wav_files/Red-winged Tinamou_sound/Red-winged Tinamou9.wav\n",
      "Converted Red-winged Tinamou25.mp3 to wav_files/Red-winged Tinamou_sound/Red-winged Tinamou25.wav\n",
      "Converted Red-winged Tinamou31.mp3 to wav_files/Red-winged Tinamou_sound/Red-winged Tinamou31.wav\n",
      "Converted Red-winged Tinamou19.mp3 to wav_files/Red-winged Tinamou_sound/Red-winged Tinamou19.wav\n",
      "Converted Red-winged Tinamou18.mp3 to wav_files/Red-winged Tinamou_sound/Red-winged Tinamou18.wav\n",
      "Converted Red-winged Tinamou30.mp3 to wav_files/Red-winged Tinamou_sound/Red-winged Tinamou30.wav\n",
      "Converted Red-winged Tinamou24.mp3 to wav_files/Red-winged Tinamou_sound/Red-winged Tinamou24.wav\n",
      "Converted Red-winged Tinamou26.mp3 to wav_files/Red-winged Tinamou_sound/Red-winged Tinamou26.wav\n",
      "Converted Red-winged Tinamou27.mp3 to wav_files/Red-winged Tinamou_sound/Red-winged Tinamou27.wav\n",
      "Converted Red-winged Tinamou23.mp3 to wav_files/Red-winged Tinamou_sound/Red-winged Tinamou23.wav\n",
      "Converted Red-winged Tinamou22.mp3 to wav_files/Red-winged Tinamou_sound/Red-winged Tinamou22.wav\n",
      "Converted Red-winged Tinamou20.mp3 to wav_files/Red-winged Tinamou_sound/Red-winged Tinamou20.wav\n",
      "Converted Red-winged Tinamou21.mp3 to wav_files/Red-winged Tinamou_sound/Red-winged Tinamou21.wav\n",
      "Converted Red-winged Tinamou10.mp3 to wav_files/Red-winged Tinamou_sound/Red-winged Tinamou10.wav\n",
      "Converted Red-winged Tinamou11.mp3 to wav_files/Red-winged Tinamou_sound/Red-winged Tinamou11.wav\n",
      "Converted Red-winged Tinamou13.mp3 to wav_files/Red-winged Tinamou_sound/Red-winged Tinamou13.wav\n",
      "Converted Red-winged Tinamou12.mp3 to wav_files/Red-winged Tinamou_sound/Red-winged Tinamou12.wav\n",
      "Converted Red-winged Tinamou16.mp3 to wav_files/Red-winged Tinamou_sound/Red-winged Tinamou16.wav\n",
      "Converted Red-winged Tinamou17.mp3 to wav_files/Red-winged Tinamou_sound/Red-winged Tinamou17.wav\n",
      "Converted Red-winged Tinamou29.mp3 to wav_files/Red-winged Tinamou_sound/Red-winged Tinamou29.wav\n",
      "Converted Red-winged Tinamou15.mp3 to wav_files/Red-winged Tinamou_sound/Red-winged Tinamou15.wav\n",
      "Converted Red-winged Tinamou14.mp3 to wav_files/Red-winged Tinamou_sound/Red-winged Tinamou14.wav\n",
      "Converted Red-winged Tinamou28.mp3 to wav_files/Red-winged Tinamou_sound/Red-winged Tinamou28.wav\n",
      "Converted Red-winged Tinamou2.mp3 to wav_files/Red-winged Tinamou_sound/Red-winged Tinamou2.wav\n",
      "Converted Red-winged Tinamou3.mp3 to wav_files/Red-winged Tinamou_sound/Red-winged Tinamou3.wav\n",
      "Converted Red-winged Tinamou4.mp3 to wav_files/Red-winged Tinamou_sound/Red-winged Tinamou4.wav\n",
      "Converted Red-winged Tinamou5.mp3 to wav_files/Red-winged Tinamou_sound/Red-winged Tinamou5.wav\n"
     ]
    },
    {
     "name": "stderr",
     "output_type": "stream",
     "text": [
      "87it [04:55,  4.70s/it]"
     ]
    },
    {
     "name": "stdout",
     "output_type": "stream",
     "text": [
      "Converted Red-winged Tinamou7.mp3 to wav_files/Red-winged Tinamou_sound/Red-winged Tinamou7.wav\n",
      "Converted Red-winged Tinamou6.mp3 to wav_files/Red-winged Tinamou_sound/Red-winged Tinamou6.wav\n",
      "Converted Australian Brushturkey2.mp3 to wav_files/Australian Brushturkey_sound/Australian Brushturkey2.wav\n",
      "Converted Australian Brushturkey3.mp3 to wav_files/Australian Brushturkey_sound/Australian Brushturkey3.wav\n",
      "Converted Australian Brushturkey4.mp3 to wav_files/Australian Brushturkey_sound/Australian Brushturkey4.wav\n",
      "Converted Australian Brushturkey5.mp3 to wav_files/Australian Brushturkey_sound/Australian Brushturkey5.wav\n",
      "Converted Australian Brushturkey7.mp3 to wav_files/Australian Brushturkey_sound/Australian Brushturkey7.wav\n",
      "Converted Australian Brushturkey6.mp3 to wav_files/Australian Brushturkey_sound/Australian Brushturkey6.wav\n",
      "Converted Australian Brushturkey27.mp3 to wav_files/Australian Brushturkey_sound/Australian Brushturkey27.wav\n",
      "Converted Australian Brushturkey26.mp3 to wav_files/Australian Brushturkey_sound/Australian Brushturkey26.wav\n",
      "Converted Australian Brushturkey18.mp3 to wav_files/Australian Brushturkey_sound/Australian Brushturkey18.wav\n",
      "Converted Australian Brushturkey24.mp3 to wav_files/Australian Brushturkey_sound/Australian Brushturkey24.wav\n",
      "Converted Australian Brushturkey25.mp3 to wav_files/Australian Brushturkey_sound/Australian Brushturkey25.wav\n",
      "Converted Australian Brushturkey19.mp3 to wav_files/Australian Brushturkey_sound/Australian Brushturkey19.wav\n",
      "Converted Australian Brushturkey21.mp3 to wav_files/Australian Brushturkey_sound/Australian Brushturkey21.wav\n",
      "Converted Australian Brushturkey20.mp3 to wav_files/Australian Brushturkey_sound/Australian Brushturkey20.wav\n",
      "Converted Australian Brushturkey22.mp3 to wav_files/Australian Brushturkey_sound/Australian Brushturkey22.wav\n",
      "Converted Australian Brushturkey23.mp3 to wav_files/Australian Brushturkey_sound/Australian Brushturkey23.wav\n",
      "Converted Australian Brushturkey12.mp3 to wav_files/Australian Brushturkey_sound/Australian Brushturkey12.wav\n",
      "Converted Australian Brushturkey13.mp3 to wav_files/Australian Brushturkey_sound/Australian Brushturkey13.wav\n",
      "Converted Australian Brushturkey11.mp3 to wav_files/Australian Brushturkey_sound/Australian Brushturkey11.wav\n",
      "Converted Australian Brushturkey10.mp3 to wav_files/Australian Brushturkey_sound/Australian Brushturkey10.wav\n",
      "Converted Australian Brushturkey14.mp3 to wav_files/Australian Brushturkey_sound/Australian Brushturkey14.wav\n",
      "Converted Australian Brushturkey28.mp3 to wav_files/Australian Brushturkey_sound/Australian Brushturkey28.wav\n",
      "Converted Australian Brushturkey29.mp3 to wav_files/Australian Brushturkey_sound/Australian Brushturkey29.wav\n",
      "Converted Australian Brushturkey15.mp3 to wav_files/Australian Brushturkey_sound/Australian Brushturkey15.wav\n",
      "Converted Australian Brushturkey17.mp3 to wav_files/Australian Brushturkey_sound/Australian Brushturkey17.wav\n",
      "Converted Australian Brushturkey16.mp3 to wav_files/Australian Brushturkey_sound/Australian Brushturkey16.wav\n"
     ]
    },
    {
     "name": "stderr",
     "output_type": "stream",
     "text": [
      "88it [04:58,  4.44s/it]"
     ]
    },
    {
     "name": "stdout",
     "output_type": "stream",
     "text": [
      "Converted Australian Brushturkey8.mp3 to wav_files/Australian Brushturkey_sound/Australian Brushturkey8.wav\n",
      "Converted Australian Brushturkey9.mp3 to wav_files/Australian Brushturkey_sound/Australian Brushturkey9.wav\n",
      "Converted Curve-billed Tinamou9.mp3 to wav_files/Curve-billed Tinamou_sound/Curve-billed Tinamou9.wav\n",
      "Converted Curve-billed Tinamou8.mp3 to wav_files/Curve-billed Tinamou_sound/Curve-billed Tinamou8.wav\n",
      "Converted Curve-billed Tinamou3.mp3 to wav_files/Curve-billed Tinamou_sound/Curve-billed Tinamou3.wav\n",
      "Converted Curve-billed Tinamou2.mp3 to wav_files/Curve-billed Tinamou_sound/Curve-billed Tinamou2.wav\n",
      "Converted Curve-billed Tinamou5.mp3 to wav_files/Curve-billed Tinamou_sound/Curve-billed Tinamou5.wav\n",
      "Converted Curve-billed Tinamou4.mp3 to wav_files/Curve-billed Tinamou_sound/Curve-billed Tinamou4.wav\n"
     ]
    },
    {
     "name": "stderr",
     "output_type": "stream",
     "text": [
      "89it [04:59,  3.42s/it]"
     ]
    },
    {
     "name": "stdout",
     "output_type": "stream",
     "text": [
      "Converted Curve-billed Tinamou6.mp3 to wav_files/Curve-billed Tinamou_sound/Curve-billed Tinamou6.wav\n",
      "Converted Curve-billed Tinamou7.mp3 to wav_files/Curve-billed Tinamou_sound/Curve-billed Tinamou7.wav\n",
      "Converted Dusky Megapode9.mp3 to wav_files/Dusky Megapode_sound/Dusky Megapode9.wav\n",
      "Converted Dusky Megapode8.mp3 to wav_files/Dusky Megapode_sound/Dusky Megapode8.wav\n",
      "Converted Dusky Megapode26.mp3 to wav_files/Dusky Megapode_sound/Dusky Megapode26.wav\n",
      "Converted Dusky Megapode27.mp3 to wav_files/Dusky Megapode_sound/Dusky Megapode27.wav\n",
      "Converted Dusky Megapode19.mp3 to wav_files/Dusky Megapode_sound/Dusky Megapode19.wav\n",
      "Converted Dusky Megapode31.mp3 to wav_files/Dusky Megapode_sound/Dusky Megapode31.wav\n",
      "Converted Dusky Megapode25.mp3 to wav_files/Dusky Megapode_sound/Dusky Megapode25.wav\n",
      "Converted Dusky Megapode24.mp3 to wav_files/Dusky Megapode_sound/Dusky Megapode24.wav\n",
      "Converted Dusky Megapode30.mp3 to wav_files/Dusky Megapode_sound/Dusky Megapode30.wav\n",
      "Converted Dusky Megapode18.mp3 to wav_files/Dusky Megapode_sound/Dusky Megapode18.wav\n",
      "Converted Dusky Megapode20.mp3 to wav_files/Dusky Megapode_sound/Dusky Megapode20.wav\n",
      "Converted Dusky Megapode21.mp3 to wav_files/Dusky Megapode_sound/Dusky Megapode21.wav\n",
      "Converted Dusky Megapode23.mp3 to wav_files/Dusky Megapode_sound/Dusky Megapode23.wav\n",
      "Converted Dusky Megapode22.mp3 to wav_files/Dusky Megapode_sound/Dusky Megapode22.wav\n",
      "Converted Dusky Megapode13.mp3 to wav_files/Dusky Megapode_sound/Dusky Megapode13.wav\n",
      "Converted Dusky Megapode12.mp3 to wav_files/Dusky Megapode_sound/Dusky Megapode12.wav\n",
      "Converted Dusky Megapode10.mp3 to wav_files/Dusky Megapode_sound/Dusky Megapode10.wav\n",
      "Converted Dusky Megapode11.mp3 to wav_files/Dusky Megapode_sound/Dusky Megapode11.wav\n",
      "Converted Dusky Megapode15.mp3 to wav_files/Dusky Megapode_sound/Dusky Megapode15.wav\n",
      "Converted Dusky Megapode29.mp3 to wav_files/Dusky Megapode_sound/Dusky Megapode29.wav\n",
      "Converted Dusky Megapode28.mp3 to wav_files/Dusky Megapode_sound/Dusky Megapode28.wav\n",
      "Converted Dusky Megapode14.mp3 to wav_files/Dusky Megapode_sound/Dusky Megapode14.wav\n",
      "Converted Dusky Megapode16.mp3 to wav_files/Dusky Megapode_sound/Dusky Megapode16.wav\n",
      "Converted Dusky Megapode17.mp3 to wav_files/Dusky Megapode_sound/Dusky Megapode17.wav\n",
      "Converted Dusky Megapode6.mp3 to wav_files/Dusky Megapode_sound/Dusky Megapode6.wav\n",
      "Converted Dusky Megapode7.mp3 to wav_files/Dusky Megapode_sound/Dusky Megapode7.wav\n",
      "Converted Dusky Megapode5.mp3 to wav_files/Dusky Megapode_sound/Dusky Megapode5.wav\n",
      "Converted Dusky Megapode4.mp3 to wav_files/Dusky Megapode_sound/Dusky Megapode4.wav\n",
      "Converted Dusky Megapode3.mp3 to wav_files/Dusky Megapode_sound/Dusky Megapode3.wav\n"
     ]
    },
    {
     "name": "stderr",
     "output_type": "stream",
     "text": [
      "90it [05:05,  3.98s/it]"
     ]
    },
    {
     "name": "stdout",
     "output_type": "stream",
     "text": [
      "Converted Dusky Megapode2.mp3 to wav_files/Dusky Megapode_sound/Dusky Megapode2.wav\n",
      "Converted White-bellied Chachalaca3.mp3 to wav_files/White-bellied Chachalaca_sound/White-bellied Chachalaca3.wav\n",
      "Converted White-bellied Chachalaca2.mp3 to wav_files/White-bellied Chachalaca_sound/White-bellied Chachalaca2.wav\n",
      "Converted White-bellied Chachalaca6.mp3 to wav_files/White-bellied Chachalaca_sound/White-bellied Chachalaca6.wav\n",
      "Converted White-bellied Chachalaca7.mp3 to wav_files/White-bellied Chachalaca_sound/White-bellied Chachalaca7.wav\n",
      "Converted White-bellied Chachalaca5.mp3 to wav_files/White-bellied Chachalaca_sound/White-bellied Chachalaca5.wav\n",
      "Converted White-bellied Chachalaca4.mp3 to wav_files/White-bellied Chachalaca_sound/White-bellied Chachalaca4.wav\n",
      "Converted White-bellied Chachalaca19.mp3 to wav_files/White-bellied Chachalaca_sound/White-bellied Chachalaca19.wav\n",
      "Converted White-bellied Chachalaca18.mp3 to wav_files/White-bellied Chachalaca_sound/White-bellied Chachalaca18.wav\n",
      "Converted White-bellied Chachalaca20.mp3 to wav_files/White-bellied Chachalaca_sound/White-bellied Chachalaca20.wav\n",
      "Converted White-bellied Chachalaca13.mp3 to wav_files/White-bellied Chachalaca_sound/White-bellied Chachalaca13.wav\n",
      "Converted White-bellied Chachalaca12.mp3 to wav_files/White-bellied Chachalaca_sound/White-bellied Chachalaca12.wav\n",
      "Converted White-bellied Chachalaca10.mp3 to wav_files/White-bellied Chachalaca_sound/White-bellied Chachalaca10.wav\n",
      "Converted White-bellied Chachalaca11.mp3 to wav_files/White-bellied Chachalaca_sound/White-bellied Chachalaca11.wav\n",
      "Converted White-bellied Chachalaca15.mp3 to wav_files/White-bellied Chachalaca_sound/White-bellied Chachalaca15.wav\n",
      "Converted White-bellied Chachalaca14.mp3 to wav_files/White-bellied Chachalaca_sound/White-bellied Chachalaca14.wav\n",
      "Converted White-bellied Chachalaca16.mp3 to wav_files/White-bellied Chachalaca_sound/White-bellied Chachalaca16.wav\n",
      "Converted White-bellied Chachalaca17.mp3 to wav_files/White-bellied Chachalaca_sound/White-bellied Chachalaca17.wav\n",
      "Converted White-bellied Chachalaca9.mp3 to wav_files/White-bellied Chachalaca_sound/White-bellied Chachalaca9.wav\n"
     ]
    },
    {
     "name": "stderr",
     "output_type": "stream",
     "text": [
      "91it [05:08,  3.84s/it]"
     ]
    },
    {
     "name": "stdout",
     "output_type": "stream",
     "text": [
      "Converted White-bellied Chachalaca8.mp3 to wav_files/White-bellied Chachalaca_sound/White-bellied Chachalaca8.wav\n",
      "Converted Barred Tinamou4.mp3 to wav_files/Barred Tinamou_sound/Barred Tinamou4.wav\n"
     ]
    },
    {
     "name": "stderr",
     "output_type": "stream",
     "text": [
      "92it [05:09,  2.82s/it]"
     ]
    },
    {
     "name": "stdout",
     "output_type": "stream",
     "text": [
      "Converted Barred Tinamou2.mp3 to wav_files/Barred Tinamou_sound/Barred Tinamou2.wav\n",
      "Converted Barred Tinamou3.mp3 to wav_files/Barred Tinamou_sound/Barred Tinamou3.wav\n",
      "Converted Dwarf Tinamou5.mp3 to wav_files/Dwarf Tinamou_sound/Dwarf Tinamou5.wav\n",
      "Converted Dwarf Tinamou22.mp3 to wav_files/Dwarf Tinamou_sound/Dwarf Tinamou22.wav\n",
      "Converted Dwarf Tinamou23.mp3 to wav_files/Dwarf Tinamou_sound/Dwarf Tinamou23.wav\n",
      "Converted Dwarf Tinamou4.mp3 to wav_files/Dwarf Tinamou_sound/Dwarf Tinamou4.wav\n",
      "Converted Dwarf Tinamou6.mp3 to wav_files/Dwarf Tinamou_sound/Dwarf Tinamou6.wav\n",
      "Converted Dwarf Tinamou21.mp3 to wav_files/Dwarf Tinamou_sound/Dwarf Tinamou21.wav\n",
      "Converted Dwarf Tinamou20.mp3 to wav_files/Dwarf Tinamou_sound/Dwarf Tinamou20.wav\n",
      "Converted Dwarf Tinamou7.mp3 to wav_files/Dwarf Tinamou_sound/Dwarf Tinamou7.wav\n",
      "Converted Dwarf Tinamou3.mp3 to wav_files/Dwarf Tinamou_sound/Dwarf Tinamou3.wav\n",
      "Converted Dwarf Tinamou30.mp3 to wav_files/Dwarf Tinamou_sound/Dwarf Tinamou30.wav\n",
      "Converted Dwarf Tinamou24.mp3 to wav_files/Dwarf Tinamou_sound/Dwarf Tinamou24.wav\n",
      "Converted Dwarf Tinamou18.mp3 to wav_files/Dwarf Tinamou_sound/Dwarf Tinamou18.wav\n",
      "Converted Dwarf Tinamou19.mp3 to wav_files/Dwarf Tinamou_sound/Dwarf Tinamou19.wav\n",
      "Converted Dwarf Tinamou25.mp3 to wav_files/Dwarf Tinamou_sound/Dwarf Tinamou25.wav\n",
      "Converted Dwarf Tinamou31.mp3 to wav_files/Dwarf Tinamou_sound/Dwarf Tinamou31.wav\n",
      "Converted Dwarf Tinamou2.mp3 to wav_files/Dwarf Tinamou_sound/Dwarf Tinamou2.wav\n",
      "Converted Dwarf Tinamou27.mp3 to wav_files/Dwarf Tinamou_sound/Dwarf Tinamou27.wav\n",
      "Converted Dwarf Tinamou26.mp3 to wav_files/Dwarf Tinamou_sound/Dwarf Tinamou26.wav\n",
      "Converted Dwarf Tinamou17.mp3 to wav_files/Dwarf Tinamou_sound/Dwarf Tinamou17.wav\n",
      "Converted Dwarf Tinamou16.mp3 to wav_files/Dwarf Tinamou_sound/Dwarf Tinamou16.wav\n",
      "Converted Dwarf Tinamou28.mp3 to wav_files/Dwarf Tinamou_sound/Dwarf Tinamou28.wav\n",
      "Converted Dwarf Tinamou14.mp3 to wav_files/Dwarf Tinamou_sound/Dwarf Tinamou14.wav\n",
      "Converted Dwarf Tinamou15.mp3 to wav_files/Dwarf Tinamou_sound/Dwarf Tinamou15.wav\n",
      "Converted Dwarf Tinamou29.mp3 to wav_files/Dwarf Tinamou_sound/Dwarf Tinamou29.wav\n",
      "Converted Dwarf Tinamou11.mp3 to wav_files/Dwarf Tinamou_sound/Dwarf Tinamou11.wav\n",
      "Converted Dwarf Tinamou10.mp3 to wav_files/Dwarf Tinamou_sound/Dwarf Tinamou10.wav\n",
      "Converted Dwarf Tinamou9.mp3 to wav_files/Dwarf Tinamou_sound/Dwarf Tinamou9.wav\n",
      "Converted Dwarf Tinamou12.mp3 to wav_files/Dwarf Tinamou_sound/Dwarf Tinamou12.wav\n",
      "Converted Dwarf Tinamou13.mp3 to wav_files/Dwarf Tinamou_sound/Dwarf Tinamou13.wav\n"
     ]
    },
    {
     "name": "stderr",
     "output_type": "stream",
     "text": [
      "93it [05:13,  3.32s/it]"
     ]
    },
    {
     "name": "stdout",
     "output_type": "stream",
     "text": [
      "Converted Dwarf Tinamou8.mp3 to wav_files/Dwarf Tinamou_sound/Dwarf Tinamou8.wav\n",
      "Converted Andean Guan23.mp3 to wav_files/Andean Guan_sound/Andean Guan23.wav\n",
      "Converted Andean Guan22.mp3 to wav_files/Andean Guan_sound/Andean Guan22.wav\n",
      "Converted Andean Guan20.mp3 to wav_files/Andean Guan_sound/Andean Guan20.wav\n",
      "Converted Andean Guan21.mp3 to wav_files/Andean Guan_sound/Andean Guan21.wav\n",
      "Converted Andean Guan19.mp3 to wav_files/Andean Guan_sound/Andean Guan19.wav\n",
      "Converted Andean Guan25.mp3 to wav_files/Andean Guan_sound/Andean Guan25.wav\n",
      "Converted Andean Guan31.mp3 to wav_files/Andean Guan_sound/Andean Guan31.wav\n",
      "Converted Andean Guan8.mp3 to wav_files/Andean Guan_sound/Andean Guan8.wav\n",
      "Converted Andean Guan9.mp3 to wav_files/Andean Guan_sound/Andean Guan9.wav\n",
      "Converted Andean Guan30.mp3 to wav_files/Andean Guan_sound/Andean Guan30.wav\n",
      "Converted Andean Guan24.mp3 to wav_files/Andean Guan_sound/Andean Guan24.wav\n",
      "Converted Andean Guan18.mp3 to wav_files/Andean Guan_sound/Andean Guan18.wav\n",
      "Converted Andean Guan26.mp3 to wav_files/Andean Guan_sound/Andean Guan26.wav\n",
      "Converted Andean Guan27.mp3 to wav_files/Andean Guan_sound/Andean Guan27.wav\n",
      "Converted Andean Guan16.mp3 to wav_files/Andean Guan_sound/Andean Guan16.wav\n",
      "Converted Andean Guan7.mp3 to wav_files/Andean Guan_sound/Andean Guan7.wav\n",
      "Converted Andean Guan6.mp3 to wav_files/Andean Guan_sound/Andean Guan6.wav\n",
      "Converted Andean Guan17.mp3 to wav_files/Andean Guan_sound/Andean Guan17.wav\n",
      "Converted Andean Guan15.mp3 to wav_files/Andean Guan_sound/Andean Guan15.wav\n",
      "Converted Andean Guan29.mp3 to wav_files/Andean Guan_sound/Andean Guan29.wav\n",
      "Converted Andean Guan4.mp3 to wav_files/Andean Guan_sound/Andean Guan4.wav\n",
      "Converted Andean Guan5.mp3 to wav_files/Andean Guan_sound/Andean Guan5.wav\n",
      "Converted Andean Guan28.mp3 to wav_files/Andean Guan_sound/Andean Guan28.wav\n",
      "Converted Andean Guan14.mp3 to wav_files/Andean Guan_sound/Andean Guan14.wav\n",
      "Converted Andean Guan10.mp3 to wav_files/Andean Guan_sound/Andean Guan10.wav\n",
      "Converted Andean Guan11.mp3 to wav_files/Andean Guan_sound/Andean Guan11.wav\n",
      "Converted Andean Guan13.mp3 to wav_files/Andean Guan_sound/Andean Guan13.wav\n",
      "Converted Andean Guan2.mp3 to wav_files/Andean Guan_sound/Andean Guan2.wav\n"
     ]
    },
    {
     "name": "stderr",
     "output_type": "stream",
     "text": [
      "94it [05:18,  3.80s/it]"
     ]
    },
    {
     "name": "stdout",
     "output_type": "stream",
     "text": [
      "Converted Andean Guan3.mp3 to wav_files/Andean Guan_sound/Andean Guan3.wav\n",
      "Converted Andean Guan12.mp3 to wav_files/Andean Guan_sound/Andean Guan12.wav\n"
     ]
    },
    {
     "name": "stderr",
     "output_type": "stream",
     "text": [
      "95it [05:18,  2.70s/it]"
     ]
    },
    {
     "name": "stdout",
     "output_type": "stream",
     "text": [
      "Converted Patagonian Tinamou2.mp3 to wav_files/Patagonian Tinamou_sound/Patagonian Tinamou2.wav\n",
      "Converted Bearded Guan21.mp3 to wav_files/Bearded Guan_sound/Bearded Guan21.wav\n",
      "Converted Bearded Guan20.mp3 to wav_files/Bearded Guan_sound/Bearded Guan20.wav\n",
      "Converted Bearded Guan22.mp3 to wav_files/Bearded Guan_sound/Bearded Guan22.wav\n",
      "Converted Bearded Guan23.mp3 to wav_files/Bearded Guan_sound/Bearded Guan23.wav\n",
      "Converted Bearded Guan27.mp3 to wav_files/Bearded Guan_sound/Bearded Guan27.wav\n",
      "Converted Bearded Guan26.mp3 to wav_files/Bearded Guan_sound/Bearded Guan26.wav\n",
      "Converted Bearded Guan24.mp3 to wav_files/Bearded Guan_sound/Bearded Guan24.wav\n",
      "Converted Bearded Guan18.mp3 to wav_files/Bearded Guan_sound/Bearded Guan18.wav\n",
      "Converted Bearded Guan19.mp3 to wav_files/Bearded Guan_sound/Bearded Guan19.wav\n",
      "Converted Bearded Guan25.mp3 to wav_files/Bearded Guan_sound/Bearded Guan25.wav\n",
      "Converted Bearded Guan5.mp3 to wav_files/Bearded Guan_sound/Bearded Guan5.wav\n",
      "Converted Bearded Guan4.mp3 to wav_files/Bearded Guan_sound/Bearded Guan4.wav\n",
      "Converted Bearded Guan6.mp3 to wav_files/Bearded Guan_sound/Bearded Guan6.wav\n",
      "Converted Bearded Guan7.mp3 to wav_files/Bearded Guan_sound/Bearded Guan7.wav\n",
      "Converted Bearded Guan3.mp3 to wav_files/Bearded Guan_sound/Bearded Guan3.wav\n",
      "Converted Bearded Guan2.mp3 to wav_files/Bearded Guan_sound/Bearded Guan2.wav\n",
      "Converted Bearded Guan9.mp3 to wav_files/Bearded Guan_sound/Bearded Guan9.wav\n",
      "Converted Bearded Guan8.mp3 to wav_files/Bearded Guan_sound/Bearded Guan8.wav\n",
      "Converted Bearded Guan28.mp3 to wav_files/Bearded Guan_sound/Bearded Guan28.wav\n",
      "Converted Bearded Guan14.mp3 to wav_files/Bearded Guan_sound/Bearded Guan14.wav\n",
      "Converted Bearded Guan15.mp3 to wav_files/Bearded Guan_sound/Bearded Guan15.wav\n",
      "Converted Bearded Guan17.mp3 to wav_files/Bearded Guan_sound/Bearded Guan17.wav\n",
      "Converted Bearded Guan16.mp3 to wav_files/Bearded Guan_sound/Bearded Guan16.wav\n",
      "Converted Bearded Guan12.mp3 to wav_files/Bearded Guan_sound/Bearded Guan12.wav\n",
      "Converted Bearded Guan13.mp3 to wav_files/Bearded Guan_sound/Bearded Guan13.wav\n"
     ]
    },
    {
     "name": "stderr",
     "output_type": "stream",
     "text": [
      "96it [05:23,  3.22s/it]"
     ]
    },
    {
     "name": "stdout",
     "output_type": "stream",
     "text": [
      "Converted Bearded Guan11.mp3 to wav_files/Bearded Guan_sound/Bearded Guan11.wav\n",
      "Converted Bearded Guan10.mp3 to wav_files/Bearded Guan_sound/Bearded Guan10.wav\n",
      "Converted Pale-browed Tinamou21.mp3 to wav_files/Pale-browed Tinamou_sound/Pale-browed Tinamou21.wav\n",
      "Converted Pale-browed Tinamou20.mp3 to wav_files/Pale-browed Tinamou_sound/Pale-browed Tinamou20.wav\n",
      "Converted Pale-browed Tinamou22.mp3 to wav_files/Pale-browed Tinamou_sound/Pale-browed Tinamou22.wav\n",
      "Converted Pale-browed Tinamou23.mp3 to wav_files/Pale-browed Tinamou_sound/Pale-browed Tinamou23.wav\n",
      "Converted Pale-browed Tinamou27.mp3 to wav_files/Pale-browed Tinamou_sound/Pale-browed Tinamou27.wav\n",
      "Converted Pale-browed Tinamou26.mp3 to wav_files/Pale-browed Tinamou_sound/Pale-browed Tinamou26.wav\n",
      "Converted Pale-browed Tinamou18.mp3 to wav_files/Pale-browed Tinamou_sound/Pale-browed Tinamou18.wav\n",
      "Converted Pale-browed Tinamou24.mp3 to wav_files/Pale-browed Tinamou_sound/Pale-browed Tinamou24.wav\n",
      "Converted Pale-browed Tinamou30.mp3 to wav_files/Pale-browed Tinamou_sound/Pale-browed Tinamou30.wav\n",
      "Converted Pale-browed Tinamou31.mp3 to wav_files/Pale-browed Tinamou_sound/Pale-browed Tinamou31.wav\n",
      "Converted Pale-browed Tinamou25.mp3 to wav_files/Pale-browed Tinamou_sound/Pale-browed Tinamou25.wav\n",
      "Converted Pale-browed Tinamou19.mp3 to wav_files/Pale-browed Tinamou_sound/Pale-browed Tinamou19.wav\n",
      "Converted Pale-browed Tinamou3.mp3 to wav_files/Pale-browed Tinamou_sound/Pale-browed Tinamou3.wav\n",
      "Converted Pale-browed Tinamou2.mp3 to wav_files/Pale-browed Tinamou_sound/Pale-browed Tinamou2.wav\n",
      "Converted Pale-browed Tinamou6.mp3 to wav_files/Pale-browed Tinamou_sound/Pale-browed Tinamou6.wav\n",
      "Converted Pale-browed Tinamou7.mp3 to wav_files/Pale-browed Tinamou_sound/Pale-browed Tinamou7.wav\n",
      "Converted Pale-browed Tinamou5.mp3 to wav_files/Pale-browed Tinamou_sound/Pale-browed Tinamou5.wav\n",
      "Converted Pale-browed Tinamou4.mp3 to wav_files/Pale-browed Tinamou_sound/Pale-browed Tinamou4.wav\n",
      "Converted Pale-browed Tinamou9.mp3 to wav_files/Pale-browed Tinamou_sound/Pale-browed Tinamou9.wav\n",
      "Converted Pale-browed Tinamou8.mp3 to wav_files/Pale-browed Tinamou_sound/Pale-browed Tinamou8.wav\n",
      "Converted Pale-browed Tinamou14.mp3 to wav_files/Pale-browed Tinamou_sound/Pale-browed Tinamou14.wav\n",
      "Converted Pale-browed Tinamou28.mp3 to wav_files/Pale-browed Tinamou_sound/Pale-browed Tinamou28.wav\n",
      "Converted Pale-browed Tinamou29.mp3 to wav_files/Pale-browed Tinamou_sound/Pale-browed Tinamou29.wav\n",
      "Converted Pale-browed Tinamou15.mp3 to wav_files/Pale-browed Tinamou_sound/Pale-browed Tinamou15.wav\n",
      "Converted Pale-browed Tinamou17.mp3 to wav_files/Pale-browed Tinamou_sound/Pale-browed Tinamou17.wav\n",
      "Converted Pale-browed Tinamou16.mp3 to wav_files/Pale-browed Tinamou_sound/Pale-browed Tinamou16.wav\n",
      "Converted Pale-browed Tinamou12.mp3 to wav_files/Pale-browed Tinamou_sound/Pale-browed Tinamou12.wav\n",
      "Converted Pale-browed Tinamou13.mp3 to wav_files/Pale-browed Tinamou_sound/Pale-browed Tinamou13.wav\n",
      "Converted Pale-browed Tinamou11.mp3 to wav_files/Pale-browed Tinamou_sound/Pale-browed Tinamou11.wav\n"
     ]
    },
    {
     "name": "stderr",
     "output_type": "stream",
     "text": [
      "97it [05:27,  3.49s/it]"
     ]
    },
    {
     "name": "stdout",
     "output_type": "stream",
     "text": [
      "Converted Pale-browed Tinamou10.mp3 to wav_files/Pale-browed Tinamou_sound/Pale-browed Tinamou10.wav\n",
      "Converted Chilean Tinamou2.mp3 to wav_files/Chilean Tinamou_sound/Chilean Tinamou2.wav\n",
      "Converted Chilean Tinamou3.mp3 to wav_files/Chilean Tinamou_sound/Chilean Tinamou3.wav\n",
      "Converted Chilean Tinamou4.mp3 to wav_files/Chilean Tinamou_sound/Chilean Tinamou4.wav\n",
      "Converted Chilean Tinamou5.mp3 to wav_files/Chilean Tinamou_sound/Chilean Tinamou5.wav\n",
      "Converted Chilean Tinamou7.mp3 to wav_files/Chilean Tinamou_sound/Chilean Tinamou7.wav\n",
      "Converted Chilean Tinamou6.mp3 to wav_files/Chilean Tinamou_sound/Chilean Tinamou6.wav\n",
      "Converted Chilean Tinamou8.mp3 to wav_files/Chilean Tinamou_sound/Chilean Tinamou8.wav\n",
      "Converted Chilean Tinamou9.mp3 to wav_files/Chilean Tinamou_sound/Chilean Tinamou9.wav\n",
      "Converted Chilean Tinamou12.mp3 to wav_files/Chilean Tinamou_sound/Chilean Tinamou12.wav\n",
      "Converted Chilean Tinamou13.mp3 to wav_files/Chilean Tinamou_sound/Chilean Tinamou13.wav\n"
     ]
    },
    {
     "name": "stderr",
     "output_type": "stream",
     "text": [
      "98it [05:28,  2.92s/it]"
     ]
    },
    {
     "name": "stdout",
     "output_type": "stream",
     "text": [
      "Converted Chilean Tinamou11.mp3 to wav_files/Chilean Tinamou_sound/Chilean Tinamou11.wav\n",
      "Converted Chilean Tinamou10.mp3 to wav_files/Chilean Tinamou_sound/Chilean Tinamou10.wav\n",
      "Converted Hooded Tinamou9.mp3 to wav_files/Hooded Tinamou_sound/Hooded Tinamou9.wav\n",
      "Converted Hooded Tinamou8.mp3 to wav_files/Hooded Tinamou_sound/Hooded Tinamou8.wav\n",
      "Converted Hooded Tinamou6.mp3 to wav_files/Hooded Tinamou_sound/Hooded Tinamou6.wav\n",
      "Converted Hooded Tinamou7.mp3 to wav_files/Hooded Tinamou_sound/Hooded Tinamou7.wav\n",
      "Converted Hooded Tinamou5.mp3 to wav_files/Hooded Tinamou_sound/Hooded Tinamou5.wav\n",
      "Converted Hooded Tinamou4.mp3 to wav_files/Hooded Tinamou_sound/Hooded Tinamou4.wav\n",
      "Converted Hooded Tinamou3.mp3 to wav_files/Hooded Tinamou_sound/Hooded Tinamou3.wav\n",
      "Converted Hooded Tinamou2.mp3 to wav_files/Hooded Tinamou_sound/Hooded Tinamou2.wav\n",
      "Converted Hooded Tinamou14.mp3 to wav_files/Hooded Tinamou_sound/Hooded Tinamou14.wav\n",
      "Converted Hooded Tinamou15.mp3 to wav_files/Hooded Tinamou_sound/Hooded Tinamou15.wav\n",
      "Converted Hooded Tinamou16.mp3 to wav_files/Hooded Tinamou_sound/Hooded Tinamou16.wav\n",
      "Converted Hooded Tinamou12.mp3 to wav_files/Hooded Tinamou_sound/Hooded Tinamou12.wav\n",
      "Converted Hooded Tinamou13.mp3 to wav_files/Hooded Tinamou_sound/Hooded Tinamou13.wav\n",
      "Converted Hooded Tinamou11.mp3 to wav_files/Hooded Tinamou_sound/Hooded Tinamou11.wav\n"
     ]
    },
    {
     "name": "stderr",
     "output_type": "stream",
     "text": [
      "99it [05:31,  2.70s/it]"
     ]
    },
    {
     "name": "stdout",
     "output_type": "stream",
     "text": [
      "Converted Hooded Tinamou10.mp3 to wav_files/Hooded Tinamou_sound/Hooded Tinamou10.wav\n",
      "Converted Sula Megapode6.mp3 to wav_files/Sula Megapode_sound/Sula Megapode6.wav\n",
      "Converted Sula Megapode4.mp3 to wav_files/Sula Megapode_sound/Sula Megapode4.wav\n",
      "Converted Sula Megapode5.mp3 to wav_files/Sula Megapode_sound/Sula Megapode5.wav\n"
     ]
    },
    {
     "name": "stderr",
     "output_type": "stream",
     "text": [
      "100it [05:31,  2.14s/it]"
     ]
    },
    {
     "name": "stdout",
     "output_type": "stream",
     "text": [
      "Converted Sula Megapode2.mp3 to wav_files/Sula Megapode_sound/Sula Megapode2.wav\n",
      "Converted Sula Megapode3.mp3 to wav_files/Sula Megapode_sound/Sula Megapode3.wav\n",
      "Converted Little Spotted Kiwi3.mp3 to wav_files/Little Spotted Kiwi_sound/Little Spotted Kiwi3.wav\n",
      "Converted Little Spotted Kiwi2.mp3 to wav_files/Little Spotted Kiwi_sound/Little Spotted Kiwi2.wav\n",
      "Converted Little Spotted Kiwi5.mp3 to wav_files/Little Spotted Kiwi_sound/Little Spotted Kiwi5.wav\n",
      "Converted Little Spotted Kiwi4.mp3 to wav_files/Little Spotted Kiwi_sound/Little Spotted Kiwi4.wav\n"
     ]
    },
    {
     "name": "stderr",
     "output_type": "stream",
     "text": [
      "101it [05:32,  1.74s/it]"
     ]
    },
    {
     "name": "stdout",
     "output_type": "stream",
     "text": [
      "Converted Little Spotted Kiwi6.mp3 to wav_files/Little Spotted Kiwi_sound/Little Spotted Kiwi6.wav\n",
      "Converted Little Spotted Kiwi7.mp3 to wav_files/Little Spotted Kiwi_sound/Little Spotted Kiwi7.wav\n",
      "Converted Berlepschs Tinamou4.mp3 to wav_files/Berlepschs Tinamou_sound/Berlepschs Tinamou4.wav\n",
      "Converted Berlepschs Tinamou5.mp3 to wav_files/Berlepschs Tinamou_sound/Berlepschs Tinamou5.wav\n",
      "Converted Berlepschs Tinamou7.mp3 to wav_files/Berlepschs Tinamou_sound/Berlepschs Tinamou7.wav\n",
      "Converted Berlepschs Tinamou6.mp3 to wav_files/Berlepschs Tinamou_sound/Berlepschs Tinamou6.wav\n",
      "Converted Berlepschs Tinamou2.mp3 to wav_files/Berlepschs Tinamou_sound/Berlepschs Tinamou2.wav\n",
      "Converted Berlepschs Tinamou3.mp3 to wav_files/Berlepschs Tinamou_sound/Berlepschs Tinamou3.wav\n",
      "Converted Berlepschs Tinamou8.mp3 to wav_files/Berlepschs Tinamou_sound/Berlepschs Tinamou8.wav\n",
      "Converted Berlepschs Tinamou9.mp3 to wav_files/Berlepschs Tinamou_sound/Berlepschs Tinamou9.wav\n",
      "Converted Berlepschs Tinamou14.mp3 to wav_files/Berlepschs Tinamou_sound/Berlepschs Tinamou14.wav\n",
      "Converted Berlepschs Tinamou12.mp3 to wav_files/Berlepschs Tinamou_sound/Berlepschs Tinamou12.wav\n",
      "Converted Berlepschs Tinamou13.mp3 to wav_files/Berlepschs Tinamou_sound/Berlepschs Tinamou13.wav\n",
      "Converted Berlepschs Tinamou11.mp3 to wav_files/Berlepschs Tinamou_sound/Berlepschs Tinamou11.wav\n"
     ]
    },
    {
     "name": "stderr",
     "output_type": "stream",
     "text": [
      "102it [05:34,  1.71s/it]"
     ]
    },
    {
     "name": "stdout",
     "output_type": "stream",
     "text": [
      "Converted Berlepschs Tinamou10.mp3 to wav_files/Berlepschs Tinamou_sound/Berlepschs Tinamou10.wav\n",
      "Converted Black-fronted Piping Guan9.mp3 to wav_files/Black-fronted Piping Guan_sound/Black-fronted Piping Guan9.wav\n",
      "Converted Black-fronted Piping Guan8.mp3 to wav_files/Black-fronted Piping Guan_sound/Black-fronted Piping Guan8.wav\n",
      "Converted Black-fronted Piping Guan3.mp3 to wav_files/Black-fronted Piping Guan_sound/Black-fronted Piping Guan3.wav\n",
      "Converted Black-fronted Piping Guan2.mp3 to wav_files/Black-fronted Piping Guan_sound/Black-fronted Piping Guan2.wav\n",
      "Converted Black-fronted Piping Guan13.mp3 to wav_files/Black-fronted Piping Guan_sound/Black-fronted Piping Guan13.wav\n",
      "Converted Black-fronted Piping Guan5.mp3 to wav_files/Black-fronted Piping Guan_sound/Black-fronted Piping Guan5.wav\n",
      "Converted Black-fronted Piping Guan4.mp3 to wav_files/Black-fronted Piping Guan_sound/Black-fronted Piping Guan4.wav\n",
      "Converted Black-fronted Piping Guan12.mp3 to wav_files/Black-fronted Piping Guan_sound/Black-fronted Piping Guan12.wav\n",
      "Converted Black-fronted Piping Guan10.mp3 to wav_files/Black-fronted Piping Guan_sound/Black-fronted Piping Guan10.wav\n",
      "Converted Black-fronted Piping Guan6.mp3 to wav_files/Black-fronted Piping Guan_sound/Black-fronted Piping Guan6.wav\n"
     ]
    },
    {
     "name": "stderr",
     "output_type": "stream",
     "text": [
      "103it [05:36,  1.78s/it]"
     ]
    },
    {
     "name": "stdout",
     "output_type": "stream",
     "text": [
      "Converted Black-fronted Piping Guan7.mp3 to wav_files/Black-fronted Piping Guan_sound/Black-fronted Piping Guan7.wav\n",
      "Converted Black-fronted Piping Guan11.mp3 to wav_files/Black-fronted Piping Guan_sound/Black-fronted Piping Guan11.wav\n",
      "Converted White-crested Guan6.mp3 to wav_files/White-crested Guan_sound/White-crested Guan6.wav\n",
      "Converted White-crested Guan7.mp3 to wav_files/White-crested Guan_sound/White-crested Guan7.wav\n",
      "Converted White-crested Guan5.mp3 to wav_files/White-crested Guan_sound/White-crested Guan5.wav\n",
      "Converted White-crested Guan4.mp3 to wav_files/White-crested Guan_sound/White-crested Guan4.wav\n",
      "Converted White-crested Guan3.mp3 to wav_files/White-crested Guan_sound/White-crested Guan3.wav\n",
      "Converted White-crested Guan2.mp3 to wav_files/White-crested Guan_sound/White-crested Guan2.wav\n",
      "Converted White-crested Guan9.mp3 to wav_files/White-crested Guan_sound/White-crested Guan9.wav\n",
      "Converted White-crested Guan13.mp3 to wav_files/White-crested Guan_sound/White-crested Guan13.wav\n",
      "Converted White-crested Guan12.mp3 to wav_files/White-crested Guan_sound/White-crested Guan12.wav\n",
      "Converted White-crested Guan8.mp3 to wav_files/White-crested Guan_sound/White-crested Guan8.wav\n"
     ]
    },
    {
     "name": "stderr",
     "output_type": "stream",
     "text": [
      "104it [05:37,  1.75s/it]"
     ]
    },
    {
     "name": "stdout",
     "output_type": "stream",
     "text": [
      "Converted White-crested Guan10.mp3 to wav_files/White-crested Guan_sound/White-crested Guan10.wav\n",
      "Converted White-crested Guan11.mp3 to wav_files/White-crested Guan_sound/White-crested Guan11.wav\n",
      "Converted Tepui Tinamou2.mp3 to wav_files/Tepui Tinamou_sound/Tepui Tinamou2.wav\n"
     ]
    },
    {
     "name": "stderr",
     "output_type": "stream",
     "text": [
      "105it [05:38,  1.38s/it]"
     ]
    },
    {
     "name": "stdout",
     "output_type": "stream",
     "text": [
      "Converted Tepui Tinamou3.mp3 to wav_files/Tepui Tinamou_sound/Tepui Tinamou3.wav\n",
      "Converted Tawny-breasted Tinamou20.mp3 to wav_files/Tawny-breasted Tinamou_sound/Tawny-breasted Tinamou20.wav\n",
      "Converted Tawny-breasted Tinamou8.mp3 to wav_files/Tawny-breasted Tinamou_sound/Tawny-breasted Tinamou8.wav\n",
      "Converted Tawny-breasted Tinamou9.mp3 to wav_files/Tawny-breasted Tinamou_sound/Tawny-breasted Tinamou9.wav\n",
      "Converted Tawny-breasted Tinamou21.mp3 to wav_files/Tawny-breasted Tinamou_sound/Tawny-breasted Tinamou21.wav\n",
      "Converted Tawny-breasted Tinamou23.mp3 to wav_files/Tawny-breasted Tinamou_sound/Tawny-breasted Tinamou23.wav\n",
      "Converted Tawny-breasted Tinamou22.mp3 to wav_files/Tawny-breasted Tinamou_sound/Tawny-breasted Tinamou22.wav\n",
      "Converted Tawny-breasted Tinamou26.mp3 to wav_files/Tawny-breasted Tinamou_sound/Tawny-breasted Tinamou26.wav\n",
      "Converted Tawny-breasted Tinamou27.mp3 to wav_files/Tawny-breasted Tinamou_sound/Tawny-breasted Tinamou27.wav\n",
      "Converted Tawny-breasted Tinamou31.mp3 to wav_files/Tawny-breasted Tinamou_sound/Tawny-breasted Tinamou31.wav\n",
      "Converted Tawny-breasted Tinamou25.mp3 to wav_files/Tawny-breasted Tinamou_sound/Tawny-breasted Tinamou25.wav\n",
      "Converted Tawny-breasted Tinamou19.mp3 to wav_files/Tawny-breasted Tinamou_sound/Tawny-breasted Tinamou19.wav\n",
      "Converted Tawny-breasted Tinamou18.mp3 to wav_files/Tawny-breasted Tinamou_sound/Tawny-breasted Tinamou18.wav\n",
      "Converted Tawny-breasted Tinamou24.mp3 to wav_files/Tawny-breasted Tinamou_sound/Tawny-breasted Tinamou24.wav\n",
      "Converted Tawny-breasted Tinamou30.mp3 to wav_files/Tawny-breasted Tinamou_sound/Tawny-breasted Tinamou30.wav\n",
      "Converted Tawny-breasted Tinamou29.mp3 to wav_files/Tawny-breasted Tinamou_sound/Tawny-breasted Tinamou29.wav\n",
      "Converted Tawny-breasted Tinamou15.mp3 to wav_files/Tawny-breasted Tinamou_sound/Tawny-breasted Tinamou15.wav\n",
      "Converted Tawny-breasted Tinamou14.mp3 to wav_files/Tawny-breasted Tinamou_sound/Tawny-breasted Tinamou14.wav\n",
      "Converted Tawny-breasted Tinamou28.mp3 to wav_files/Tawny-breasted Tinamou_sound/Tawny-breasted Tinamou28.wav\n",
      "Converted Tawny-breasted Tinamou16.mp3 to wav_files/Tawny-breasted Tinamou_sound/Tawny-breasted Tinamou16.wav\n",
      "Converted Tawny-breasted Tinamou2.mp3 to wav_files/Tawny-breasted Tinamou_sound/Tawny-breasted Tinamou2.wav\n",
      "Converted Tawny-breasted Tinamou3.mp3 to wav_files/Tawny-breasted Tinamou_sound/Tawny-breasted Tinamou3.wav\n",
      "Converted Tawny-breasted Tinamou17.mp3 to wav_files/Tawny-breasted Tinamou_sound/Tawny-breasted Tinamou17.wav\n",
      "Converted Tawny-breasted Tinamou13.mp3 to wav_files/Tawny-breasted Tinamou_sound/Tawny-breasted Tinamou13.wav\n",
      "Converted Tawny-breasted Tinamou7.mp3 to wav_files/Tawny-breasted Tinamou_sound/Tawny-breasted Tinamou7.wav\n",
      "Converted Tawny-breasted Tinamou6.mp3 to wav_files/Tawny-breasted Tinamou_sound/Tawny-breasted Tinamou6.wav\n",
      "Converted Tawny-breasted Tinamou12.mp3 to wav_files/Tawny-breasted Tinamou_sound/Tawny-breasted Tinamou12.wav\n",
      "Converted Tawny-breasted Tinamou10.mp3 to wav_files/Tawny-breasted Tinamou_sound/Tawny-breasted Tinamou10.wav\n",
      "Converted Tawny-breasted Tinamou4.mp3 to wav_files/Tawny-breasted Tinamou_sound/Tawny-breasted Tinamou4.wav\n",
      "Converted Tawny-breasted Tinamou5.mp3 to wav_files/Tawny-breasted Tinamou_sound/Tawny-breasted Tinamou5.wav\n"
     ]
    },
    {
     "name": "stderr",
     "output_type": "stream",
     "text": [
      "106it [05:44,  2.89s/it]"
     ]
    },
    {
     "name": "stdout",
     "output_type": "stream",
     "text": [
      "Converted Tawny-breasted Tinamou11.mp3 to wav_files/Tawny-breasted Tinamou_sound/Tawny-breasted Tinamou11.wav\n",
      "Converted Chaco Chachalaca18.mp3 to wav_files/Chaco Chachalaca_sound/Chaco Chachalaca18.wav\n",
      "Converted Chaco Chachalaca30.mp3 to wav_files/Chaco Chachalaca_sound/Chaco Chachalaca30.wav\n",
      "Converted Chaco Chachalaca24.mp3 to wav_files/Chaco Chachalaca_sound/Chaco Chachalaca24.wav\n",
      "Converted Chaco Chachalaca25.mp3 to wav_files/Chaco Chachalaca_sound/Chaco Chachalaca25.wav\n",
      "Converted Chaco Chachalaca31.mp3 to wav_files/Chaco Chachalaca_sound/Chaco Chachalaca31.wav\n",
      "Converted Chaco Chachalaca19.mp3 to wav_files/Chaco Chachalaca_sound/Chaco Chachalaca19.wav\n",
      "Converted Chaco Chachalaca3.mp3 to wav_files/Chaco Chachalaca_sound/Chaco Chachalaca3.wav\n",
      "Converted Chaco Chachalaca27.mp3 to wav_files/Chaco Chachalaca_sound/Chaco Chachalaca27.wav\n",
      "Converted Chaco Chachalaca26.mp3 to wav_files/Chaco Chachalaca_sound/Chaco Chachalaca26.wav\n",
      "Converted Chaco Chachalaca2.mp3 to wav_files/Chaco Chachalaca_sound/Chaco Chachalaca2.wav\n",
      "Converted Chaco Chachalaca22.mp3 to wav_files/Chaco Chachalaca_sound/Chaco Chachalaca22.wav\n",
      "Converted Chaco Chachalaca6.mp3 to wav_files/Chaco Chachalaca_sound/Chaco Chachalaca6.wav\n",
      "Converted Chaco Chachalaca7.mp3 to wav_files/Chaco Chachalaca_sound/Chaco Chachalaca7.wav\n",
      "Converted Chaco Chachalaca23.mp3 to wav_files/Chaco Chachalaca_sound/Chaco Chachalaca23.wav\n",
      "Converted Chaco Chachalaca21.mp3 to wav_files/Chaco Chachalaca_sound/Chaco Chachalaca21.wav\n",
      "Converted Chaco Chachalaca5.mp3 to wav_files/Chaco Chachalaca_sound/Chaco Chachalaca5.wav\n",
      "Converted Chaco Chachalaca4.mp3 to wav_files/Chaco Chachalaca_sound/Chaco Chachalaca4.wav\n",
      "Converted Chaco Chachalaca20.mp3 to wav_files/Chaco Chachalaca_sound/Chaco Chachalaca20.wav\n",
      "Converted Chaco Chachalaca11.mp3 to wav_files/Chaco Chachalaca_sound/Chaco Chachalaca11.wav\n",
      "Converted Chaco Chachalaca9.mp3 to wav_files/Chaco Chachalaca_sound/Chaco Chachalaca9.wav\n",
      "Converted Chaco Chachalaca8.mp3 to wav_files/Chaco Chachalaca_sound/Chaco Chachalaca8.wav\n",
      "Converted Chaco Chachalaca10.mp3 to wav_files/Chaco Chachalaca_sound/Chaco Chachalaca10.wav\n",
      "Converted Chaco Chachalaca12.mp3 to wav_files/Chaco Chachalaca_sound/Chaco Chachalaca12.wav\n",
      "Converted Chaco Chachalaca13.mp3 to wav_files/Chaco Chachalaca_sound/Chaco Chachalaca13.wav\n",
      "Converted Chaco Chachalaca17.mp3 to wav_files/Chaco Chachalaca_sound/Chaco Chachalaca17.wav\n",
      "Converted Chaco Chachalaca16.mp3 to wav_files/Chaco Chachalaca_sound/Chaco Chachalaca16.wav\n",
      "Converted Chaco Chachalaca14.mp3 to wav_files/Chaco Chachalaca_sound/Chaco Chachalaca14.wav\n",
      "Converted Chaco Chachalaca28.mp3 to wav_files/Chaco Chachalaca_sound/Chaco Chachalaca28.wav\n",
      "Converted Chaco Chachalaca29.mp3 to wav_files/Chaco Chachalaca_sound/Chaco Chachalaca29.wav\n"
     ]
    },
    {
     "name": "stderr",
     "output_type": "stream",
     "text": [
      "107it [05:52,  4.37s/it]"
     ]
    },
    {
     "name": "stdout",
     "output_type": "stream",
     "text": [
      "Converted Chaco Chachalaca15.mp3 to wav_files/Chaco Chachalaca_sound/Chaco Chachalaca15.wav\n",
      "Converted Ornate Tinamou3.mp3 to wav_files/Ornate Tinamou_sound/Ornate Tinamou3.wav\n",
      "Converted Ornate Tinamou2.mp3 to wav_files/Ornate Tinamou_sound/Ornate Tinamou2.wav\n",
      "Converted Ornate Tinamou6.mp3 to wav_files/Ornate Tinamou_sound/Ornate Tinamou6.wav\n",
      "Converted Ornate Tinamou7.mp3 to wav_files/Ornate Tinamou_sound/Ornate Tinamou7.wav\n",
      "Converted Ornate Tinamou5.mp3 to wav_files/Ornate Tinamou_sound/Ornate Tinamou5.wav\n",
      "Converted Ornate Tinamou4.mp3 to wav_files/Ornate Tinamou_sound/Ornate Tinamou4.wav\n",
      "Converted Ornate Tinamou9.mp3 to wav_files/Ornate Tinamou_sound/Ornate Tinamou9.wav\n",
      "Converted Ornate Tinamou8.mp3 to wav_files/Ornate Tinamou_sound/Ornate Tinamou8.wav\n",
      "Converted Ornate Tinamou11.mp3 to wav_files/Ornate Tinamou_sound/Ornate Tinamou11.wav\n",
      "Converted Ornate Tinamou10.mp3 to wav_files/Ornate Tinamou_sound/Ornate Tinamou10.wav\n",
      "Converted Ornate Tinamou12.mp3 to wav_files/Ornate Tinamou_sound/Ornate Tinamou12.wav\n"
     ]
    },
    {
     "name": "stderr",
     "output_type": "stream",
     "text": [
      "108it [05:54,  3.58s/it]"
     ]
    },
    {
     "name": "stdout",
     "output_type": "stream",
     "text": [
      "Converted Ornate Tinamou13.mp3 to wav_files/Ornate Tinamou_sound/Ornate Tinamou13.wav\n",
      "Converted Southern Brown Kiwi3.mp3 to wav_files/Southern Brown Kiwi_sound/Southern Brown Kiwi3.wav\n"
     ]
    },
    {
     "name": "stderr",
     "output_type": "stream",
     "text": [
      "109it [05:54,  2.61s/it]"
     ]
    },
    {
     "name": "stdout",
     "output_type": "stream",
     "text": [
      "Converted Southern Brown Kiwi2.mp3 to wav_files/Southern Brown Kiwi_sound/Southern Brown Kiwi2.wav\n",
      "Converted Southern Brown Kiwi4.mp3 to wav_files/Southern Brown Kiwi_sound/Southern Brown Kiwi4.wav\n",
      "Converted Orange-footed Scrubfowl19.mp3 to wav_files/Orange-footed Scrubfowl_sound/Orange-footed Scrubfowl19.wav\n",
      "Converted Orange-footed Scrubfowl31.mp3 to wav_files/Orange-footed Scrubfowl_sound/Orange-footed Scrubfowl31.wav\n",
      "Converted Orange-footed Scrubfowl25.mp3 to wav_files/Orange-footed Scrubfowl_sound/Orange-footed Scrubfowl25.wav\n",
      "Converted Orange-footed Scrubfowl24.mp3 to wav_files/Orange-footed Scrubfowl_sound/Orange-footed Scrubfowl24.wav\n",
      "Converted Orange-footed Scrubfowl30.mp3 to wav_files/Orange-footed Scrubfowl_sound/Orange-footed Scrubfowl30.wav\n",
      "Converted Orange-footed Scrubfowl18.mp3 to wav_files/Orange-footed Scrubfowl_sound/Orange-footed Scrubfowl18.wav\n",
      "Converted Orange-footed Scrubfowl26.mp3 to wav_files/Orange-footed Scrubfowl_sound/Orange-footed Scrubfowl26.wav\n",
      "Converted Orange-footed Scrubfowl9.mp3 to wav_files/Orange-footed Scrubfowl_sound/Orange-footed Scrubfowl9.wav\n",
      "Converted Orange-footed Scrubfowl8.mp3 to wav_files/Orange-footed Scrubfowl_sound/Orange-footed Scrubfowl8.wav\n",
      "Converted Orange-footed Scrubfowl27.mp3 to wav_files/Orange-footed Scrubfowl_sound/Orange-footed Scrubfowl27.wav\n",
      "Converted Orange-footed Scrubfowl23.mp3 to wav_files/Orange-footed Scrubfowl_sound/Orange-footed Scrubfowl23.wav\n",
      "Converted Orange-footed Scrubfowl22.mp3 to wav_files/Orange-footed Scrubfowl_sound/Orange-footed Scrubfowl22.wav\n",
      "Converted Orange-footed Scrubfowl20.mp3 to wav_files/Orange-footed Scrubfowl_sound/Orange-footed Scrubfowl20.wav\n",
      "Converted Orange-footed Scrubfowl21.mp3 to wav_files/Orange-footed Scrubfowl_sound/Orange-footed Scrubfowl21.wav\n",
      "Converted Orange-footed Scrubfowl10.mp3 to wav_files/Orange-footed Scrubfowl_sound/Orange-footed Scrubfowl10.wav\n",
      "Converted Orange-footed Scrubfowl3.mp3 to wav_files/Orange-footed Scrubfowl_sound/Orange-footed Scrubfowl3.wav\n",
      "Converted Orange-footed Scrubfowl2.mp3 to wav_files/Orange-footed Scrubfowl_sound/Orange-footed Scrubfowl2.wav\n",
      "Converted Orange-footed Scrubfowl11.mp3 to wav_files/Orange-footed Scrubfowl_sound/Orange-footed Scrubfowl11.wav\n",
      "Converted Orange-footed Scrubfowl13.mp3 to wav_files/Orange-footed Scrubfowl_sound/Orange-footed Scrubfowl13.wav\n",
      "Converted Orange-footed Scrubfowl12.mp3 to wav_files/Orange-footed Scrubfowl_sound/Orange-footed Scrubfowl12.wav\n",
      "Converted Orange-footed Scrubfowl16.mp3 to wav_files/Orange-footed Scrubfowl_sound/Orange-footed Scrubfowl16.wav\n",
      "Converted Orange-footed Scrubfowl5.mp3 to wav_files/Orange-footed Scrubfowl_sound/Orange-footed Scrubfowl5.wav\n",
      "Converted Orange-footed Scrubfowl4.mp3 to wav_files/Orange-footed Scrubfowl_sound/Orange-footed Scrubfowl4.wav\n",
      "Converted Orange-footed Scrubfowl17.mp3 to wav_files/Orange-footed Scrubfowl_sound/Orange-footed Scrubfowl17.wav\n",
      "Converted Orange-footed Scrubfowl15.mp3 to wav_files/Orange-footed Scrubfowl_sound/Orange-footed Scrubfowl15.wav\n",
      "Converted Orange-footed Scrubfowl29.mp3 to wav_files/Orange-footed Scrubfowl_sound/Orange-footed Scrubfowl29.wav\n",
      "Converted Orange-footed Scrubfowl6.mp3 to wav_files/Orange-footed Scrubfowl_sound/Orange-footed Scrubfowl6.wav\n",
      "Converted Orange-footed Scrubfowl7.mp3 to wav_files/Orange-footed Scrubfowl_sound/Orange-footed Scrubfowl7.wav\n",
      "Converted Orange-footed Scrubfowl28.mp3 to wav_files/Orange-footed Scrubfowl_sound/Orange-footed Scrubfowl28.wav\n"
     ]
    },
    {
     "name": "stderr",
     "output_type": "stream",
     "text": [
      "110it [06:04,  4.65s/it]"
     ]
    },
    {
     "name": "stdout",
     "output_type": "stream",
     "text": [
      "Converted Orange-footed Scrubfowl14.mp3 to wav_files/Orange-footed Scrubfowl_sound/Orange-footed Scrubfowl14.wav\n",
      "Converted Cinereous Tinamou27.mp3 to wav_files/Cinereous Tinamou_sound/Cinereous Tinamou27.wav\n",
      "Converted Cinereous Tinamou26.mp3 to wav_files/Cinereous Tinamou_sound/Cinereous Tinamou26.wav\n",
      "Converted Cinereous Tinamou18.mp3 to wav_files/Cinereous Tinamou_sound/Cinereous Tinamou18.wav\n",
      "Converted Cinereous Tinamou24.mp3 to wav_files/Cinereous Tinamou_sound/Cinereous Tinamou24.wav\n",
      "Converted Cinereous Tinamou30.mp3 to wav_files/Cinereous Tinamou_sound/Cinereous Tinamou30.wav\n",
      "Converted Cinereous Tinamou31.mp3 to wav_files/Cinereous Tinamou_sound/Cinereous Tinamou31.wav\n",
      "Converted Cinereous Tinamou25.mp3 to wav_files/Cinereous Tinamou_sound/Cinereous Tinamou25.wav\n",
      "Converted Cinereous Tinamou19.mp3 to wav_files/Cinereous Tinamou_sound/Cinereous Tinamou19.wav\n",
      "Converted Cinereous Tinamou21.mp3 to wav_files/Cinereous Tinamou_sound/Cinereous Tinamou21.wav\n",
      "Converted Cinereous Tinamou20.mp3 to wav_files/Cinereous Tinamou_sound/Cinereous Tinamou20.wav\n",
      "Converted Cinereous Tinamou22.mp3 to wav_files/Cinereous Tinamou_sound/Cinereous Tinamou22.wav\n",
      "Converted Cinereous Tinamou23.mp3 to wav_files/Cinereous Tinamou_sound/Cinereous Tinamou23.wav\n",
      "Converted Cinereous Tinamou8.mp3 to wav_files/Cinereous Tinamou_sound/Cinereous Tinamou8.wav\n",
      "Converted Cinereous Tinamou9.mp3 to wav_files/Cinereous Tinamou_sound/Cinereous Tinamou9.wav\n",
      "Converted Cinereous Tinamou4.mp3 to wav_files/Cinereous Tinamou_sound/Cinereous Tinamou4.wav\n",
      "Converted Cinereous Tinamou5.mp3 to wav_files/Cinereous Tinamou_sound/Cinereous Tinamou5.wav\n",
      "Converted Cinereous Tinamou7.mp3 to wav_files/Cinereous Tinamou_sound/Cinereous Tinamou7.wav\n",
      "Converted Cinereous Tinamou6.mp3 to wav_files/Cinereous Tinamou_sound/Cinereous Tinamou6.wav\n",
      "Converted Cinereous Tinamou2.mp3 to wav_files/Cinereous Tinamou_sound/Cinereous Tinamou2.wav\n",
      "Converted Cinereous Tinamou3.mp3 to wav_files/Cinereous Tinamou_sound/Cinereous Tinamou3.wav\n",
      "Converted Cinereous Tinamou12.mp3 to wav_files/Cinereous Tinamou_sound/Cinereous Tinamou12.wav\n",
      "Converted Cinereous Tinamou13.mp3 to wav_files/Cinereous Tinamou_sound/Cinereous Tinamou13.wav\n",
      "Converted Cinereous Tinamou11.mp3 to wav_files/Cinereous Tinamou_sound/Cinereous Tinamou11.wav\n",
      "Converted Cinereous Tinamou10.mp3 to wav_files/Cinereous Tinamou_sound/Cinereous Tinamou10.wav\n",
      "Converted Cinereous Tinamou14.mp3 to wav_files/Cinereous Tinamou_sound/Cinereous Tinamou14.wav\n",
      "Converted Cinereous Tinamou28.mp3 to wav_files/Cinereous Tinamou_sound/Cinereous Tinamou28.wav\n",
      "Converted Cinereous Tinamou29.mp3 to wav_files/Cinereous Tinamou_sound/Cinereous Tinamou29.wav\n",
      "Converted Cinereous Tinamou15.mp3 to wav_files/Cinereous Tinamou_sound/Cinereous Tinamou15.wav\n"
     ]
    },
    {
     "name": "stderr",
     "output_type": "stream",
     "text": [
      "111it [06:11,  5.42s/it]"
     ]
    },
    {
     "name": "stdout",
     "output_type": "stream",
     "text": [
      "Converted Cinereous Tinamou17.mp3 to wav_files/Cinereous Tinamou_sound/Cinereous Tinamou17.wav\n",
      "Converted Cinereous Tinamou16.mp3 to wav_files/Cinereous Tinamou_sound/Cinereous Tinamou16.wav\n",
      "Converted Brazilian Tinamou3.mp3 to wav_files/Brazilian Tinamou_sound/Brazilian Tinamou3.wav\n",
      "Converted Brazilian Tinamou27.mp3 to wav_files/Brazilian Tinamou_sound/Brazilian Tinamou27.wav\n",
      "Converted Brazilian Tinamou26.mp3 to wav_files/Brazilian Tinamou_sound/Brazilian Tinamou26.wav\n",
      "Converted Brazilian Tinamou2.mp3 to wav_files/Brazilian Tinamou_sound/Brazilian Tinamou2.wav\n",
      "Converted Brazilian Tinamou18.mp3 to wav_files/Brazilian Tinamou_sound/Brazilian Tinamou18.wav\n",
      "Converted Brazilian Tinamou24.mp3 to wav_files/Brazilian Tinamou_sound/Brazilian Tinamou24.wav\n",
      "Converted Brazilian Tinamou30.mp3 to wav_files/Brazilian Tinamou_sound/Brazilian Tinamou30.wav\n",
      "Converted Brazilian Tinamou31.mp3 to wav_files/Brazilian Tinamou_sound/Brazilian Tinamou31.wav\n",
      "Converted Brazilian Tinamou25.mp3 to wav_files/Brazilian Tinamou_sound/Brazilian Tinamou25.wav\n",
      "Converted Brazilian Tinamou19.mp3 to wav_files/Brazilian Tinamou_sound/Brazilian Tinamou19.wav\n",
      "Converted Brazilian Tinamou21.mp3 to wav_files/Brazilian Tinamou_sound/Brazilian Tinamou21.wav\n",
      "Converted Brazilian Tinamou5.mp3 to wav_files/Brazilian Tinamou_sound/Brazilian Tinamou5.wav\n",
      "Converted Brazilian Tinamou4.mp3 to wav_files/Brazilian Tinamou_sound/Brazilian Tinamou4.wav\n",
      "Converted Brazilian Tinamou20.mp3 to wav_files/Brazilian Tinamou_sound/Brazilian Tinamou20.wav\n",
      "Converted Brazilian Tinamou6.mp3 to wav_files/Brazilian Tinamou_sound/Brazilian Tinamou6.wav\n",
      "Converted Brazilian Tinamou22.mp3 to wav_files/Brazilian Tinamou_sound/Brazilian Tinamou22.wav\n",
      "Converted Brazilian Tinamou23.mp3 to wav_files/Brazilian Tinamou_sound/Brazilian Tinamou23.wav\n",
      "Converted Brazilian Tinamou7.mp3 to wav_files/Brazilian Tinamou_sound/Brazilian Tinamou7.wav\n",
      "Converted Brazilian Tinamou12.mp3 to wav_files/Brazilian Tinamou_sound/Brazilian Tinamou12.wav\n",
      "Converted Brazilian Tinamou13.mp3 to wav_files/Brazilian Tinamou_sound/Brazilian Tinamou13.wav\n",
      "Converted Brazilian Tinamou9.mp3 to wav_files/Brazilian Tinamou_sound/Brazilian Tinamou9.wav\n",
      "Converted Brazilian Tinamou11.mp3 to wav_files/Brazilian Tinamou_sound/Brazilian Tinamou11.wav\n",
      "Converted Brazilian Tinamou10.mp3 to wav_files/Brazilian Tinamou_sound/Brazilian Tinamou10.wav\n",
      "Converted Brazilian Tinamou8.mp3 to wav_files/Brazilian Tinamou_sound/Brazilian Tinamou8.wav\n",
      "Converted Brazilian Tinamou14.mp3 to wav_files/Brazilian Tinamou_sound/Brazilian Tinamou14.wav\n",
      "Converted Brazilian Tinamou28.mp3 to wav_files/Brazilian Tinamou_sound/Brazilian Tinamou28.wav\n",
      "Converted Brazilian Tinamou29.mp3 to wav_files/Brazilian Tinamou_sound/Brazilian Tinamou29.wav\n",
      "Converted Brazilian Tinamou15.mp3 to wav_files/Brazilian Tinamou_sound/Brazilian Tinamou15.wav\n",
      "Converted Brazilian Tinamou17.mp3 to wav_files/Brazilian Tinamou_sound/Brazilian Tinamou17.wav\n"
     ]
    },
    {
     "name": "stderr",
     "output_type": "stream",
     "text": [
      "112it [06:17,  5.58s/it]"
     ]
    },
    {
     "name": "stdout",
     "output_type": "stream",
     "text": [
      "Converted Brazilian Tinamou16.mp3 to wav_files/Brazilian Tinamou_sound/Brazilian Tinamou16.wav\n",
      "Converted Quebracho Crested Tinamou4.mp3 to wav_files/Quebracho Crested Tinamou_sound/Quebracho Crested Tinamou4.wav\n",
      "Converted Quebracho Crested Tinamou5.mp3 to wav_files/Quebracho Crested Tinamou_sound/Quebracho Crested Tinamou5.wav\n",
      "Converted Quebracho Crested Tinamou7.mp3 to wav_files/Quebracho Crested Tinamou_sound/Quebracho Crested Tinamou7.wav\n",
      "Converted Quebracho Crested Tinamou6.mp3 to wav_files/Quebracho Crested Tinamou_sound/Quebracho Crested Tinamou6.wav\n",
      "Converted Quebracho Crested Tinamou2.mp3 to wav_files/Quebracho Crested Tinamou_sound/Quebracho Crested Tinamou2.wav\n",
      "Converted Quebracho Crested Tinamou3.mp3 to wav_files/Quebracho Crested Tinamou_sound/Quebracho Crested Tinamou3.wav\n",
      "Converted Quebracho Crested Tinamou10.mp3 to wav_files/Quebracho Crested Tinamou_sound/Quebracho Crested Tinamou10.wav\n",
      "Converted Quebracho Crested Tinamou11.mp3 to wav_files/Quebracho Crested Tinamou_sound/Quebracho Crested Tinamou11.wav\n",
      "Converted Quebracho Crested Tinamou8.mp3 to wav_files/Quebracho Crested Tinamou_sound/Quebracho Crested Tinamou8.wav\n"
     ]
    },
    {
     "name": "stderr",
     "output_type": "stream",
     "text": [
      "113it [06:18,  4.28s/it]"
     ]
    },
    {
     "name": "stdout",
     "output_type": "stream",
     "text": [
      "Converted Quebracho Crested Tinamou9.mp3 to wav_files/Quebracho Crested Tinamou_sound/Quebracho Crested Tinamou9.wav\n",
      "Converted Rusty Tinamou4.mp3 to wav_files/Rusty Tinamou_sound/Rusty Tinamou4.wav\n",
      "Converted Rusty Tinamou5.mp3 to wav_files/Rusty Tinamou_sound/Rusty Tinamou5.wav\n",
      "Converted Rusty Tinamou7.mp3 to wav_files/Rusty Tinamou_sound/Rusty Tinamou7.wav\n",
      "Converted Rusty Tinamou6.mp3 to wav_files/Rusty Tinamou_sound/Rusty Tinamou6.wav\n",
      "Converted Rusty Tinamou2.mp3 to wav_files/Rusty Tinamou_sound/Rusty Tinamou2.wav\n",
      "Converted Rusty Tinamou3.mp3 to wav_files/Rusty Tinamou_sound/Rusty Tinamou3.wav\n",
      "Converted Rusty Tinamou8.mp3 to wav_files/Rusty Tinamou_sound/Rusty Tinamou8.wav\n",
      "Converted Rusty Tinamou9.mp3 to wav_files/Rusty Tinamou_sound/Rusty Tinamou9.wav\n",
      "Converted Rusty Tinamou13.mp3 to wav_files/Rusty Tinamou_sound/Rusty Tinamou13.wav\n",
      "Converted Rusty Tinamou12.mp3 to wav_files/Rusty Tinamou_sound/Rusty Tinamou12.wav\n",
      "Converted Rusty Tinamou10.mp3 to wav_files/Rusty Tinamou_sound/Rusty Tinamou10.wav\n"
     ]
    },
    {
     "name": "stderr",
     "output_type": "stream",
     "text": [
      "114it [06:20,  3.52s/it]"
     ]
    },
    {
     "name": "stdout",
     "output_type": "stream",
     "text": [
      "Converted Rusty Tinamou11.mp3 to wav_files/Rusty Tinamou_sound/Rusty Tinamou11.wav\n",
      "Converted Rusty Tinamou14.mp3 to wav_files/Rusty Tinamou_sound/Rusty Tinamou14.wav\n",
      "Converted White-winged Guan19.mp3 to wav_files/White-winged Guan_sound/White-winged Guan19.wav\n",
      "Converted White-winged Guan18.mp3 to wav_files/White-winged Guan_sound/White-winged Guan18.wav\n",
      "Converted White-winged Guan20.mp3 to wav_files/White-winged Guan_sound/White-winged Guan20.wav\n",
      "Converted White-winged Guan21.mp3 to wav_files/White-winged Guan_sound/White-winged Guan21.wav\n",
      "Converted White-winged Guan4.mp3 to wav_files/White-winged Guan_sound/White-winged Guan4.wav\n",
      "Converted White-winged Guan5.mp3 to wav_files/White-winged Guan_sound/White-winged Guan5.wav\n",
      "Converted White-winged Guan7.mp3 to wav_files/White-winged Guan_sound/White-winged Guan7.wav\n",
      "Converted White-winged Guan6.mp3 to wav_files/White-winged Guan_sound/White-winged Guan6.wav\n",
      "Converted White-winged Guan2.mp3 to wav_files/White-winged Guan_sound/White-winged Guan2.wav\n",
      "Converted White-winged Guan3.mp3 to wav_files/White-winged Guan_sound/White-winged Guan3.wav\n",
      "Converted White-winged Guan8.mp3 to wav_files/White-winged Guan_sound/White-winged Guan8.wav\n",
      "Converted White-winged Guan9.mp3 to wav_files/White-winged Guan_sound/White-winged Guan9.wav\n",
      "Converted White-winged Guan13.mp3 to wav_files/White-winged Guan_sound/White-winged Guan13.wav\n",
      "Converted White-winged Guan12.mp3 to wav_files/White-winged Guan_sound/White-winged Guan12.wav\n",
      "Converted White-winged Guan10.mp3 to wav_files/White-winged Guan_sound/White-winged Guan10.wav\n",
      "Converted White-winged Guan11.mp3 to wav_files/White-winged Guan_sound/White-winged Guan11.wav\n",
      "Converted White-winged Guan15.mp3 to wav_files/White-winged Guan_sound/White-winged Guan15.wav\n",
      "Converted White-winged Guan14.mp3 to wav_files/White-winged Guan_sound/White-winged Guan14.wav\n",
      "Converted White-winged Guan16.mp3 to wav_files/White-winged Guan_sound/White-winged Guan16.wav\n"
     ]
    },
    {
     "name": "stderr",
     "output_type": "stream",
     "text": [
      "115it [06:23,  3.33s/it]"
     ]
    },
    {
     "name": "stdout",
     "output_type": "stream",
     "text": [
      "Converted White-winged Guan17.mp3 to wav_files/White-winged Guan_sound/White-winged Guan17.wav\n"
     ]
    },
    {
     "name": "stderr",
     "output_type": "stream",
     "text": [
      "\n"
     ]
    }
   ],
   "source": [
    "# Load audio file at 16kHz\n",
    "def load_audio_file(filepath):\n",
    "    audio, sr = librosa.load(filepath, sr=16000)  # Load with 16kHz sampling rate\n",
    "    return audio\n",
    "\n",
    "# Process and convert MP3 files\n",
    "wav_files = process_audio_files(input_mp3_dir, output_wav_dir)\n"
   ]
  },
  {
   "cell_type": "markdown",
   "metadata": {},
   "source": [
    "### Load yamset model"
   ]
  },
  {
   "cell_type": "code",
   "execution_count": 5,
   "metadata": {},
   "outputs": [],
   "source": [
    "# Load YAMNet model\n",
    "yamnet_model_handle = \"https://tfhub.dev/google/yamnet/1\"\n",
    "yamnet_model = hub.load(yamnet_model_handle)"
   ]
  },
  {
   "cell_type": "markdown",
   "metadata": {},
   "source": [
    "### Get yamset embedding\n",
    "Generate embedding for each audio file."
   ]
  },
  {
   "cell_type": "code",
   "execution_count": 6,
   "metadata": {},
   "outputs": [
    {
     "name": "stderr",
     "output_type": "stream",
     "text": [
      "100%|██████████| 2161/2161 [02:41<00:00, 13.39it/s]\n"
     ]
    }
   ],
   "source": [
    "# Extract YAMNet embeddings\n",
    "def yamnet_embeddings(audio_data):\n",
    "    audio_data = np.squeeze(audio_data) \n",
    "    scores, embeddings, spectrogram = yamnet_model(audio_data)\n",
    "    return embeddings.numpy()  # Shape: (num_patches, 1024)\n",
    "labels = []\n",
    "# Prepare the dataset by extracting embeddings\n",
    "all_embeddings = []\n",
    "for wav_file in tqdm(wav_files):\n",
    "    audio_data = load_audio_file(wav_file)\n",
    "    audio_data = np.reshape(audio_data, (1, -1))  # Reshape for batch dimension\n",
    "    embeddings = yamnet_embeddings(audio_data)\n",
    "    all_embeddings.append(np.mean(embeddings, axis=0))  # Use mean embedding\n",
    "    labels.append(wav_file.split(\"/\")[1].split(\"_\")[0])"
   ]
  },
  {
   "cell_type": "markdown",
   "metadata": {},
   "source": [
    "### Categorical encoding"
   ]
  },
  {
   "cell_type": "code",
   "execution_count": 7,
   "metadata": {},
   "outputs": [],
   "source": [
    "X = np.array(all_embeddings)  # Features\n",
    "y = np.array(labels)          # Labels\n",
    "\n",
    "# Encode labels to integers if they are strings\n",
    "label_encoder = LabelEncoder()\n",
    "y_encoded = label_encoder.fit_transform(y)\n",
    "\n"
   ]
  },
  {
   "cell_type": "markdown",
   "metadata": {},
   "source": [
    "### Save label encoder"
   ]
  },
  {
   "cell_type": "code",
   "execution_count": 8,
   "metadata": {},
   "outputs": [],
   "source": [
    "# Save the encoder to a file\n",
    "with open('label_encoder.pkl', 'wb') as f:\n",
    "    pickle.dump(label_encoder, f)"
   ]
  },
  {
   "cell_type": "code",
   "execution_count": 9,
   "metadata": {},
   "outputs": [],
   "source": [
    "# Split data into train and test sets\n",
    "X_train, X_val, y_train, y_val = train_test_split(X, y_encoded, test_size=0.2, random_state=42)"
   ]
  },
  {
   "cell_type": "markdown",
   "metadata": {},
   "source": [
    "### Modelling\n",
    "Create model by adding dense layer above yamset encoding. Train the model to 50 epochs."
   ]
  },
  {
   "cell_type": "code",
   "execution_count": 10,
   "metadata": {},
   "outputs": [],
   "source": [
    "# Build a classifier on top of YAMNet embeddings\n",
    "def create_model(num_classes):\n",
    "    model = models.Sequential([\n",
    "    layers.Input(shape=(1024,)),\n",
    "    layers.Dense(512, activation='relu'),\n",
    "    layers.BatchNormalization(),\n",
    "    layers.Dropout(0.4),\n",
    "    layers.Dense(256, activation='relu'),\n",
    "    layers.BatchNormalization(),\n",
    "    layers.Dropout(0.4),\n",
    "    layers.Dense(num_classes, activation='softmax')\n",
    "])\n",
    "    model.compile(optimizer='adam', loss='sparse_categorical_crossentropy', metrics=['accuracy'])\n",
    "    return model\n",
    "\n",
    "# Initialize and train the model\n",
    "num_classes = len(np.unique(y_encoded))\n",
    "model = create_model(num_classes)"
   ]
  },
  {
   "cell_type": "code",
   "execution_count": 11,
   "metadata": {},
   "outputs": [
    {
     "name": "stdout",
     "output_type": "stream",
     "text": [
      "Epoch 1/50\n",
      "\u001b[1m54/54\u001b[0m \u001b[32m━━━━━━━━━━━━━━━━━━━━\u001b[0m\u001b[37m\u001b[0m \u001b[1m1s\u001b[0m 4ms/step - accuracy: 0.0375 - loss: 5.1691 - val_accuracy: 0.1732 - val_loss: 4.3539\n",
      "Epoch 2/50\n",
      "\u001b[1m54/54\u001b[0m \u001b[32m━━━━━━━━━━━━━━━━━━━━\u001b[0m\u001b[37m\u001b[0m \u001b[1m0s\u001b[0m 3ms/step - accuracy: 0.2252 - loss: 3.4346 - val_accuracy: 0.2356 - val_loss: 4.0123\n",
      "Epoch 3/50\n",
      "\u001b[1m54/54\u001b[0m \u001b[32m━━━━━━━━━━━━━━━━━━━━\u001b[0m\u001b[37m\u001b[0m \u001b[1m0s\u001b[0m 3ms/step - accuracy: 0.3452 - loss: 2.8398 - val_accuracy: 0.2887 - val_loss: 3.7113\n",
      "Epoch 4/50\n",
      "\u001b[1m54/54\u001b[0m \u001b[32m━━━━━━━━━━━━━━━━━━━━\u001b[0m\u001b[37m\u001b[0m \u001b[1m0s\u001b[0m 3ms/step - accuracy: 0.4241 - loss: 2.4128 - val_accuracy: 0.3718 - val_loss: 3.3644\n",
      "Epoch 5/50\n",
      "\u001b[1m54/54\u001b[0m \u001b[32m━━━━━━━━━━━━━━━━━━━━\u001b[0m\u001b[37m\u001b[0m \u001b[1m0s\u001b[0m 3ms/step - accuracy: 0.5078 - loss: 2.0993 - val_accuracy: 0.4342 - val_loss: 3.0036\n",
      "Epoch 6/50\n",
      "\u001b[1m54/54\u001b[0m \u001b[32m━━━━━━━━━━━━━━━━━━━━\u001b[0m\u001b[37m\u001b[0m \u001b[1m0s\u001b[0m 3ms/step - accuracy: 0.5220 - loss: 2.0042 - val_accuracy: 0.4642 - val_loss: 2.7741\n",
      "Epoch 7/50\n",
      "\u001b[1m54/54\u001b[0m \u001b[32m━━━━━━━━━━━━━━━━━━━━\u001b[0m\u001b[37m\u001b[0m \u001b[1m0s\u001b[0m 4ms/step - accuracy: 0.5431 - loss: 1.8410 - val_accuracy: 0.4988 - val_loss: 2.4335\n",
      "Epoch 8/50\n",
      "\u001b[1m54/54\u001b[0m \u001b[32m━━━━━━━━━━━━━━━━━━━━\u001b[0m\u001b[37m\u001b[0m \u001b[1m0s\u001b[0m 3ms/step - accuracy: 0.6210 - loss: 1.5540 - val_accuracy: 0.5150 - val_loss: 2.2794\n",
      "Epoch 9/50\n",
      "\u001b[1m54/54\u001b[0m \u001b[32m━━━━━━━━━━━━━━━━━━━━\u001b[0m\u001b[37m\u001b[0m \u001b[1m0s\u001b[0m 3ms/step - accuracy: 0.6503 - loss: 1.4396 - val_accuracy: 0.5358 - val_loss: 2.1329\n",
      "Epoch 10/50\n",
      "\u001b[1m54/54\u001b[0m \u001b[32m━━━━━━━━━━━━━━━━━━━━\u001b[0m\u001b[37m\u001b[0m \u001b[1m0s\u001b[0m 3ms/step - accuracy: 0.6217 - loss: 1.3825 - val_accuracy: 0.5658 - val_loss: 2.0088\n",
      "Epoch 11/50\n",
      "\u001b[1m54/54\u001b[0m \u001b[32m━━━━━━━━━━━━━━━━━━━━\u001b[0m\u001b[37m\u001b[0m \u001b[1m0s\u001b[0m 3ms/step - accuracy: 0.6633 - loss: 1.2750 - val_accuracy: 0.5727 - val_loss: 2.0170\n",
      "Epoch 12/50\n",
      "\u001b[1m54/54\u001b[0m \u001b[32m━━━━━━━━━━━━━━━━━━━━\u001b[0m\u001b[37m\u001b[0m \u001b[1m0s\u001b[0m 3ms/step - accuracy: 0.6680 - loss: 1.2888 - val_accuracy: 0.5889 - val_loss: 1.9460\n",
      "Epoch 13/50\n",
      "\u001b[1m54/54\u001b[0m \u001b[32m━━━━━━━━━━━━━━━━━━━━\u001b[0m\u001b[37m\u001b[0m \u001b[1m0s\u001b[0m 3ms/step - accuracy: 0.7104 - loss: 1.1155 - val_accuracy: 0.5797 - val_loss: 1.8992\n",
      "Epoch 14/50\n",
      "\u001b[1m54/54\u001b[0m \u001b[32m━━━━━━━━━━━━━━━━━━━━\u001b[0m\u001b[37m\u001b[0m \u001b[1m0s\u001b[0m 3ms/step - accuracy: 0.7078 - loss: 1.1365 - val_accuracy: 0.6005 - val_loss: 1.8983\n",
      "Epoch 15/50\n",
      "\u001b[1m54/54\u001b[0m \u001b[32m━━━━━━━━━━━━━━━━━━━━\u001b[0m\u001b[37m\u001b[0m \u001b[1m0s\u001b[0m 3ms/step - accuracy: 0.6901 - loss: 1.1243 - val_accuracy: 0.6236 - val_loss: 1.8750\n",
      "Epoch 16/50\n",
      "\u001b[1m54/54\u001b[0m \u001b[32m━━━━━━━━━━━━━━━━━━━━\u001b[0m\u001b[37m\u001b[0m \u001b[1m0s\u001b[0m 3ms/step - accuracy: 0.7451 - loss: 0.9507 - val_accuracy: 0.6166 - val_loss: 1.7873\n",
      "Epoch 17/50\n",
      "\u001b[1m54/54\u001b[0m \u001b[32m━━━━━━━━━━━━━━━━━━━━\u001b[0m\u001b[37m\u001b[0m \u001b[1m0s\u001b[0m 3ms/step - accuracy: 0.7595 - loss: 0.9561 - val_accuracy: 0.6467 - val_loss: 1.8014\n",
      "Epoch 18/50\n",
      "\u001b[1m54/54\u001b[0m \u001b[32m━━━━━━━━━━━━━━━━━━━━\u001b[0m\u001b[37m\u001b[0m \u001b[1m0s\u001b[0m 3ms/step - accuracy: 0.7646 - loss: 0.8926 - val_accuracy: 0.6189 - val_loss: 1.8045\n",
      "Epoch 19/50\n",
      "\u001b[1m54/54\u001b[0m \u001b[32m━━━━━━━━━━━━━━━━━━━━\u001b[0m\u001b[37m\u001b[0m \u001b[1m0s\u001b[0m 3ms/step - accuracy: 0.7776 - loss: 0.8246 - val_accuracy: 0.6467 - val_loss: 1.7199\n",
      "Epoch 20/50\n",
      "\u001b[1m54/54\u001b[0m \u001b[32m━━━━━━━━━━━━━━━━━━━━\u001b[0m\u001b[37m\u001b[0m \u001b[1m0s\u001b[0m 3ms/step - accuracy: 0.7808 - loss: 0.7654 - val_accuracy: 0.6097 - val_loss: 1.8636\n",
      "Epoch 21/50\n",
      "\u001b[1m54/54\u001b[0m \u001b[32m━━━━━━━━━━━━━━━━━━━━\u001b[0m\u001b[37m\u001b[0m \u001b[1m0s\u001b[0m 3ms/step - accuracy: 0.7758 - loss: 0.8075 - val_accuracy: 0.6490 - val_loss: 1.7859\n",
      "Epoch 22/50\n",
      "\u001b[1m54/54\u001b[0m \u001b[32m━━━━━━━━━━━━━━━━━━━━\u001b[0m\u001b[37m\u001b[0m \u001b[1m0s\u001b[0m 3ms/step - accuracy: 0.8103 - loss: 0.7433 - val_accuracy: 0.6374 - val_loss: 1.7859\n",
      "Epoch 23/50\n",
      "\u001b[1m54/54\u001b[0m \u001b[32m━━━━━━━━━━━━━━━━━━━━\u001b[0m\u001b[37m\u001b[0m \u001b[1m0s\u001b[0m 3ms/step - accuracy: 0.7959 - loss: 0.7343 - val_accuracy: 0.6328 - val_loss: 1.8475\n",
      "Epoch 24/50\n",
      "\u001b[1m54/54\u001b[0m \u001b[32m━━━━━━━━━━━━━━━━━━━━\u001b[0m\u001b[37m\u001b[0m \u001b[1m0s\u001b[0m 3ms/step - accuracy: 0.8003 - loss: 0.7076 - val_accuracy: 0.6282 - val_loss: 1.8182\n",
      "Epoch 25/50\n",
      "\u001b[1m54/54\u001b[0m \u001b[32m━━━━━━━━━━━━━━━━━━━━\u001b[0m\u001b[37m\u001b[0m \u001b[1m0s\u001b[0m 3ms/step - accuracy: 0.8007 - loss: 0.7042 - val_accuracy: 0.6328 - val_loss: 1.8330\n",
      "Epoch 26/50\n",
      "\u001b[1m54/54\u001b[0m \u001b[32m━━━━━━━━━━━━━━━━━━━━\u001b[0m\u001b[37m\u001b[0m \u001b[1m0s\u001b[0m 3ms/step - accuracy: 0.7974 - loss: 0.7079 - val_accuracy: 0.6443 - val_loss: 1.7786\n",
      "Epoch 27/50\n",
      "\u001b[1m54/54\u001b[0m \u001b[32m━━━━━━━━━━━━━━━━━━━━\u001b[0m\u001b[37m\u001b[0m \u001b[1m0s\u001b[0m 3ms/step - accuracy: 0.8299 - loss: 0.6368 - val_accuracy: 0.6420 - val_loss: 1.7908\n",
      "Epoch 28/50\n",
      "\u001b[1m54/54\u001b[0m \u001b[32m━━━━━━━━━━━━━━━━━━━━\u001b[0m\u001b[37m\u001b[0m \u001b[1m0s\u001b[0m 3ms/step - accuracy: 0.8049 - loss: 0.6945 - val_accuracy: 0.6490 - val_loss: 1.7434\n",
      "Epoch 29/50\n",
      "\u001b[1m54/54\u001b[0m \u001b[32m━━━━━━━━━━━━━━━━━━━━\u001b[0m\u001b[37m\u001b[0m \u001b[1m0s\u001b[0m 3ms/step - accuracy: 0.8303 - loss: 0.6088 - val_accuracy: 0.6559 - val_loss: 1.7020\n",
      "Epoch 30/50\n",
      "\u001b[1m54/54\u001b[0m \u001b[32m━━━━━━━━━━━━━━━━━━━━\u001b[0m\u001b[37m\u001b[0m \u001b[1m0s\u001b[0m 3ms/step - accuracy: 0.8429 - loss: 0.5977 - val_accuracy: 0.6467 - val_loss: 1.8243\n",
      "Epoch 31/50\n",
      "\u001b[1m54/54\u001b[0m \u001b[32m━━━━━━━━━━━━━━━━━━━━\u001b[0m\u001b[37m\u001b[0m \u001b[1m0s\u001b[0m 3ms/step - accuracy: 0.8225 - loss: 0.5767 - val_accuracy: 0.6443 - val_loss: 1.7628\n",
      "Epoch 32/50\n",
      "\u001b[1m54/54\u001b[0m \u001b[32m━━━━━━━━━━━━━━━━━━━━\u001b[0m\u001b[37m\u001b[0m \u001b[1m0s\u001b[0m 3ms/step - accuracy: 0.8443 - loss: 0.5793 - val_accuracy: 0.6351 - val_loss: 1.8586\n",
      "Epoch 33/50\n",
      "\u001b[1m54/54\u001b[0m \u001b[32m━━━━━━━━━━━━━━━━━━━━\u001b[0m\u001b[37m\u001b[0m \u001b[1m0s\u001b[0m 3ms/step - accuracy: 0.8483 - loss: 0.5615 - val_accuracy: 0.6305 - val_loss: 1.8630\n",
      "Epoch 34/50\n",
      "\u001b[1m54/54\u001b[0m \u001b[32m━━━━━━━━━━━━━━━━━━━━\u001b[0m\u001b[37m\u001b[0m \u001b[1m0s\u001b[0m 3ms/step - accuracy: 0.8543 - loss: 0.5625 - val_accuracy: 0.6374 - val_loss: 1.8365\n",
      "Epoch 35/50\n",
      "\u001b[1m54/54\u001b[0m \u001b[32m━━━━━━━━━━━━━━━━━━━━\u001b[0m\u001b[37m\u001b[0m \u001b[1m0s\u001b[0m 3ms/step - accuracy: 0.8625 - loss: 0.4982 - val_accuracy: 0.6420 - val_loss: 1.8848\n",
      "Epoch 36/50\n",
      "\u001b[1m54/54\u001b[0m \u001b[32m━━━━━━━━━━━━━━━━━━━━\u001b[0m\u001b[37m\u001b[0m \u001b[1m0s\u001b[0m 3ms/step - accuracy: 0.8472 - loss: 0.5809 - val_accuracy: 0.6513 - val_loss: 1.9048\n",
      "Epoch 37/50\n",
      "\u001b[1m54/54\u001b[0m \u001b[32m━━━━━━━━━━━━━━━━━━━━\u001b[0m\u001b[37m\u001b[0m \u001b[1m0s\u001b[0m 3ms/step - accuracy: 0.8487 - loss: 0.5252 - val_accuracy: 0.6374 - val_loss: 1.8952\n",
      "Epoch 38/50\n",
      "\u001b[1m54/54\u001b[0m \u001b[32m━━━━━━━━━━━━━━━━━━━━\u001b[0m\u001b[37m\u001b[0m \u001b[1m0s\u001b[0m 3ms/step - accuracy: 0.8483 - loss: 0.5336 - val_accuracy: 0.6559 - val_loss: 1.8624\n",
      "Epoch 39/50\n",
      "\u001b[1m54/54\u001b[0m \u001b[32m━━━━━━━━━━━━━━━━━━━━\u001b[0m\u001b[37m\u001b[0m \u001b[1m0s\u001b[0m 3ms/step - accuracy: 0.8461 - loss: 0.5332 - val_accuracy: 0.6420 - val_loss: 1.8550\n",
      "Epoch 40/50\n",
      "\u001b[1m54/54\u001b[0m \u001b[32m━━━━━━━━━━━━━━━━━━━━\u001b[0m\u001b[37m\u001b[0m \u001b[1m0s\u001b[0m 3ms/step - accuracy: 0.8540 - loss: 0.5055 - val_accuracy: 0.6582 - val_loss: 1.7912\n",
      "Epoch 41/50\n",
      "\u001b[1m54/54\u001b[0m \u001b[32m━━━━━━━━━━━━━━━━━━━━\u001b[0m\u001b[37m\u001b[0m \u001b[1m0s\u001b[0m 3ms/step - accuracy: 0.8395 - loss: 0.5654 - val_accuracy: 0.6536 - val_loss: 1.8819\n",
      "Epoch 42/50\n",
      "\u001b[1m54/54\u001b[0m \u001b[32m━━━━━━━━━━━━━━━━━━━━\u001b[0m\u001b[37m\u001b[0m \u001b[1m0s\u001b[0m 3ms/step - accuracy: 0.8602 - loss: 0.5032 - val_accuracy: 0.6397 - val_loss: 2.0207\n",
      "Epoch 43/50\n",
      "\u001b[1m54/54\u001b[0m \u001b[32m━━━━━━━━━━━━━━━━━━━━\u001b[0m\u001b[37m\u001b[0m \u001b[1m0s\u001b[0m 3ms/step - accuracy: 0.8641 - loss: 0.4615 - val_accuracy: 0.6605 - val_loss: 1.9368\n",
      "Epoch 44/50\n",
      "\u001b[1m54/54\u001b[0m \u001b[32m━━━━━━━━━━━━━━━━━━━━\u001b[0m\u001b[37m\u001b[0m \u001b[1m0s\u001b[0m 3ms/step - accuracy: 0.8565 - loss: 0.4872 - val_accuracy: 0.6559 - val_loss: 1.9291\n",
      "Epoch 45/50\n",
      "\u001b[1m54/54\u001b[0m \u001b[32m━━━━━━━━━━━━━━━━━━━━\u001b[0m\u001b[37m\u001b[0m \u001b[1m0s\u001b[0m 3ms/step - accuracy: 0.8695 - loss: 0.4650 - val_accuracy: 0.6351 - val_loss: 1.9531\n",
      "Epoch 46/50\n",
      "\u001b[1m54/54\u001b[0m \u001b[32m━━━━━━━━━━━━━━━━━━━━\u001b[0m\u001b[37m\u001b[0m \u001b[1m0s\u001b[0m 4ms/step - accuracy: 0.8529 - loss: 0.4957 - val_accuracy: 0.6351 - val_loss: 1.9253\n",
      "Epoch 47/50\n",
      "\u001b[1m54/54\u001b[0m \u001b[32m━━━━━━━━━━━━━━━━━━━━\u001b[0m\u001b[37m\u001b[0m \u001b[1m0s\u001b[0m 3ms/step - accuracy: 0.8737 - loss: 0.4547 - val_accuracy: 0.6467 - val_loss: 1.9035\n",
      "Epoch 48/50\n",
      "\u001b[1m54/54\u001b[0m \u001b[32m━━━━━━━━━━━━━━━━━━━━\u001b[0m\u001b[37m\u001b[0m \u001b[1m0s\u001b[0m 3ms/step - accuracy: 0.8729 - loss: 0.4522 - val_accuracy: 0.6420 - val_loss: 1.9805\n",
      "Epoch 49/50\n",
      "\u001b[1m54/54\u001b[0m \u001b[32m━━━━━━━━━━━━━━━━━━━━\u001b[0m\u001b[37m\u001b[0m \u001b[1m0s\u001b[0m 3ms/step - accuracy: 0.8795 - loss: 0.4315 - val_accuracy: 0.6443 - val_loss: 1.9724\n",
      "Epoch 50/50\n",
      "\u001b[1m54/54\u001b[0m \u001b[32m━━━━━━━━━━━━━━━━━━━━\u001b[0m\u001b[37m\u001b[0m \u001b[1m0s\u001b[0m 3ms/step - accuracy: 0.8791 - loss: 0.4126 - val_accuracy: 0.6374 - val_loss: 1.9751\n",
      "\u001b[1m14/14\u001b[0m \u001b[32m━━━━━━━━━━━━━━━━━━━━\u001b[0m\u001b[37m\u001b[0m \u001b[1m0s\u001b[0m 771us/step - accuracy: 0.6231 - loss: 2.2445\n"
     ]
    },
    {
     "name": "stderr",
     "output_type": "stream",
     "text": [
      "WARNING:absl:You are saving your model as an HDF5 file via `model.save()` or `keras.saving.save_model(model)`. This file format is considered legacy. We recommend using instead the native Keras format, e.g. `model.save('my_model.keras')` or `keras.saving.save_model(model, 'my_model.keras')`. \n"
     ]
    },
    {
     "name": "stdout",
     "output_type": "stream",
     "text": [
      "Validation Accuracy: 0.64\n"
     ]
    }
   ],
   "source": [
    "# Train the model\n",
    "history = model.fit(X_train, y_train, epochs=50, batch_size=32, validation_data=(X_val, y_val))\n",
    "\n",
    "# Evaluate the model\n",
    "loss, accuracy = model.evaluate(X_val, y_val)\n",
    "print(f\"Validation Accuracy: {accuracy:.2f}\")\n",
    "\n",
    "# Optionally, save the model\n",
    "model.save('yamnet_classifier_model.h5')"
   ]
  },
  {
   "cell_type": "markdown",
   "metadata": {},
   "source": [
    "### Model evaluation"
   ]
  },
  {
   "cell_type": "code",
   "execution_count": 12,
   "metadata": {},
   "outputs": [
    {
     "name": "stdout",
     "output_type": "stream",
     "text": [
      "\u001b[1m14/14\u001b[0m \u001b[32m━━━━━━━━━━━━━━━━━━━━\u001b[0m\u001b[37m\u001b[0m \u001b[1m0s\u001b[0m 808us/step - accuracy: 0.6231 - loss: 2.2445\n",
      "Validation Accuracy: 0.64\n"
     ]
    }
   ],
   "source": [
    "loss, accuracy = model.evaluate(X_val, y_val)\n",
    "print(f\"Validation Accuracy: {accuracy:.2f}\")"
   ]
  },
  {
   "cell_type": "code",
   "execution_count": 13,
   "metadata": {},
   "outputs": [
    {
     "name": "stdout",
     "output_type": "stream",
     "text": [
      "\u001b[1m14/14\u001b[0m \u001b[32m━━━━━━━━━━━━━━━━━━━━\u001b[0m\u001b[37m\u001b[0m \u001b[1m0s\u001b[0m 2ms/step \n"
     ]
    },
    {
     "data": {
      "image/png": "[encoded data removed]",
      "text/plain": [
       "<Figure size 800x600 with 2 Axes>"
      ]
     },
     "metadata": {},
     "output_type": "display_data"
    }
   ],
   "source": [
    "# Predict on validation data\n",
    "y_pred = model.predict(X_val)\n",
    "y_pred_classes = np.argmax(y_pred, axis=1)  # Convert predicted probabilities to class labels\n",
    "\n",
    "# Generate confusion matrix\n",
    "cm = confusion_matrix(y_val, y_pred_classes)\n",
    "\n",
    "# Plot confusion matrix\n",
    "plt.figure(figsize=(8, 6))\n",
    "sns.heatmap(cm, annot=True, fmt='d', cmap='Blues', xticklabels=label_encoder.classes_, yticklabels=label_encoder.classes_)\n",
    "plt.xlabel('Predicted')\n",
    "plt.ylabel('True')\n",
    "plt.title('Confusion Matrix')\n",
    "plt.show()\n"
   ]
  },
  {
   "cell_type": "code",
   "execution_count": 14,
   "metadata": {},
   "outputs": [
    {
     "name": "stdout",
     "output_type": "stream",
     "text": [
      "                            precision    recall  f1-score   support\n",
      "\n",
      "               Andean Guan       0.67      0.67      0.67         3\n",
      "            Andean Tinamou       0.00      0.00      0.00         4\n",
      "    Australian Brushturkey       1.00      0.67      0.80         6\n",
      "          Band-tailed Guan       0.40      0.40      0.40         5\n",
      "         Bartletts Tinamou       0.00      0.00      0.00         4\n",
      "                Baudo Guan       0.00      0.00      0.00         2\n",
      "              Bearded Guan       0.80      0.50      0.62         8\n",
      "        Berlepschs Tinamou       0.67      0.67      0.67         3\n",
      "            Biak Scrubfowl       1.00      0.67      0.80         3\n",
      "             Black Tinamou       0.50      0.29      0.36         7\n",
      "  Black-billed Brushturkey       0.75      0.75      0.75         4\n",
      "      Black-capped Tinamou       0.82      0.90      0.86        10\n",
      " Blue-throated Piping Guan       1.00      0.20      0.33         5\n",
      "         Brazilian Tinamou       0.33      0.50      0.40         6\n",
      "             Brown Tinamou       1.00      1.00      1.00         4\n",
      "         Brushland Tinamou       0.86      1.00      0.92         6\n",
      "    Buff-browed Chachalaca       0.00      0.00      0.00         1\n",
      "                Cauca Guan       0.71      0.83      0.77         6\n",
      "          Chaco Chachalaca       0.60      1.00      0.75         3\n",
      "     Chestnut-bellied Guan       1.00      1.00      1.00         4\n",
      "Chestnut-headed Chachalaca       0.00      0.00      0.00         2\n",
      "Chestnut-winged Chachalaca       0.29      1.00      0.44         2\n",
      "           Chilean Tinamou       1.00      0.50      0.67         4\n",
      "             Choco Tinamou       0.00      0.00      0.00         3\n",
      "         Cinereous Tinamou       0.67      1.00      0.80         6\n",
      "      Collared Brushturkey       0.75      1.00      0.86         3\n",
      "      Colombian Chachalaca       1.00      0.67      0.80         6\n",
      "            Common Ostrich       0.00      0.00      0.00         1\n",
      "              Crested Guan       0.67      0.80      0.73         5\n",
      "           Darwins Nothura       0.80      0.67      0.73         6\n",
      "            Dusky Megapode       0.71      0.71      0.71         7\n",
      "         Dusky-legged Guan       0.75      0.60      0.67         5\n",
      "           Dwarf Cassowary       0.00      0.00      0.00         1\n",
      "             Dwarf Tinamou       1.00      0.50      0.67        10\n",
      " East Brazilian Chachalaca       0.67      0.80      0.73         5\n",
      "   Elegant Crested Tinamou       1.00      0.50      0.67         2\n",
      "                       Emu       0.43      0.75      0.55         4\n",
      "        Great Spotted Kiwi       1.00      0.50      0.67         2\n",
      "             Great Tinamou       0.13      0.40      0.20         5\n",
      "              Greater Rhea       0.67      0.80      0.73         5\n",
      "              Grey Tinamou       0.33      0.33      0.33         3\n",
      "    Grey-headed Chachalaca       1.00      0.83      0.91         6\n",
      "       Grey-legged Tinamou       0.00      0.00      0.00         3\n",
      "          Highland Tinamou       1.00      0.83      0.91         6\n",
      "            Hooded Tinamou       1.00      0.50      0.67         4\n",
      "            Huayco Tinamou       0.33      1.00      0.50         1\n",
      "            Lesser Nothura       0.00      0.00      0.00         2\n",
      "               Lesser Rhea       0.00      0.00      0.00         1\n",
      "         Little Chachalaca       0.75      0.86      0.80         7\n",
      "       Little Spotted Kiwi       1.00      0.50      0.67         2\n",
      "            Little Tinamou       0.78      0.88      0.82         8\n",
      "                     Maleo       0.00      0.00      0.00         2\n",
      "                Malleefowl       1.00      0.33      0.50         3\n",
      "               Marail Guan       0.50      0.25      0.33         4\n",
      "       Melanesian Megapode       1.00      1.00      1.00         1\n",
      "      New Guinea Scrubfowl       1.00      1.00      1.00         3\n",
      "          Nicobar Megapode       0.00      0.00      0.00         1\n",
      "   North Island Brown Kiwi       1.00      1.00      1.00         4\n",
      "        Northern Cassowary       1.00      0.50      0.67         2\n",
      "   Orange-footed Scrubfowl       0.67      1.00      0.80         4\n",
      "            Ornate Tinamou       0.50      1.00      0.67         1\n",
      "       Pale-browed Tinamou       0.50      0.80      0.62         5\n",
      "       Philippine Megapode       0.33      0.50      0.40         4\n",
      "          Plain Chachalaca       0.57      0.57      0.57         7\n",
      "              Puna Tinamou       1.00      1.00      1.00         2\n",
      " Quebracho Crested Tinamou       1.00      1.00      1.00         1\n",
      "    Red-billed Brushturkey       0.50      1.00      0.67         2\n",
      "            Red-faced Guan       1.00      0.71      0.83         7\n",
      "        Red-legged Tinamou       0.40      0.80      0.53         5\n",
      "  Red-throated Piping Guan       0.00      0.00      0.00         3\n",
      "        Red-winged Tinamou       0.78      0.88      0.82         8\n",
      " Rufous-bellied Chachalaca       1.00      0.60      0.75         5\n",
      "  Rufous-headed Chachalaca       0.75      0.60      0.67         5\n",
      "  Rufous-vented Chachalaca       0.83      1.00      0.91         5\n",
      "             Rusty Tinamou       0.67      0.67      0.67         3\n",
      "       Rusty-margined Guan       0.50      0.50      0.50         4\n",
      "         Scaled Chachalaca       1.00      1.00      1.00         1\n",
      "    Slaty-breasted Tinamou       1.00      0.67      0.80         6\n",
      "      Small-billed Tinamou       1.00      0.33      0.50         3\n",
      "          Solitary Tinamou       0.25      0.43      0.32         7\n",
      "        Southern Cassowary       0.75      1.00      0.86         6\n",
      "       Speckled Chachalaca       0.86      1.00      0.92         6\n",
      "                Spixs Guan       0.67      0.67      0.67         3\n",
      "           Spotted Nothura       0.71      0.83      0.77         6\n",
      "             Sula Megapode       0.50      0.50      0.50         2\n",
      "           Tataupa Tinamou       0.67      0.67      0.67         6\n",
      "    Tawny-breasted Tinamou       1.00      0.83      0.91         6\n",
      "           Thicket Tinamou       0.31      0.80      0.44         5\n",
      "           Tongan Megapode       0.50      0.50      0.50         2\n",
      "      Trinidad Piping Guan       0.00      0.00      0.00         1\n",
      "         Undulated Tinamou       1.00      1.00      1.00        10\n",
      "          Vanuatu Megapode       0.00      0.00      0.00         1\n",
      "        Variegated Tinamou       0.50      0.50      0.50        10\n",
      "       Wattled Brushturkey       0.00      0.00      0.00         1\n",
      "   West Mexican Chachalaca       1.00      0.86      0.92         7\n",
      "  White-bellied Chachalaca       1.00      0.83      0.91         6\n",
      "     White-bellied Nothura       0.25      0.14      0.18         7\n",
      "        White-crested Guan       1.00      1.00      1.00         3\n",
      "    White-throated Tinamou       0.00      0.00      0.00         8\n",
      "         White-winged Guan       0.67      0.67      0.67         3\n",
      "     Yellow-legged Tinamou       0.40      0.40      0.40         5\n",
      "\n",
      "                 micro avg       0.65      0.64      0.64       433\n",
      "                 macro avg       0.61      0.59      0.57       433\n",
      "              weighted avg       0.67      0.64      0.63       433\n",
      "\n"
     ]
    },
    {
     "name": "stderr",
     "output_type": "stream",
     "text": [
      "/Users/gokulgopank/Documents/Bird_1/.venv/lib/python3.9/site-packages/sklearn/metrics/_classification.py:1531: UndefinedMetricWarning: Precision is ill-defined and being set to 0.0 in labels with no predicted samples. Use `zero_division` parameter to control this behavior.\n",
      "  _warn_prf(average, modifier, f\"{metric.capitalize()} is\", len(result))\n",
      "/Users/gokulgopank/Documents/Bird_1/.venv/lib/python3.9/site-packages/sklearn/metrics/_classification.py:1531: UndefinedMetricWarning: Precision is ill-defined and being set to 0.0 in labels with no predicted samples. Use `zero_division` parameter to control this behavior.\n",
      "  _warn_prf(average, modifier, f\"{metric.capitalize()} is\", len(result))\n",
      "/Users/gokulgopank/Documents/Bird_1/.venv/lib/python3.9/site-packages/sklearn/metrics/_classification.py:1531: UndefinedMetricWarning: Precision is ill-defined and being set to 0.0 in labels with no predicted samples. Use `zero_division` parameter to control this behavior.\n",
      "  _warn_prf(average, modifier, f\"{metric.capitalize()} is\", len(result))\n"
     ]
    }
   ],
   "source": [
    "# Get unique classes in y_val\n",
    "unique_classes = np.unique(y_val)\n",
    "\n",
    "# Generate classification report with explicit labels\n",
    "print(classification_report(y_val, y_pred_classes, labels=unique_classes, target_names=label_encoder.inverse_transform(unique_classes)))"
   ]
  },
  {
   "cell_type": "markdown",
   "metadata": {},
   "source": [
    "### Create gradio interface"
   ]
  },
  {
   "cell_type": "code",
   "execution_count": 15,
   "metadata": {},
   "outputs": [],
   "source": [
    "# Path to the downloaded shapefile (replace with your local path)\n",
    "shapefile_path = \"map/ne_110m_admin_0_countries.shp\""
   ]
  },
  {
   "cell_type": "code",
   "execution_count": 16,
   "metadata": {},
   "outputs": [],
   "source": [
    "with open('label_encoder.pkl', 'rb') as f:\n",
    "    label_encoder = pickle.load(f)"
   ]
  },
  {
   "cell_type": "code",
   "execution_count": 17,
   "metadata": {},
   "outputs": [
    {
     "name": "stderr",
     "output_type": "stream",
     "text": [
      "WARNING:absl:Compiled the loaded model, but the compiled metrics have yet to be built. `model.compile_metrics` will be empty until you train or evaluate the model.\n"
     ]
    },
    {
     "name": "stdout",
     "output_type": "stream",
     "text": [
      "Running on local URL:  http://127.0.0.1:7860\n",
      "\n",
      "To create a public link, set `share=True` in `launch()`.\n"
     ]
    },
    {
     "data": {
      "text/html": [
       "<div><iframe src=\"http://127.0.0.1:7860/\" width=\"100%\" height=\"500\" allow=\"autoplay; camera; microphone; clipboard-read; clipboard-write;\" frameborder=\"0\" allowfullscreen></iframe></div>"
      ],
      "text/plain": [
       "<IPython.core.display.HTML object>"
      ]
     },
     "metadata": {},
     "output_type": "display_data"
    },
    {
     "data": {
      "text/plain": []
     },
     "execution_count": 17,
     "metadata": {},
     "output_type": "execute_result"
    }
   ],
   "source": [
    "# Path to the downloaded shapefile (replace with your local path)\n",
    "shapefile_path = \"map/ne_110m_admin_0_countries.shp\"\n",
    "\n",
    "# Sample countries to highlight\n",
    "countries_to_highlight = [\"United States of America\", \"Brazil\", \"India\"]\n",
    "data_csv =pd.read_csv(\"Birds Voice.csv\")\n",
    "model = tf.keras.models.load_model('yamnet_classifier_model.h5')\n",
    "with open('label_encoder.pkl', 'rb') as f:\n",
    "    label_encoder_3 = pickle.load(f)\n",
    "\n",
    "def yamnet_embeddings(audio_data):\n",
    "    audio_data = np.squeeze(audio_data) \n",
    "    scores, embeddings, spectrogram = yamnet_model(audio_data)\n",
    "    return embeddings.numpy()  # Shape: (num_patches, 1024)\n",
    "\n",
    "def test_inf(audio):\n",
    "    sound = AudioSegment.from_mp3(audio)\n",
    "    sound = sound.set_frame_rate(16000)  # Resample to 16kHz\n",
    "    sound = sound.set_channels(1)        # Convert to mono\n",
    "    sound.export(\"wav_test/w_1\", format=\"wav\")\n",
    "    # Prepare the dataset by extracting embeddings\n",
    "    all_embeddings = []\n",
    "    audio_data = load_audio_file(\"wav_test/w_1\")\n",
    "    audio_data = np.reshape(audio_data, (1, -1))  # Reshape for batch dimension\n",
    "    embeddings = yamnet_embeddings(audio_data)\n",
    "    all_embeddings.append(np.mean(embeddings, axis=0))  # Use mean embedding\n",
    "    X = np.array(all_embeddings) \n",
    "    predd = model.predict(X)\n",
    "    predd_class_indices = predd.argmax(axis=1)\n",
    "    # Now pass these indices to inverse_transform\n",
    "    return label_encoder.inverse_transform(predd_class_indices)[0]\n",
    "\n",
    "\n",
    "# Create world map using Plotly\n",
    "def create_map(audio,country_spotted):\n",
    "\n",
    "    c_name = data_csv[data_csv.common_name == test_inf(audio)].scientific_name.iloc[0]\n",
    "    countries_seen = list(data_csv[data_csv.common_name == test_inf(audio)].Country.unique())\n",
    "    \n",
    "    # Load the world map from the shapefile\n",
    "    world = gpd.read_file(shapefile_path)\n",
    "\n",
    "    # Highlight the selected countries\n",
    "    highlighted_countries = world[world['NAME'].isin(countries_seen)]\n",
    "    \n",
    "    # Plot the map with highlighted countries\n",
    "    fig = px.choropleth(\n",
    "        highlighted_countries,\n",
    "        locations='NAME',\n",
    "        locationmode='country names',\n",
    "        color='NAME',\n",
    "        title=\"Countries visited by bird in its usual fly path\"\n",
    "    )\n",
    "    # Increase map size and reduce legend size\n",
    "    fig.update_layout(\n",
    "        width=800,  # Map width\n",
    "        height=500,  # Map height\n",
    "        legend=dict(\n",
    "            orientation=\"h\",   # Horizontal legend\n",
    "            yanchor=\"top\",     # Align legend at the top\n",
    "            y=-0.2,            # Position legend below the map\n",
    "            xanchor=\"center\",  # Center align legend\n",
    "            x=0.5,             # Center it horizontally\n",
    "            font=dict(size=10)  # Legend font size\n",
    "        )\n",
    "       \n",
    "        )\n",
    "    if country_spotted in countries_seen:\n",
    "        analysis = \"Bird spotted in its expected country.\"\n",
    "    else:\n",
    "        analysis = \"Bird spotted in acountry outside its migratory path. There is likely change in migratory path due to reasons such as climate change or deforestation.\"\n",
    "    return fig,test_inf(audio), c_name, countries_seen, analysis\n",
    "\n",
    "# Create Gradio interface\n",
    "iface = gr.Interface(\n",
    "    fn=create_map,\n",
    "    inputs=[ gr.Audio(type=\"filepath\", label=\"Andean Tinamou Sound\"),\n",
    "             gr.Textbox(value=\"Japan\", label=\"Enter Country of Spotting)\"),\n",
    "            ],\n",
    "    outputs=[gr.Plot(), gr.Textbox(value=\"Andean\", label=\"Audio belongs to the bird\"), gr.Textbox(value=\"Andean\", label=\"Scientific name is\"), \n",
    "             gr.Textbox(value=\"India, Australia\", label=\"Countries of Migration are\"),\n",
    "             gr.Textbox(value=\"Bird sighted in an expected country\", label=\"Analysis\")\n",
    "            ],\n",
    "    examples = [[\"Voice of Birds/Voice of Birds/Andean Tinamou_sound/Andean Tinamou2.mp3\"],[\"Voice of Birds/Voice of Birds/Andean Guan_sound/Andean Guan8.mp3\"],[ \"Voice of Birds/Voice of Birds/Common Ostrich_sound/Common Ostrich2.mp3\"]],\n",
    "    title=\"Migratory Birds tracking using audio signals\",\n",
    "    description=\"Upload audio of bird spotted along with country of spotting. Audio file should be around 5 to 20 seconds.\"\n",
    ")\n",
    "\n",
    "iface.launch()\n",
    "\n"
   ]
  }
 ],
 "metadata": {
  "kernelspec": {
   "display_name": ".venv",
   "language": "python",
   "name": "python3"
  },
  "language_info": {
   "codemirror_mode": {
    "name": "ipython",
    "version": 3
   },
   "file_extension": ".py",
   "mimetype": "text/x-python",
   "name": "python",
   "nbconvert_exporter": "python",
   "pygments_lexer": "ipython3",
   "version": "3.9.6"
  }
 },
 "nbformat": 4,
 "nbformat_minor": 2
}
